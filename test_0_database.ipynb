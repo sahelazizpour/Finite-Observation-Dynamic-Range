{
 "cells": [
  {
   "cell_type": "code",
   "execution_count": 20,
   "metadata": {},
   "outputs": [],
   "source": [
    "import sqlite3"
   ]
  },
  {
   "cell_type": "code",
   "execution_count": 21,
   "metadata": {},
   "outputs": [],
   "source": [
    "# connect to the database \n",
    "con = sqlite3.connect('./test.db')\n",
    "# create a cursor object\n",
    "cur = con.cursor()"
   ]
  },
  {
   "cell_type": "code",
   "execution_count": 22,
   "metadata": {},
   "outputs": [
    {
     "name": "stdout",
     "output_type": "stream",
     "text": [
      "[]\n"
     ]
    }
   ],
   "source": [
    "# show content of database\n",
    "cur.execute(\"SELECT name FROM sqlite_master\")\n",
    "print(cur.fetchall())"
   ]
  },
  {
   "cell_type": "code",
   "execution_count": 23,
   "metadata": {},
   "outputs": [
    {
     "name": "stdout",
     "output_type": "stream",
     "text": [
      "[(1,)]\n"
     ]
    }
   ],
   "source": [
    "# to link tables\n",
    "cur.execute(\"PRAGMA foreign_keys = ON;\")\n",
    "con.commit()\n",
    "cur.execute(\"PRAGMA foreign_keys;\")\n",
    "print(cur.fetchall())"
   ]
  },
  {
   "cell_type": "code",
   "execution_count": 24,
   "metadata": {},
   "outputs": [],
   "source": [
    "# create table that does not allow duplicates\n",
    "#cur.execute(\"DROP TABLE IF EXISTS simulations\")\n",
    "cur.execute(\"\"\"\n",
    "CREATE TABLE IF NOT EXISTS simulations (\n",
    "            simulation_id integer PRIMARY KEY,\n",
    "            N int NOT NULL,\n",
    "            K int NOT NULL,\n",
    "            lambda float NOT NULL,\n",
    "            mu float NOT NULL,\n",
    "            h float NOT NULL,\n",
    "            seed int NOT NULL,\n",
    "            raw_file TEXT NOT NULL\n",
    "            )\n",
    "\"\"\")\n",
    "cur.execute(\"CREATE UNIQUE INDEX parameters ON simulations (N,K,lambda,mu,h,seed);\")\n",
    "# can be dropped with cur.execute(\"DROP INDEX parameters;\") if needs to be redesigned\n",
    "con.commit()"
   ]
  },
  {
   "cell_type": "code",
   "execution_count": 25,
   "metadata": {},
   "outputs": [],
   "source": [
    "cur.execute(\"INSERT INTO simulations (N, K, lambda, mu, h, seed, raw_file) VALUES (?, ?, ?, ?, ?, ?, ?)\", (10000,10,1-1e-8,0.5,0.5,1,'./test.csv'))\n",
    "con.commit()"
   ]
  },
  {
   "cell_type": "code",
   "execution_count": 26,
   "metadata": {},
   "outputs": [
    {
     "name": "stdout",
     "output_type": "stream",
     "text": [
      "[(1, 10000, 10, 0.99999999, 0.5, 0.5, 1, './test.csv')]\n"
     ]
    }
   ],
   "source": [
    "cur.execute(\"SELECT * FROM simulations\")\n",
    "print(cur.fetchall())"
   ]
  },
  {
   "cell_type": "code",
   "execution_count": 27,
   "metadata": {},
   "outputs": [],
   "source": [
    "def insert_simulation(params):\n",
    "    # the sql command does not specify the values but only placeholders with ?\n",
    "    sql=f\"INSERT INTO simulations ({','.join(params.keys())}) VALUES ({','.join(['?']*len(params.keys()))})\"\n",
    "    # values are passed when executing the command\n",
    "    cur.execute(sql, list(params.values()))\n",
    "    con.commit()\n",
    "\n",
    "\n",
    "# add an example simulation to the table \n",
    "params={'N':1000, 'K':100, 'lambda':0.9, 'mu':0.2, 'h':0.01, 'seed':1000, 'raw_file':'path'}\n",
    "insert_simulation(params)\n",
    "# add another example simulation to the table\n",
    "params['lambda']=0.99\n",
    "insert_simulation(params)"
   ]
  },
  {
   "cell_type": "code",
   "execution_count": 28,
   "metadata": {},
   "outputs": [
    {
     "data": {
      "text/plain": [
       "[(1, 10000, 10, 0.99999999, 0.5, 0.5, 1, './test.csv'),\n",
       " (2, 1000, 100, 0.9, 0.2, 0.01, 1000, 'path'),\n",
       " (3, 1000, 100, 0.99, 0.2, 0.01, 1000, 'path')]"
      ]
     },
     "execution_count": 28,
     "metadata": {},
     "output_type": "execute_result"
    }
   ],
   "source": [
    "cur.execute(\"SELECT * FROM simulations\")\n",
    "cur.fetchall()"
   ]
  },
  {
   "cell_type": "code",
   "execution_count": 29,
   "metadata": {},
   "outputs": [
    {
     "name": "stdout",
     "output_type": "stream",
     "text": [
      "This simulation is already in the database\n",
      "[(1, 10000, 10, 0.99999999, 0.5, 0.5, 1, './test.csv'), (2, 1000, 100, 0.9, 0.2, 0.01, 1000, 'path'), (3, 1000, 100, 0.99, 0.2, 0.01, 1000, 'path')]\n"
     ]
    }
   ],
   "source": [
    "try:\n",
    "    # this cannot be added because it is already in the database\n",
    "    cur.execute(\"INSERT INTO simulations (N,K,lambda,mu,h,seed,raw_file) VALUES (1000, 100, 0.99, 0.2, 0.01, 1000, 'path')\")\n",
    "except sqlite3.IntegrityError:\n",
    "    print(\"This simulation is already in the database\")\n",
    "con.commit()\n",
    "cur.execute(\"SELECT * FROM simulations\")\n",
    "print(cur.fetchall())"
   ]
  },
  {
   "cell_type": "code",
   "execution_count": 30,
   "metadata": {},
   "outputs": [
    {
     "name": "stdout",
     "output_type": "stream",
     "text": [
      "IntegrityError because not all parameters are given\n"
     ]
    }
   ],
   "source": [
    "try:\n",
    "    cur.execute(\"INSERT INTO simulations (N) VALUES (1000)\")\n",
    "except sqlite3.IntegrityError:\n",
    "    print(\"IntegrityError because not all parameters are given\")\n"
   ]
  },
  {
   "cell_type": "code",
   "execution_count": 31,
   "metadata": {},
   "outputs": [
    {
     "name": "stdout",
     "output_type": "stream",
     "text": [
      "[('simulations',), ('parameters',), ('beta_approximations',), ('sqlite_autoindex_beta_approximations_1',)]\n"
     ]
    }
   ],
   "source": [
    "cur.execute(\"DROP TABLE IF EXISTS beta_approximations\")\n",
    "# add another table with beta approximation\n",
    "cur.execute(\"\"\"\n",
    "CREATE TABLE IF NOT EXISTS beta_approximations (\n",
    "            simulation_id INTEGER NOT NULL UNIQUE,\n",
    "            a float NOT NULL,\n",
    "            b float NOT NULL,\n",
    "            loc float NOT NULL,\n",
    "            scale float NOT NULL,\n",
    "            FOREIGN KEY (simulation_id) REFERENCES simulations (simulation_id)\n",
    "            )\n",
    "\"\"\")\n",
    "con.commit()\n",
    "cur.execute(\"SELECT name FROM sqlite_master\")\n",
    "print(cur.fetchall())\n"
   ]
  },
  {
   "cell_type": "code",
   "execution_count": 32,
   "metadata": {},
   "outputs": [
    {
     "name": "stdout",
     "output_type": "stream",
     "text": [
      "[(2, 0.9, 0.2, 0.01, 1000.0)]\n"
     ]
    }
   ],
   "source": [
    "# get simulation ID from simulations table\n",
    "params = {'N':1000, 'K':100, 'lambda':0.9, 'mu':0.2, 'h':0.01, 'seed':1000, 'raw_file':'path'}\n",
    "cur.execute(\"SELECT simulation_id FROM simulations WHERE N=:N AND K=:K AND lambda=:lambda AND mu=:mu AND h=:h AND seed=:seed AND raw_file=:raw_file\", params)\n",
    "simulation_id=cur.fetchone()[0]\n",
    "beta_approximation={'a':0.9, 'b':0.2, 'loc':0.01, 'scale':1000}\n",
    "cur.execute(f\"INSERT INTO beta_approximations (a,b,loc,scale, simulation_id) VALUES (0.9, 0.2, 0.01, 1000, {simulation_id})\")\n",
    "con.commit()\n",
    "cur.execute(\"SELECT * FROM beta_approximations\")\n",
    "print(cur.fetchall())"
   ]
  },
  {
   "cell_type": "code",
   "execution_count": 33,
   "metadata": {},
   "outputs": [
    {
     "name": "stdout",
     "output_type": "stream",
     "text": [
      "[(2, 0.9, 0.2, 0.01, 1000.0)]\n"
     ]
    }
   ],
   "source": [
    "# update value in approximation\n",
    "cur.execute(\"UPDATE beta_approximations SET a=0.99 WHERE simulation_id=1\")\n",
    "con.commit()\n",
    "cur.execute(\"SELECT * FROM beta_approximations\")\n",
    "print(cur.fetchall())"
   ]
  },
  {
   "cell_type": "code",
   "execution_count": 34,
   "metadata": {},
   "outputs": [
    {
     "data": {
      "text/plain": [
       "[(1, 10000, 10, 0.99999999, 0.5, 0.5, 1, './test.csv'),\n",
       " (2, 1000, 100, 0.9, 0.2, 0.01, 1000, 'path'),\n",
       " (3, 1000, 100, 0.99, 0.2, 0.01, 1000, 'path'),\n",
       " (4, 1000, 100, 0.0, 0.2, 0.01, 1000, 'path')]"
      ]
     },
     "execution_count": 34,
     "metadata": {},
     "output_type": "execute_result"
    }
   ],
   "source": [
    "# add a new simulation\n",
    "simulation={'N':1000, 'K':100, 'lambda':0.0, 'mu':0.2, 'h':0.01, 'seed':1000, 'raw_file':'path'}\n",
    "insert_simulation(simulation)\n",
    "cur.execute(\"SELECT * FROM simulations\")\n",
    "cur.fetchall()"
   ]
  },
  {
   "cell_type": "code",
   "execution_count": 35,
   "metadata": {},
   "outputs": [],
   "source": [
    "# close database\n",
    "con.close()\n",
    "# delete file\n",
    "import os\n",
    "os.remove('./test.db')"
   ]
  }
 ],
 "metadata": {
  "kernelspec": {
   "display_name": "finite-observation",
   "language": "python",
   "name": "python3"
  },
  "language_info": {
   "codemirror_mode": {
    "name": "ipython",
    "version": 3
   },
   "file_extension": ".py",
   "mimetype": "text/x-python",
   "name": "python",
   "nbconvert_exporter": "python",
   "pygments_lexer": "ipython3",
   "version": "3.11.9"
  }
 },
 "nbformat": 4,
 "nbformat_minor": 2
}
