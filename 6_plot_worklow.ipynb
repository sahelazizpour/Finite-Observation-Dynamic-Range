{
 "cells": [
  {
   "cell_type": "markdown",
   "metadata": {},
   "source": [
    "# Generate content for a figure to demonstrate the workflow of our analysis pipeline\n",
    "\n",
    "- distinguish 3 cases: analytic solution $T\\to\\infty$ (delta distr.), numerical solution with beta distribution fit, and analytic soltion $T\\to 0$ (compare to simulations)\n",
    "- For the numerical solution demonstrate a neural network that is used to interpolate the beta distribution fit\n",
    "- Then merge them in the step of a convolution\n",
    "- Illustrate the overlap determination similar\n",
    "\n",
    "Idea of figure: organize from left-to-right with 3 vertical initial approaches of which one is the data-driven case (maybe lowest); create here only the subplots that are combined in vector graphics tool"
   ]
  },
  {
   "cell_type": "code",
   "execution_count": 98,
   "metadata": {},
   "outputs": [
    {
     "name": "stdout",
     "output_type": "stream",
     "text": [
      "The autoreload extension is already loaded. To reload it, use:\n",
      "  %reload_ext autoreload\n"
     ]
    }
   ],
   "source": [
    "import scipy\n",
    "import numpy as np\n",
    "import matplotlib.pyplot as plt\n",
    "\n",
    "\n",
    "import os, sys\n",
    "rootpath = os.path.join(os.getcwd(), '.')\n",
    "sys.path.append(rootpath)\n",
    "from src.simulation import *\n",
    "from src.approximation import *\n",
    "from src.theory import *\n",
    "# reimport modules if they change\n",
    "%load_ext autoreload\n",
    "%autoreload 2"
   ]
  },
  {
   "cell_type": "code",
   "execution_count": 111,
   "metadata": {},
   "outputs": [],
   "source": [
    "# specify system parameters\n",
    "params = {\n",
    "    'N': 10000, # number of nodes\n",
    "    'K': 100, # number of connections per node\n",
    "    'mu': 0.2, # fraction of nodes that receive input\n",
    "    'seed': 1000, # seed (relevant only for simulations)\n",
    "}\n",
    "params['epsilon'] = 0.1\n",
    "params['sigma'] = 0.01\n",
    "dt = 1 #fixed time step\n",
    "\n",
    "lam_focus = 0.99\n",
    "win_focus = 1"
   ]
  },
  {
   "cell_type": "code",
   "execution_count": 112,
   "metadata": {},
   "outputs": [],
   "source": [
    "# image stuff\n",
    "cm = 1/2.54\n",
    "# set fontsize\n",
    "plt.rcParams.update({'font.size': 8})\n",
    "# things that should stay the same\n",
    "figsize_distribution = (6*cm, 3*cm)\n",
    "xticks_distribution = [0,1]\n",
    "yticks_distribution = [0, 50]\n",
    "ylim_distribution = [0,50] "
   ]
  },
  {
   "cell_type": "markdown",
   "metadata": {},
   "source": [
    "## Neural-network approach as baseline"
   ]
  },
  {
   "cell_type": "code",
   "execution_count": 100,
   "metadata": {},
   "outputs": [
    {
     "name": "stdout",
     "output_type": "stream",
     "text": [
      "./dat/beta_interpolation_N=10000_K=100_mu=0.2_seed=1000.pkl\n"
     ]
    }
   ],
   "source": [
    "# load filename of trained neural network\n",
    "import sqlite3\n",
    "con = sqlite3.connect('./simulations.db')\n",
    "cur = con.cursor()\n",
    "beta_interpolation = pd.read_sql_query(f\"SELECT * FROM beta_interpolations WHERE N={params['N']} AND K={params['K']} AND mu={params['mu']} AND seed={params['seed']}\", con)\n",
    "file_beta_interpolation = beta_interpolation['filename'].values[0]\n",
    "print(file_beta_interpolation)\n",
    "con.close()\n",
    "\n",
    "# activate function approximation with neural network\n",
    "import torch\n",
    "from torch import nn\n",
    "beta_approx = FunctionApproximation(filename=file_beta_interpolation)\n",
    "\n",
    "# define pmfs using the neural network\n",
    "support = np.arange(0, 1+4*params['sigma'], 1/params[\"N\"])\n",
    "support = np.concatenate((-support[::-1], support[1:]))\n",
    "pmf_norm = stats.norm.pdf(support, 0, params['sigma'])/params[\"N\"]\n",
    "\n",
    "def ml_pmf(window, lam, h):\n",
    "    a,b = beta_approx(lam, window, h)\n",
    "    # pmf as difference of cdf to ensure that the pmf is normalized\n",
    "    pmf_beta = np.diff(stats.beta.cdf(support, a, b, loc=beta_approx.params[\"loc\"], scale=beta_approx.params[\"scale\"]))\n",
    "    return pmf_beta\n",
    "\n",
    "def ml_pmf_noisy(window, lam, h):\n",
    "    pmf = ml_pmf(window, lam, h)\n",
    "    return np.convolve(pmf, pmf_norm, mode=\"same\")\n"
   ]
  },
  {
   "cell_type": "markdown",
   "metadata": {},
   "source": [
    "### Discriminable inputs from left and right"
   ]
  },
  {
   "cell_type": "code",
   "execution_count": 101,
   "metadata": {},
   "outputs": [
    {
     "name": "stdout",
     "output_type": "stream",
     "text": [
      "possible solution: h=0.0016922273754612907 with overlap to end of 1.6356837920102628e-289 ... accepted\n",
      "possible solution: h=0.004433017801206457 with overlap to end of 1.8961105214359283e-238 ... accepted\n",
      "possible solution: h=0.008252857530900123 with overlap to end of 7.237662223996765e-194 ... accepted\n",
      "possible solution: h=0.013202975094114153 with overlap to end of 3.9929825537494825e-154 ... accepted\n",
      "possible solution: h=0.019445113658833148 with overlap to end of 9.066824862814957e-120 ... accepted\n",
      "possible solution: h=0.027246028207457758 with overlap to end of 2.812762519099703e-91 ... accepted\n",
      "possible solution: h=0.03698342183041657 with overlap to end of 1.4029805964466532e-68 ... accepted\n",
      "possible solution: h=0.04916954814913324 with overlap to end of 3.509262617535286e-51 ... accepted\n",
      "possible solution: h=0.06449644996783327 with overlap to end of 2.607260933971335e-38 ... accepted\n",
      "possible solution: h=0.08391178180729615 with overlap to end of 4.663488043521869e-29 ... accepted\n",
      "possible solution: h=0.10875117395211929 with overlap to end of 1.662382213330943e-22 ... accepted\n",
      "possible solution: h=0.14097644204782014 with overlap to end of 1.9232196771898433e-17 ... accepted\n",
      "possible solution: h=0.18364807908171685 with overlap to end of 3.9300359246163565e-13 ... accepted\n",
      "possible solution: h=0.24194361509295811 with overlap to end of 1.7407742165769798e-09 ... accepted\n",
      "possible solution: h=0.32567676805635737 with overlap to end of 1.7203983475506954e-06 ... accepted\n",
      "possible solution: h=0.456758905494422 with overlap to end of 0.0003819295081367316 ... accepted\n",
      "possible solution: h=0.699306896037294 with overlap to end of 0.019039982263725396 ... accepted\n",
      "possible solution: h=1.398702055116963 with overlap to end of 0.22026540983723517 ... rejected\n",
      "possible solution: h=1.002390826638948 with overlap to end of 0.0 ... accepted\n",
      "possible solution: h=0.5826260227440977 with overlap to end of 1.3914e-319 ... accepted\n",
      "possible solution: h=0.39742674786953724 with overlap to end of 1.1758966009242585e-263 ... accepted\n",
      "possible solution: h=0.28892798560127514 with overlap to end of 3.372514441740906e-216 ... accepted\n",
      "possible solution: h=0.2168096100455269 with overlap to end of 3.631006015223723e-176 ... accepted\n",
      "possible solution: h=0.1654507556963643 with overlap to end of 1.696777731301072e-142 ... accepted\n",
      "possible solution: h=0.12733118418864003 with overlap to end of 3.098235062636279e-114 ... accepted\n",
      "possible solution: h=0.09828357658954935 with overlap to end of 1.443390834193955e-90 ... accepted\n",
      "possible solution: h=0.075757475167688 with overlap to end of 8.290271139453226e-71 ... accepted\n",
      "possible solution: h=0.058074867121987755 with overlap to end of 2.203601030480518e-54 ... accepted\n",
      "possible solution: h=0.04407276835670309 with overlap to end of 8.124657114565293e-41 ... accepted\n",
      "possible solution: h=0.032915471202059836 with overlap to end of 1.0166934712586304e-29 ... accepted\n",
      "possible solution: h=0.02398824980976301 with overlap to end of 8.749368444351902e-21 ... accepted\n",
      "possible solution: h=0.016835443701779335 with overlap to end of 8.881725518254917e-14 ... accepted\n",
      "possible solution: h=0.011124590942483558 with overlap to end of 1.617642926977438e-08 ... accepted\n",
      "possible solution: h=0.00662977594372352 with overlap to end of 7.685427942994746e-05 ... accepted\n",
      "possible solution: h=0.003231974629295204 with overlap to end of 0.014882486330178862 ... accepted\n",
      "possible solution: h=0.000918414432060865 with overlap to end of 0.22520867872575714 ... rejected\n"
     ]
    }
   ],
   "source": [
    "# calculate discriminable inputs from simulation-constrained h-range\n",
    "h_range = beta_approx.input_range[beta_approx.input_names.index(\"h\")]\n",
    "\n",
    "ml_pmf_ = lambda h: ml_pmf_noisy(win_focus, lam_focus, h)\n",
    "\n",
    "pmf_ref_left = (\n",
    "    stats.norm.pdf(\n",
    "        support, mean_field_activity(lam_focus, params[\"mu\"], 0), params[\"sigma\"]\n",
    "    )\n",
    "    / params[\"N\"]\n",
    ")\n",
    "pmf_ref_right = (\n",
    "    stats.norm.pdf(\n",
    "        support, mean_field_activity(lam_focus, params[\"mu\"], 1e3), params[\"sigma\"]\n",
    "    )\n",
    "    / params[\"N\"]\n",
    ")\n",
    "pmf_refs = [pmf_ref_left, pmf_ref_right]\n",
    "hs_left = find_discriminable_inputs(\n",
    "    ml_pmf_, h_range, pmf_refs, params[\"epsilon\"], start=\"left\", verbose=True\n",
    ")\n",
    "hs_right = find_discriminable_inputs(\n",
    "    ml_pmf_, h_range, pmf_refs, params[\"epsilon\"], start=\"right\", verbose=True\n",
    ")"
   ]
  },
  {
   "cell_type": "code",
   "execution_count": 134,
   "metadata": {},
   "outputs": [
    {
     "data": {
      "image/png": "[encoded data removed]",
      "text/plain": [
       "<Figure size 236.22x118.11 with 1 Axes>"
      ]
     },
     "metadata": {},
     "output_type": "display_data"
    },
    {
     "data": {
      "image/png": "[encoded data removed]",
      "text/plain": [
       "<Figure size 236.22x118.11 with 1 Axes>"
      ]
     },
     "metadata": {},
     "output_type": "display_data"
    }
   ],
   "source": [
    "# plot probability distributions p(o|h) for hs_left and hs_right in two plots with reference distributions (integral = sum pmf(x)* \\delta x = 1)\n",
    "for j, hs in enumerate([hs_left, hs_right]):\n",
    "    fig, ax = plt.subplots(1, 1, figsize=figsize_distribution)\n",
    "    axes = [ax]\n",
    "    N = params[\"N\"]\n",
    "\n",
    "    axes[0].plot(support, pmf_ref_left*params[\"N\"], color=\"black\")\n",
    "    axes[0].plot(support, pmf_ref_right*params[\"N\"], color=\"black\")\n",
    "    for i, h in enumerate(hs):\n",
    "        color = \"firebrick\" if i == 0 else \"darkgray\"\n",
    "        axes[0].plot(support, ml_pmf_(h)*params[\"N\"], color=color)\n",
    "    # set xlabel to the right of the spline\n",
    "    axes[0].set_xlabel(r\"output $\\hat{o}$\", labelpad=-5)\n",
    "    axes[0].set_ylabel(r\"$p(\\hat{o}|h)$\")\n",
    "    axes[0].set_xlim(-3 * params[\"sigma\"], (1 + 3 * params[\"sigma\"]))\n",
    "    axes[0].set_ylim(ylim_distribution)\n",
    "    axes[0].set_xticks(xticks_distribution)\n",
    "    axes[0].set_yticks(yticks_distribution)\n",
    "    # remove top and right spines\n",
    "    axes[0].spines[\"top\"].set_visible(False)\n",
    "    axes[0].spines[\"right\"].set_visible(False)\n",
    "    plt.show()\n",
    "    # save as pdf\n",
    "    if i == 0:\n",
    "        fig.savefig(\"./figures/fig_methods_discriminable_left.pdf\".format(j), bbox_inches=\"tight\")\n",
    "    if i == 1:\n",
    "        fig.savefig(\"./figures/fig_methods_discriminable_right.pdf\".format(j), bbox_inches=\"tight\")"
   ]
  },
  {
   "cell_type": "markdown",
   "metadata": {},
   "source": [
    "### Gaussian convolution demonstrated for a selection"
   ]
  },
  {
   "cell_type": "code",
   "execution_count": 103,
   "metadata": {},
   "outputs": [
    {
     "name": "stdout",
     "output_type": "stream",
     "text": [
      "[0.0016922273754612907, 0.004433017801206457, 0.008252857530900123, 0.013202975094114153, 0.019445113658833148, 0.027246028207457758, 0.03698342183041657, 0.04916954814913324, 0.06449644996783327, 0.08391178180729615, 0.10875117395211929, 0.14097644204782014, 0.18364807908171685, 0.24194361509295811, 0.32567676805635737, 0.456758905494422, 0.699306896037294]\n",
      "17 17\n",
      "[0.0016922273754612907, 0.019445113658833148, 0.06449644996783327, 0.2168096100455269, 1.002390826638948]\n"
     ]
    }
   ],
   "source": [
    "print(hs_left)\n",
    "print(len(hs_left), len(hs_right))\n",
    "#hs_sel = [hs_left[0], hs_left[len(hs_left)//4], hs_left[len(hs_left)//2], hs_right[len(hs_right)//4], hs_right[0]]\n",
    "hs_sel = [hs_left[0], hs_left[4], hs_left[len(hs_left)//2], hs_right[4], hs_right[0]]\n",
    "print(hs_sel)"
   ]
  },
  {
   "cell_type": "code",
   "execution_count": 117,
   "metadata": {},
   "outputs": [
    {
     "data": {
      "image/png": "[encoded data removed]",
      "text/plain": [
       "<Figure size 236.22x118.11 with 1 Axes>"
      ]
     },
     "metadata": {},
     "output_type": "display_data"
    }
   ],
   "source": [
    "# plot neural network approximation for the selected h values together with the convolution with the normal distribution \n",
    "fig, ax = plt.subplots(1, 1, figsize=figsize_distribution)\n",
    "axes = [ax]\n",
    "N = params[\"N\"]\n",
    "\n",
    "for h in hs_sel:\n",
    "    # network activity\n",
    "    pmf = ml_pmf(window=win_focus, h=h, lam=lam_focus)\n",
    "    axes[0].plot(support[1:], pmf*params[\"N\"], color='#008000')\n",
    "\n",
    "    # Gaussian convolution\n",
    "    pmf = ml_pmf_noisy(window=win_focus, h=h, lam=lam_focus)\n",
    "    axes[0].plot(support, pmf*params[\"N\"], color=color)\n",
    "axes[0].set_xlabel(r\"output $\\hat{o}$\", labelpad=-5)\n",
    "axes[0].set_ylabel(r\"$p(\\hat{o}|h)$\")\n",
    "axes[0].set_xlim(-3*params[\"sigma\"], (1 + 3*params[\"sigma\"]))\n",
    "axes[0].set_ylim(ylim_distribution)\n",
    "axes[0].set_xticks(xticks_distribution)\n",
    "axes[0].set_yticks(yticks_distribution)\n",
    "# remove top and right spines\n",
    "axes[0].spines['top'].set_visible(False)\n",
    "axes[0].spines['right'].set_visible(False)\n",
    "plt.show()\n",
    "# save as pdf\n",
    "fig.savefig(\"./figures/fig_methods_gaussian_convolution.pdf\", bbox_inches=\"tight\")"
   ]
  },
  {
   "cell_type": "code",
   "execution_count": 135,
   "metadata": {},
   "outputs": [
    {
     "data": {
      "image/png": "[encoded data removed]",
      "text/plain": [
       "<Figure size 236.22x118.11 with 1 Axes>"
      ]
     },
     "metadata": {},
     "output_type": "display_data"
    }
   ],
   "source": [
    "# plot ml_pmf compared to histrogram from simulation\n",
    "fig, ax = plt.subplots(1, 1, figsize=figsize_distribution)\n",
    "axes = [ax]\n",
    "N = params[\"N\"]\n",
    "\n",
    "for h in hs_sel:\n",
    "    # window large (1e4)\n",
    "    pmf = ml_pmf(window=int(1e4), h=h, lam=lam_focus)\n",
    "    axes[0].plot(support[1:], pmf*params[\"N\"], color='#8B0000')\n",
    "\n",
    "    # simulation data\n",
    "    \n",
    "\n",
    "    # Winwdow focus (1)\n",
    "    pmf = ml_pmf(window=win_focus, h=h, lam=lam_focus)\n",
    "    axes[0].plot(support[1:], pmf*params[\"N\"], color='#008000')\n",
    "\n",
    "\n",
    "axes[0].set_xlabel(r\"output $\\hat{o}$\", labelpad=-5)\n",
    "axes[0].set_ylabel(r\"$p(\\hat{o}|h)$\")\n",
    "axes[0].set_xlim(-3*params[\"sigma\"], (1 + 3*params[\"sigma\"]))\n",
    "axes[0].set_ylim(ylim_distribution)\n",
    "axes[0].set_xticks(xticks_distribution)\n",
    "axes[0].set_yticks(yticks_distribution)\n",
    "# remove top and right spines\n",
    "axes[0].spines['top'].set_visible(False)\n",
    "axes[0].spines['right'].set_visible(False)\n",
    "plt.show()\n",
    "# save as pdf\n",
    "#fig.savefig(\"./figures/fig_methods_examples_simulation.pdf\", bbox_inches=\"tight\")"
   ]
  },
  {
   "cell_type": "markdown",
   "metadata": {},
   "source": [
    "## Case $T\\to 0$"
   ]
  },
  {
   "cell_type": "code",
   "execution_count": 105,
   "metadata": {},
   "outputs": [],
   "source": [
    "# get discriminable inputs (maybe some of this should be outsourced to the theory module?\n",
    "support_bound = int(params[\"N\"] * (1 + 4 * params[\"sigma\"]))\n",
    "fp_support = np.arange(-support_bound, support_bound + 1)\n",
    "fp_pmf_norm = stats.norm.pdf(fp_support, 0, params[\"N\"] * params[\"sigma\"])\n",
    "\n",
    "def fp_pmf(lam,h):\n",
    "    return x, pmf_from_coupled_fokker_planck(params, h=h, lam=lam)\n",
    "\n",
    "def fp_pmf_noise(lam, h):\n",
    "    x, pmf = fp_pmf(lam, h)\n",
    "    tmp_pmf = np.zeros_like(fp_support, dtype=np.float64)\n",
    "    mask = np.where(np.isin(fp_support, x))\n",
    "    tmp_pmf[mask] = pmf\n",
    "    # convolution with normal distribution\n",
    "    return np.convolve(tmp_pmf, fp_pmf_norm, mode=\"same\")\n",
    "\n",
    "pmf_ = lambda h: fp_pmf_noise(lam_focus, h)\n",
    "\n",
    "# # determine h range self-consistently from mean-field solution\n",
    "# a_min = 0.1 * params[\"sigma\"] * params[\"mu\"]\n",
    "# h_left = -np.log((1 - a_min) / (1 - lam * a_min)) / params[\"mu\"]\n",
    "# a_max = 1 - 0.1 * params[\"sigma\"]\n",
    "# h_right = -np.log((1 - a_max) / (1 - lam * a_max))\n",
    "# h_range = (h_left, h_right)\n",
    "\n",
    "# # reference distributions\n",
    "# ref_left = stats.norm.pdf(\n",
    "#     fp_support,\n",
    "#     params[\"N\"] * mean_field_activity(lam, params[\"mu\"], h=0),\n",
    "#     params[\"N\"] * params[\"sigma\"],\n",
    "# )\n",
    "# ref_right = stats.norm.pdf(\n",
    "#     fp_support,\n",
    "#     params[\"N\"] * mean_field_activity(lam, params[\"mu\"], h=np.inf),\n",
    "#     params[\"N\"] * params[\"sigma\"],\n",
    "# )\n",
    "# pmf_refs = [ref_left, ref_right]\n",
    "\n",
    "# hs_left = find_discriminable_inputs(\n",
    "#     pmf_o_given_h, h_range, pmf_refs, params[\"epsilon\"], start=\"left\"\n",
    "# )\n",
    "# hs_right = find_discriminable_inputs(\n",
    "#     pmf_o_given_h, h_range, pmf_refs, params[\"epsilon\"], start=\"right\"\n",
    "# )"
   ]
  },
  {
   "cell_type": "code",
   "execution_count": null,
   "metadata": {},
   "outputs": [],
   "source": [
    "# plot analytic solution compared to simulations with T=1\n"
   ]
  }
 ],
 "metadata": {
  "kernelspec": {
   "display_name": "finite-observation",
   "language": "python",
   "name": "python3"
  },
  "language_info": {
   "codemirror_mode": {
    "name": "ipython",
    "version": 3
   },
   "file_extension": ".py",
   "mimetype": "text/x-python",
   "name": "python",
   "nbconvert_exporter": "python",
   "pygments_lexer": "ipython3",
   "version": "3.11.6"
  }
 },
 "nbformat": 4,
 "nbformat_minor": 2
}
