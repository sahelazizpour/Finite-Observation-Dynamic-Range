{
 "cells": [
  {
   "cell_type": "markdown",
   "metadata": {},
   "source": [
    "# Generate content for a figure to demonstrate the workflow of our analysis pipeline\n",
    "\n",
    "- distinguish 3 cases: analytic solution $T\\to\\infty$ (delta distr.), numerical solution with beta distribution fit, and analytic soltion $T\\to 0$ (compare to simulations)\n",
    "- For the numerical solution demonstrate a neural network that is used to interpolate the beta distribution fit\n",
    "- Then merge them in the step of a convolution\n",
    "- Illustrate the overlap determination similar\n",
    "\n",
    "Idea of figure: organize from left-to-right with 3 vertical initial approaches of which one is the data-driven case (maybe lowest); create here only the subplots that are combined in vector graphics tool"
   ]
  },
  {
   "cell_type": "code",
   "execution_count": 1,
   "metadata": {},
   "outputs": [],
   "source": [
    "import numpy as np\n",
    "import matplotlib.pyplot as plt\n",
    "\n",
    "import os, sys\n",
    "rootpath = os.path.join(os.getcwd(), '.')\n",
    "sys.path.append(rootpath)\n",
    "from src.simulation import *\n",
    "from src.approximation import *\n",
    "from src.theory import *\n",
    "# reimport modules if they change\n",
    "%load_ext autoreload\n",
    "%autoreload 2"
   ]
  },
  {
   "cell_type": "markdown",
   "metadata": {},
   "source": [
    "## Figure settings"
   ]
  },
  {
   "cell_type": "code",
   "execution_count": 2,
   "metadata": {},
   "outputs": [],
   "source": [
    "cm = 1/2.54\n",
    "# set fontsize\n",
    "plt.rcParams.update({'font.size': 8})\n",
    "plt.rcParams['xtick.labelsize'] = 6\n",
    "plt.rcParams['ytick.labelsize'] = 6\n",
    "# things that should stay the same\n",
    "figsize_distribution = (5*cm, 2.5*cm)\n",
    "xticks_distribution = [0,1]\n",
    "yticks_distribution = [0, 40]\n",
    "ylim_distribution = [0,40] \n",
    "kwargs_distribution = {\n",
    "    'transparent': True,\n",
    "    'dpi': 300,\n",
    "    'bbox_inches': 'tight',\n",
    "}\n",
    "\n",
    "figsize_beta = (4*cm, 2.0*cm)\n",
    "\n",
    "focus_windows = [1e0,1e1,1e2,1e3,1e4]\n",
    "\n",
    "with_labels=False"
   ]
  },
  {
   "cell_type": "code",
   "execution_count": 3,
   "metadata": {},
   "outputs": [],
   "source": [
    "from matplotlib.colors import LinearSegmentedColormap\n",
    "custom_colors = [\n",
    "    (0, \"white\"),\n",
    "    (0.3, \"#FEEB65\"),\n",
    "    (0.65, \"#E4521B\"),\n",
    "    (0.85, \"#4D342F\"),\n",
    "    (1, \"black\"),\n",
    "]\n",
    "cmap = LinearSegmentedColormap.from_list(\"custom_cmap\", custom_colors, N=512)\n",
    "window_colors = [cmap( (idx+1) / (len(focus_windows)+1) ) for idx in range(len(focus_windows))]"
   ]
  },
  {
   "cell_type": "markdown",
   "metadata": {},
   "source": [
    "## System setting"
   ]
  },
  {
   "cell_type": "code",
   "execution_count": 4,
   "metadata": {},
   "outputs": [
    {
     "name": "stdout",
     "output_type": "stream",
     "text": [
      "lambda: 0.999\n",
      "window: 100.0\n"
     ]
    }
   ],
   "source": [
    "# specify system parameters\n",
    "params = {\n",
    "    'N': 10000, # number of nodes\n",
    "    'K': 100, # number of connections per node\n",
    "    'mu': 0.2, # fraction of nodes that receive input\n",
    "    'seed': 1000, # seed (relevant only for simulations)\n",
    "}\n",
    "params['epsilon'] = 0.1\n",
    "params['sigma'] = 0.01\n",
    "dt = 1 #fixed time step\n",
    "\n",
    "lam_focus = 1 - 10**(-3)\n",
    "win_focus = 1e2\n",
    "windows = [1e0,1e2,1e4]\n",
    "\n",
    "print('lambda:', lam_focus)\n",
    "print('window:', win_focus)"
   ]
  },
  {
   "cell_type": "code",
   "execution_count": 5,
   "metadata": {},
   "outputs": [],
   "source": [
    "import h5py\n",
    "filename = f'./dat/fig_methods_preprocesed_data.h5'\n",
    "# if file does not exist, create it\n",
    "if not os.path.exists(filename):\n",
    "    with h5py.File(filename, 'w') as f:\n",
    "        pass"
   ]
  },
  {
   "cell_type": "markdown",
   "metadata": {},
   "source": [
    "## $T\\to0$ solution"
   ]
  },
  {
   "cell_type": "code",
   "execution_count": 6,
   "metadata": {},
   "outputs": [],
   "source": [
    "# get discriminable inputs (maybe some of this should be outsourced to the theory module?\n",
    "support_bound = int(params[\"N\"] * (1 + 4 * params[\"sigma\"]))\n",
    "fp_support = np.arange(-support_bound, support_bound + 1)\n",
    "fp_pmf_norm = stats.norm.pdf(fp_support, 0, params[\"N\"] * params[\"sigma\"])\n",
    "\n",
    "def fp_pmf(lam,h):\n",
    "    return pmf_from_coupled_fokker_planck(params, h=h, lam=lam)\n",
    "\n",
    "def fp_pmf_noise(lam, h):\n",
    "    x, pmf = fp_pmf(lam, h)\n",
    "    tmp_pmf = np.zeros_like(fp_support, dtype=np.float64)\n",
    "    mask = np.where(np.isin(fp_support, x))\n",
    "    tmp_pmf[mask] = pmf\n",
    "    # convolution with normal distribution\n",
    "    return np.convolve(tmp_pmf, fp_pmf_norm, mode=\"same\")\n",
    "\n",
    "fp_pmf_ = lambda h: fp_pmf_noise(lam_focus, h)"
   ]
  },
  {
   "cell_type": "markdown",
   "metadata": {},
   "source": [
    "## Load ML Beta Approximation"
   ]
  },
  {
   "cell_type": "code",
   "execution_count": 7,
   "metadata": {},
   "outputs": [],
   "source": [
    "# get neural network file from database\n",
    "import sqlite3\n",
    "import pandas as pd\n",
    "con = sqlite3.connect('./simulations.db')\n",
    "cur = con.cursor()\n",
    "beta_interpolation = pd.read_sql_query(\n",
    "        f\"SELECT * FROM beta_interpolations WHERE N={params['N']} AND K={params['K']} AND mu={params['mu']} AND seed={params['seed']}\",\n",
    "        con\n",
    "    )\n",
    "con.close()\n",
    "\n",
    "\n",
    "# activate function approximation with neural network\n",
    "import torch\n",
    "from torch import nn\n",
    "beta_approx = FunctionApproximation(filename=beta_interpolation[\"filename\"].values[0])\n",
    "\n",
    "# define pmfs using the neural network\n",
    "ml_support = np.arange(0, 1+4*params['sigma'], 1/params[\"N\"])\n",
    "ml_support = np.concatenate((-ml_support[::-1], ml_support[1:]))\n",
    "ml_pmf_norm = stats.norm.pdf(ml_support, 0, params['sigma'])/params[\"N\"]\n",
    "\n",
    "def ml_pmf(window, lam, h):\n",
    "    a,b = beta_approx(lam, window, h)\n",
    "    # pmf as difference of cdf to ensure that the pmf is normalized\n",
    "    pmf_beta = np.diff(stats.beta.cdf(ml_support, a, b, loc=beta_approx.params[\"loc\"], scale=beta_approx.params[\"scale\"]))\n",
    "    return pmf_beta\n",
    "\n",
    "def ml_pmf_noisy(window, lam, h):\n",
    "    pmf = ml_pmf(window, lam, h)\n",
    "    return np.convolve(pmf, ml_pmf_norm, mode=\"same\")\n",
    "\n",
    "ml_pmf_ = lambda h: ml_pmf_noisy(win_focus, lam_focus, h)"
   ]
  },
  {
   "cell_type": "markdown",
   "metadata": {},
   "source": [
    "## Load example distributions from simulations"
   ]
  },
  {
   "cell_type": "code",
   "execution_count": 8,
   "metadata": {},
   "outputs": [
    {
     "name": "stdout",
     "output_type": "stream",
     "text": [
      "number of matching simulations 175\n",
      "unique hs: [3.16227766e-07 5.62341325e-07 1.00000000e-06 1.77827941e-06\n",
      " 3.16227766e-06 5.62341325e-06 1.00000000e-05 1.77827941e-05\n",
      " 3.16227766e-05 5.62341325e-05 1.00000000e-04 1.77827941e-04\n",
      " 3.16227766e-04 5.62341325e-04 1.00000000e-03 1.77827941e-03\n",
      " 3.16227766e-03 5.62341325e-03 1.00000000e-02 1.77827941e-02\n",
      " 3.16227766e-02 5.62341325e-02 1.00000000e-01 1.77827941e-01\n",
      " 3.16227766e-01 5.62341325e-01 1.00000000e+00 1.77827941e+00\n",
      " 3.16227766e+00 5.62341325e+00 1.00000000e+01 1.77827941e+01\n",
      " 3.16227766e+01 5.62341325e+01 1.00000000e+02]\n"
     ]
    }
   ],
   "source": [
    "import sqlite3\n",
    "# load pandas dataframe with simulations correspinding to focus parameters\n",
    "con = sqlite3.connect('./simulations.db')\n",
    "cur = con.cursor()\n",
    "simulations = pd.read_sql_query(f\"SELECT * FROM simulations WHERE N={params['N']} AND K={params['K']} AND mu={params['mu']} AND seed={params['seed']} AND lambda={lam_focus}\", con)\n",
    "con.close()\n",
    "print(f\"number of matching simulations {len(simulations)}\")\n",
    "hs_sim = np.sort(np.unique(simulations['h'].values))\n",
    "print(f\"unique hs: {hs_sim}\")\n"
   ]
  },
  {
   "cell_type": "code",
   "execution_count": 9,
   "metadata": {},
   "outputs": [
    {
     "name": "stdout",
     "output_type": "stream",
     "text": [
      "example_hs: [5.623413251903491e-05, 0.0017782794100389228, 0.005623413251903491, 0.01778279410038923, 0.31622776601683794]\n"
     ]
    }
   ],
   "source": [
    "sigma=params[\"sigma\"]\n",
    "a_min = mean_field_activity(lam_focus, params['mu'],0) \n",
    "a_max = mean_field_activity(lam_focus, params['mu'],1e2)\n",
    "example_as = [a_min + sigma, 0.25, 0.5, 0.75, a_max-sigma]\n",
    "\n",
    "from scipy import optimize\n",
    "# find hs that are close to the mean-field solution of example_as\n",
    "example_hs = []\n",
    "for a in example_as:\n",
    "    # find h_mf so that a = mean_field_activity using bisection\n",
    "    def func(h):\n",
    "        return mean_field_activity(lam_focus, params['mu'],h) - a\n",
    "    h_mf = optimize.bisect(func, 0, 1e2)\n",
    "\n",
    "    # find h from simulation parameters that are close to h_mf\n",
    "    h = hs_sim[np.argmin(np.abs(hs_sim-h_mf))]\n",
    "    \n",
    "    example_hs.append(h)\n",
    "\n",
    "print('example_hs:', example_hs)"
   ]
  },
  {
   "cell_type": "code",
   "execution_count": 10,
   "metadata": {},
   "outputs": [
    {
     "name": "stdout",
     "output_type": "stream",
     "text": [
      "Loading histogram for simulation data with window=1.0 and h=5.623413251903491e-05 from preprocessed file\n",
      "Loading histogram for simulation data with window=100.0 and h=5.623413251903491e-05 from preprocessed file\n",
      "Loading histogram for simulation data with window=10000.0 and h=5.623413251903491e-05 from preprocessed file\n",
      "Loading histogram for simulation data with window=1.0 and h=0.0017782794100389228 from preprocessed file\n",
      "Loading histogram for simulation data with window=100.0 and h=0.0017782794100389228 from preprocessed file\n",
      "Loading histogram for simulation data with window=10000.0 and h=0.0017782794100389228 from preprocessed file\n",
      "Loading histogram for simulation data with window=1.0 and h=0.005623413251903491 from preprocessed file\n",
      "Loading histogram for simulation data with window=100.0 and h=0.005623413251903491 from preprocessed file\n",
      "Loading histogram for simulation data with window=10000.0 and h=0.005623413251903491 from preprocessed file\n",
      "Loading histogram for simulation data with window=1.0 and h=0.01778279410038923 from preprocessed file\n",
      "Loading histogram for simulation data with window=100.0 and h=0.01778279410038923 from preprocessed file\n",
      "Loading histogram for simulation data with window=10000.0 and h=0.01778279410038923 from preprocessed file\n",
      "Loading histogram for simulation data with window=1.0 and h=0.31622776601683794 from preprocessed file\n",
      "Loading histogram for simulation data with window=100.0 and h=0.31622776601683794 from preprocessed file\n",
      "Loading histogram for simulation data with window=10000.0 and h=0.31622776601683794 from preprocessed file\n"
     ]
    }
   ],
   "source": [
    "# load filename of trained neural network\n",
    "sim_hist = dict()\n",
    "for h in example_hs:\n",
    "    sim_hist[h] = dict()\n",
    "    for window in windows:\n",
    "\n",
    "        dset = f\"simulation/lambda={lam_focus}/h={h}/window={window}\"\n",
    "        with h5py.File(filename, 'a') as f:\n",
    "            if dset in f:\n",
    "                print(f\"Loading histogram for simulation data with window={window} and h={h} from preprocessed file\")\n",
    "                x, hist = f[dset][()]\n",
    "            else:\n",
    "                print(\"Determine histogram for simulation data based on file in scratch\")\n",
    "                # load simulation data from pandas frame simulations\n",
    "                sim = simulations[(simulations['h'] == h) & (simulations['window'] == window)]\n",
    "                if len(sim) == 0:\n",
    "                    print(f\"no simulation data for h={h} and window={window}\")\n",
    "                    continue\n",
    "                # load data from dataset \n",
    "                with h5py.File(sim['raw_file'].values[0], 'r') as fsim:\n",
    "                    data = np.array(fsim[sim['dataset'].values[0]])\n",
    "                # calculate histogram\n",
    "                support = np.linspace(0,1,N+2)\n",
    "                delta = 1/params[\"N\"]\n",
    "                hist = np.histogram(data, bins=support, density=False)[0]\n",
    "                x = support[:-1]\n",
    "                # create as dataset\n",
    "                f.create_dataset(dset, data=(x,hist))\n",
    "            # add to dictionary\n",
    "            sim_hist[h][window] = (x,hist)"
   ]
  },
  {
   "cell_type": "markdown",
   "metadata": {},
   "source": [
    "## Example distributions"
   ]
  },
  {
   "cell_type": "markdown",
   "metadata": {},
   "source": [
    "### Distributions from $T\\to\\infty$ solution with $T=10^4$ simulations"
   ]
  },
  {
   "cell_type": "code",
   "execution_count": 11,
   "metadata": {},
   "outputs": [
    {
     "data": {
      "image/png": "[encoded data removed]",
      "text/plain": [
       "<Figure size 196.85x98.4252 with 1 Axes>"
      ]
     },
     "metadata": {},
     "output_type": "display_data"
    }
   ],
   "source": [
    "# plot analytic solution compared to simulations with T=1\n",
    "fig, ax = plt.subplots(1, 1, figsize=figsize_distribution)\n",
    "axes = [ax]\n",
    "N = params[\"N\"]\n",
    "\n",
    "for h in example_hs:\n",
    "    # simulation data with T=10^4\n",
    "    x,hist = sim_hist[h][10000]\n",
    "    # plot histogram as bar plot\n",
    "    #axes[0].fill_between(x, hist/np.sum(hist)*params[\"N\"], alpha=1, color=window_colors[4])\n",
    "\n",
    "    # analytic solution (mean-field)\n",
    "    pmf = np.zeros_like(x)\n",
    "    a_mf = mean_field_activity(lam_focus, params['mu'], h)\n",
    "    # find closest x to a_mf\n",
    "    idx = np.argmin(np.abs(x - a_mf))\n",
    "    pmf[idx] = 1\n",
    "    axes[0].plot(x, pmf*params[\"N\"], color='black')\n",
    "\n",
    "# axes[0].set_xlabel(r\"output $\\hat{o}$\", labelpad=-5)\n",
    "# axes[0].set_ylabel(r\"$p(\\hat{o}|h)$\")\n",
    "axes[0].set_xlim(-3*params[\"sigma\"], (1 + 3*params[\"sigma\"]))\n",
    "axes[0].set_ylim(ylim_distribution)\n",
    "axes[0].set_xticks(xticks_distribution)\n",
    "axes[0].set_yticks(yticks_distribution)\n",
    "# remove top and right spines\n",
    "axes[0].spines['top'].set_visible(False)\n",
    "axes[0].spines['right'].set_visible(False)\n",
    "plt.show()\n",
    "# save as pdf\n",
    "fig.savefig(\"./figures/fig_methods_examples_mean-field.pdf\", **kwargs_distribution)"
   ]
  },
  {
   "cell_type": "markdown",
   "metadata": {},
   "source": [
    "### Distributions from ML Beta solution with $T=10^2$ simulations"
   ]
  },
  {
   "cell_type": "code",
   "execution_count": 23,
   "metadata": {},
   "outputs": [
    {
     "data": {
      "image/png": "[encoded data removed]",
      "text/plain": [
       "<Figure size 196.85x98.4252 with 1 Axes>"
      ]
     },
     "metadata": {},
     "output_type": "display_data"
    }
   ],
   "source": [
    "# plot analytic solution compared to simulations with T=1\n",
    "fig, ax = plt.subplots(1, 1, figsize=figsize_distribution)\n",
    "axes = [ax]\n",
    "N = params[\"N\"]\n",
    "\n",
    "for h in example_hs:\n",
    "    # simulation data with T=1\n",
    "    x,hist = sim_hist[h][100]\n",
    "    # plot histogram as filled area\n",
    "    axes[0].fill_between(x, hist/np.sum(hist)*params[\"N\"], alpha=0.2, color=window_colors[2], rasterized=True)\n",
    "\n",
    "    # ML solution\n",
    "    pmf = ml_pmf(100, lam_focus, h)\n",
    "    axes[0].plot(ml_support[1:], pmf*params[\"N\"], color=window_colors[2], linestyle='--')\n",
    "\n",
    "# axes[0].set_xlabel(r\"output $\\hat{o}$\", labelpad=-5)\n",
    "# axes[0].set_ylabel(r\"$p(\\hat{o}|h)$\")\n",
    "axes[0].set_xlim(-3*params[\"sigma\"], (1 + 3*params[\"sigma\"]))\n",
    "axes[0].set_ylim(ylim_distribution)\n",
    "axes[0].set_xticks(xticks_distribution)\n",
    "axes[0].set_yticks(yticks_distribution)\n",
    "# remove top and right spines\n",
    "axes[0].spines['top'].set_visible(False)\n",
    "axes[0].spines['right'].set_visible(False)\n",
    "plt.show()\n",
    "# save as pdf\n",
    "fig.savefig(\"./figures/fig_methods_examples_MLbeta.pdf\", **kwargs_distribution)\n"
   ]
  },
  {
   "cell_type": "markdown",
   "metadata": {},
   "source": [
    "### Distributions from $T\\to 0$ solution with $T=1$ simulations"
   ]
  },
  {
   "cell_type": "code",
   "execution_count": 26,
   "metadata": {},
   "outputs": [
    {
     "data": {
      "image/png": "[encoded data removed]",
      "text/plain": [
       "<Figure size 196.85x98.4252 with 1 Axes>"
      ]
     },
     "metadata": {},
     "output_type": "display_data"
    }
   ],
   "source": [
    "# plot analytic solution compared to simulations with T=1\n",
    "fig, ax = plt.subplots(1, 1, figsize=figsize_distribution)\n",
    "axes = [ax]\n",
    "N = params[\"N\"]\n",
    "\n",
    "for h in example_hs:\n",
    "    # simulation data with T=1\n",
    "    x,hist = sim_hist[h][1]\n",
    "    # plot histogram as bar plot\n",
    "    axes[0].fill_between(x, hist/np.sum(hist)*params[\"N\"], alpha=0.7, color=window_colors[0], rasterized=True)\n",
    "\n",
    "    # analytic solution\n",
    "    x, pmf = fp_pmf(lam_focus, h)\n",
    "    x = np.insert(x,0,-1)\n",
    "    pmf = np.insert(pmf,0,0)\n",
    "    axes[0].plot(x/params[\"N\"], pmf*params[\"N\"], color='black', linestyle='dotted')\n",
    "\n",
    "# axes[0].set_xlabel(r\"output $\\hat{o}$\", labelpad=-5)\n",
    "# axes[0].set_ylabel(r\"$p(\\hat{o}|h)$\")\n",
    "axes[0].set_xlim(-3*params[\"sigma\"], (1 + 3*params[\"sigma\"]))\n",
    "axes[0].set_ylim(ylim_distribution)\n",
    "axes[0].set_xticks(xticks_distribution)\n",
    "axes[0].set_yticks(yticks_distribution)\n",
    "# remove top and right spines\n",
    "axes[0].spines['top'].set_visible(False)\n",
    "axes[0].spines['right'].set_visible(False)\n",
    "plt.show()\n",
    "# save as pdf\n",
    "fig.savefig(\"./figures/fig_methods_examples_fokker-planck.pdf\", **kwargs_distribution)"
   ]
  },
  {
   "cell_type": "markdown",
   "metadata": {},
   "source": [
    "## Illustration of Beta approximation "
   ]
  },
  {
   "cell_type": "code",
   "execution_count": 14,
   "metadata": {},
   "outputs": [],
   "source": [
    "# load beta fit values from database and compare to neural network approximation\n",
    "con = sqlite3.connect('./simulations.db')\n",
    "cur = con.cursor()\n",
    "simulations = pd.read_sql_query(f\"SELECT * FROM simulations WHERE N={params['N']} AND K={params['K']} AND mu={params['mu']} AND seed={params['seed']}\", con)\n",
    "beta_approximations = pd.read_sql_query(\"SELECT * from beta_approximations\", con)\n",
    "con.close()\n",
    "df = pd.merge(simulations, beta_approximations, on='simulation_id')\n",
    "#print(df)"
   ]
  },
  {
   "cell_type": "code",
   "execution_count": 34,
   "metadata": {},
   "outputs": [
    {
     "data": {
      "image/png": "[encoded data removed]",
      "text/plain": [
       "<Figure size 157.48x78.7402 with 1 Axes>"
      ]
     },
     "metadata": {},
     "output_type": "display_data"
    }
   ],
   "source": [
    "lam_select = [0,0.99,0.9999]\n",
    "hvals = 10**np.linspace(-6.5, 2, 200)\n",
    "\n",
    "# different plots for a and b\n",
    "fig, ax = plt.subplots(1, 1, figsize=figsize_beta, sharex=True, sharey=False)\n",
    "# for lam in lam_select:\n",
    "lam = lam_focus\n",
    "# load data\n",
    "df_select = df[(df[\"window\"] == win_focus) & (df[\"lambda\"] == lam)]\n",
    "\n",
    "# get a,b from function approximation\n",
    "avals, bvals = beta_approx(lam * np.ones_like(hvals), win_focus * np.ones_like(hvals), hvals)\n",
    "\n",
    "# make smaller markers\n",
    "ref = ax.scatter(\n",
    "    df_select[\"h\"].values, df_select[\"a\"], s=1, color=\"#CDB3FF\", label=\"a\"\n",
    ")\n",
    "ax.plot(hvals, avals, color=ref.get_facecolor()[0], linestyle=\"-\", linewidth=0.8)\n",
    "\n",
    "ref = ax.scatter(\n",
    "    df_select[\"h\"].values, df_select[\"b\"], s=1, color=\"#B3F0FF\", label=\"b\"\n",
    ")\n",
    "ax.plot(hvals, bvals, color=ref.get_facecolor()[0], linestyle=\"-\", linewidth=0.8)\n",
    "\n",
    "# remove top and right spines\n",
    "ax.spines['top'].set_visible(False)\n",
    "ax.spines['right'].set_visible(False)\n",
    "ax.set_yscale('log')\n",
    "ax.set_xscale('log')\n",
    "ax.set_ylim(1e-1,1e6)\n",
    "ax.set_yticks([1e0, 1e4])\n",
    "ax.set_xticks([1e-6, 1e-3, 1e0])\n",
    "ax.set_xlabel(\"h\")\n",
    "ax.legend()\n",
    "\n",
    "plt.show()\n",
    "\n",
    "ax.set_xlabel(\"\")\n",
    "# unset legend\n",
    "ax.legend().set_visible(False)\n",
    "# plot x on top for b\n",
    "\n",
    "# axb.spines['bottom'].set_visible(False)\n",
    "# axb.xaxis.tick_top()\n",
    "\n",
    "# axes[2].set_xlabel(\"h\")\n",
    "#axa.set_ylabel(\"a\")\n",
    "#axb.set_ylabel(\"b\")\n",
    "\n",
    "# make less space between legend entries\n",
    "#axa.legend(loc=[0.05,0.55], fontsize=8, labelspacing=0.1)\n",
    "\n",
    "# save as pdf\n",
    "fig.savefig(\"./figures/fig_methods_MLapprox.pdf\", **kwargs_distribution)\n",
    "# figa.savefig(\"./figures/fig_methods_MLapprox_a.pdf\", **kwargs_distribution)\n",
    "# figb.savefig(\"./figures/fig_methods_MLapprox_b.pdf\", **kwargs_distribution)"
   ]
  },
  {
   "cell_type": "markdown",
   "metadata": {},
   "source": [
    "##  Gaussian convolution"
   ]
  },
  {
   "cell_type": "code",
   "execution_count": 16,
   "metadata": {},
   "outputs": [
    {
     "data": {
      "image/png": "[encoded data removed]",
      "text/plain": [
       "<Figure size 196.85x98.4252 with 1 Axes>"
      ]
     },
     "metadata": {},
     "output_type": "display_data"
    }
   ],
   "source": [
    "# plot neural network approximation for the selected h values together with the convolution with the normal distribution \n",
    "fig, ax = plt.subplots(1, 1, figsize=figsize_distribution)\n",
    "axes = [ax]\n",
    "N = params[\"N\"]\n",
    "\n",
    "for h in example_hs:\n",
    "    # Gaussian convolution\n",
    "    pmf = ml_pmf_noisy(window=win_focus, h=h, lam=lam_focus)\n",
    "    axes[0].plot(ml_support, pmf*params[\"N\"], color='darkgrey')\n",
    "    \n",
    "    # network activity\n",
    "    pmf = ml_pmf(window=win_focus, h=h, lam=lam_focus)\n",
    "    axes[0].plot(ml_support[1:], pmf*params[\"N\"], linestyle='--', color=window_colors[2])\n",
    "    \n",
    "# axes[0].set_xlabel(r\"output $\\hat{o}$\", labelpad=-5)\n",
    "# axes[0].set_ylabel(r\"$p(\\hat{o}|h)$\")\n",
    "axes[0].set_xlim(-3*params[\"sigma\"], (1 + 3*params[\"sigma\"]))\n",
    "axes[0].set_ylim(ylim_distribution)\n",
    "axes[0].set_xticks(xticks_distribution)\n",
    "axes[0].set_yticks(yticks_distribution)\n",
    "# remove top and right spines\n",
    "axes[0].spines['top'].set_visible(False)\n",
    "axes[0].spines['right'].set_visible(False)\n",
    "plt.show()\n",
    "# save as pdf\n",
    "if not with_labels:\n",
    "    axes[0].set_xlabel(\"\")\n",
    "    axes[0].set_ylabel(\"\")\n",
    "fig.savefig(\"./figures/fig_methods_gaussian_convolution.pdf\", **kwargs_distribution)"
   ]
  },
  {
   "cell_type": "markdown",
   "metadata": {},
   "source": [
    "## Discriminable inputs from left and right for ML approach"
   ]
  },
  {
   "cell_type": "code",
   "execution_count": 17,
   "metadata": {},
   "outputs": [
    {
     "name": "stdout",
     "output_type": "stream",
     "text": [
      "Loading discriminable inputs from file\n"
     ]
    }
   ],
   "source": [
    "# check if data set exists in h5 file\n",
    "with h5py.File(filename, 'r') as f:\n",
    "    if 'discriminable_inputs' in f:\n",
    "        print(\"Loading discriminable inputs from file\")\n",
    "        hs_left = f['discriminable_inputs/hs_left'][()]\n",
    "        hs_right = f['discriminable_inputs/hs_right'][()]\n",
    "        pmf_ref_left = f['discriminable_inputs/pmf_ref_left'][()]\n",
    "        pmf_ref_right = f['discriminable_inputs/pmf_ref_right'][()]\n",
    "    else:\n",
    "        hs_left = None\n",
    "        hs_right = None\n",
    "    \n",
    "if hs_left is None and hs_right is None:\n",
    "    print(\"Calculating discriminable inputs\")\n",
    "    # calculate discriminable inputs from simulation-constrained h-range\n",
    "    h_range = beta_approx.input_range[beta_approx.input_names.index(\"h\")]\n",
    "    \n",
    "    pmf_ref_left = (\n",
    "        stats.norm.pdf(\n",
    "            ml_support, mean_field_activity(lam_focus, params[\"mu\"], 0), params[\"sigma\"]\n",
    "        )\n",
    "        / params[\"N\"]\n",
    "    )\n",
    "    pmf_ref_right = (\n",
    "        stats.norm.pdf(\n",
    "            ml_support, mean_field_activity(lam_focus, params[\"mu\"], 1e3), params[\"sigma\"]\n",
    "        )\n",
    "        / params[\"N\"]\n",
    "    )\n",
    "    pmf_refs = [pmf_ref_left, pmf_ref_right]\n",
    "    hs_left = find_discriminable_inputs(\n",
    "        ml_pmf_, h_range, pmf_refs, params[\"epsilon\"], start=\"left\", verbose=True\n",
    "    )\n",
    "    hs_right = find_discriminable_inputs(\n",
    "        ml_pmf_, h_range, pmf_refs, params[\"epsilon\"], start=\"right\", verbose=True\n",
    "    )\n",
    "    # save\n",
    "    with h5py.File(filename, 'a') as f:\n",
    "        g = f.create_group('discriminable_inputs')\n",
    "        g.create_dataset('hs_left', data=hs_left)\n",
    "        g.create_dataset('hs_right', data=hs_right)\n",
    "        g.create_dataset('pmf_ref_left', data=pmf_ref_left)\n",
    "        g.create_dataset('pmf_ref_right', data=pmf_ref_right)\n",
    "\n"
   ]
  },
  {
   "cell_type": "code",
   "execution_count": 40,
   "metadata": {},
   "outputs": [
    {
     "data": {
      "image/png": "[encoded data removed]",
      "text/plain": [
       "<Figure size 196.85x98.4252 with 1 Axes>"
      ]
     },
     "metadata": {},
     "output_type": "display_data"
    },
    {
     "data": {
      "image/png": "[encoded data removed]",
      "text/plain": [
       "<Figure size 196.85x98.4252 with 1 Axes>"
      ]
     },
     "metadata": {},
     "output_type": "display_data"
    }
   ],
   "source": [
    "# plot probability distributions p(o|h) for hs_left and hs_right in two plots with reference distributions (integral = sum pmf(x)* \\delta x = 1)\n",
    "for j, hs in enumerate([hs_left, hs_right]):\n",
    "    fig, ax = plt.subplots(1, 1, figsize=figsize_distribution)\n",
    "    axes = [ax]\n",
    "    N = params[\"N\"]\n",
    "\n",
    "    axes[0].plot(ml_support, pmf_ref_left*params[\"N\"], color=\"black\", linewidth=1)\n",
    "    axes[0].plot(ml_support, pmf_ref_right*params[\"N\"], color=\"black\", linewidth=1)\n",
    "    for i, h in enumerate(hs):\n",
    "        color = \"darkgreen\" if i == 0 else \"darkgray\"\n",
    "        lw = 1.5 if i == 0 else 1\n",
    "        axes[0].plot(ml_support, ml_pmf_(h)*params[\"N\"], color=color, linewidth=lw)\n",
    "    # set xlabel to the right of the spline\n",
    "    # axes[0].set_xlabel(r\"output $\\hat{o}$\", labelpad=-5)\n",
    "    # axes[0].set_ylabel(r\"$p(\\hat{o}|h)$\")\n",
    "    axes[0].set_xlim(-3 * params[\"sigma\"], (1 + 3 * params[\"sigma\"]))\n",
    "    axes[0].set_ylim(ylim_distribution)\n",
    "    axes[0].set_xticks(xticks_distribution)\n",
    "    axes[0].set_yticks(yticks_distribution)\n",
    "    # remove top and right spines\n",
    "    axes[0].spines[\"top\"].set_visible(False)\n",
    "    axes[0].spines[\"right\"].set_visible(False)\n",
    "    plt.show()\n",
    "    # save as pdf\n",
    "    if j == 0:\n",
    "        fig.savefig(\"./figures/fig_methods_discriminable_left.pdf\".format(j), **kwargs_distribution)\n",
    "    if j == 1:\n",
    "        fig.savefig(\"./figures/fig_methods_discriminable_right.pdf\".format(j), **kwargs_distribution)"
   ]
  },
  {
   "cell_type": "code",
   "execution_count": null,
   "metadata": {},
   "outputs": [],
   "source": []
  }
 ],
 "metadata": {
  "kernelspec": {
   "display_name": "finite-observation",
   "language": "python",
   "name": "python3"
  },
  "language_info": {
   "codemirror_mode": {
    "name": "ipython",
    "version": 3
   },
   "file_extension": ".py",
   "mimetype": "text/x-python",
   "name": "python",
   "nbconvert_exporter": "python",
   "pygments_lexer": "ipython3",
   "version": "3.11.6"
  }
 },
 "nbformat": 4,
 "nbformat_minor": 2
}
