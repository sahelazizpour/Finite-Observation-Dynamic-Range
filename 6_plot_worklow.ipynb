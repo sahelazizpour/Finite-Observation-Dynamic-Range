{
 "cells": [
  {
   "cell_type": "markdown",
   "metadata": {},
   "source": [
    "# Generate content for a figure to demonstrate the workflow of our analysis pipeline\n",
    "\n",
    "- distinguish 3 cases: analytic solution $T\\to\\infty$ (delta distr.), numerical solution with beta distribution fit, and analytic soltion $T\\to 0$ (compare to simulations)\n",
    "- For the numerical solution demonstrate a neural network that is used to interpolate the beta distribution fit\n",
    "- Then merge them in the step of a convolution\n",
    "- Illustrate the overlap determination similar\n",
    "\n",
    "Idea of figure: organize from left-to-right with 3 vertical initial approaches of which one is the data-driven case (maybe lowest)"
   ]
  },
  {
   "cell_type": "code",
   "execution_count": null,
   "metadata": {},
   "outputs": [],
   "source": []
  }
 ],
 "metadata": {
  "kernelspec": {
   "display_name": "finite-observation",
   "language": "python",
   "name": "python3"
  },
  "language_info": {
   "name": "python",
   "version": "3.1.0"
  }
 },
 "nbformat": 4,
 "nbformat_minor": 2
}
