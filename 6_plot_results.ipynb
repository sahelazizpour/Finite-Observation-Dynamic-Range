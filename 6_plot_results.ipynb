{
 "cells": [
  {
   "cell_type": "code",
   "execution_count": 1,
   "metadata": {},
   "outputs": [],
   "source": [
    "import numpy as np\n",
    "import matplotlib.pyplot as plt\n",
    "from scipy import stats, signal, optimize\n",
    "from tqdm import tqdm\n",
    "import pandas as pd\n",
    "\n",
    "import os, sys\n",
    "rootpath = os.path.join(os.getcwd(), '.')\n",
    "sys.path.append(rootpath)\n",
    "from src.analysis import *\n",
    "from src.theory import *\n",
    "# reimport modules if they change\n",
    "%load_ext autoreload\n",
    "%autoreload 2"
   ]
  },
  {
   "cell_type": "markdown",
   "metadata": {},
   "source": [
    "# Global parameters"
   ]
  },
  {
   "cell_type": "code",
   "execution_count": 2,
   "metadata": {},
   "outputs": [],
   "source": [
    "# specify system parameters\n",
    "params = {\n",
    "    'N': 10000, # number of nodes\n",
    "    'K': 100, # number of connections per node\n",
    "    'mu': 0.2, # fraction of nodes that receive input\n",
    "    'sigma': 0.01, # std of additive Gaussian noise\n",
    "    'epsilon': 0.1, # error threshold for overlap\n",
    "}"
   ]
  },
  {
   "cell_type": "markdown",
   "metadata": {},
   "source": [
    "# Load analytic solution for $T\\to\\infty$"
   ]
  },
  {
   "cell_type": "code",
   "execution_count": 3,
   "metadata": {},
   "outputs": [
    {
     "name": "stdout",
     "output_type": "stream",
     "text": [
      "[0.         0.13403568 0.25010579 0.35061837 0.43765867 0.51303247\n",
      " 0.5783035  0.63482587 0.68377223 0.72615804 0.76286263 0.7946475\n",
      " 0.82217206 0.84600735 0.86664786 0.8845218  0.9        0.91340357\n",
      " 0.92501058 0.93506184 0.94376587 0.95130325 0.95783035 0.96348259\n",
      " 0.96837722 0.9726158  0.97628626 0.97946475 0.98221721 0.98460073\n",
      " 0.98666479 0.98845218 0.99       0.99134036 0.99250106 0.99350618\n",
      " 0.99437659 0.99513032 0.99578303 0.99634826 0.99683772 0.99726158\n",
      " 0.99762863 0.99794647 0.99822172 0.99846007 0.99866648 0.99884522\n",
      " 0.999      0.99913404 0.99925011 0.99935062 0.99943766 0.99951303\n",
      " 0.9995783  0.99963483 0.99968377 0.99972616 0.99976286 0.99979465\n",
      " 0.99982217 0.99984601 0.99986665 0.99988452 0.9999    ]\n"
     ]
    }
   ],
   "source": [
    "filename_inf = f\"results/results_analytic_inf_N{params['N']}_mu{params['mu']}_epsilon{params['epsilon']}_sigma{params['sigma']}.txt\"\n",
    "if os.path.isfile(filename_inf):\n",
    "    lams_inf, drs_inf, nds_inf = np.loadtxt(filename_inf).T\n",
    "    print(lams_inf)\n",
    "else:\n",
    "    raise ValueError(\"file not found\")"
   ]
  },
  {
   "cell_type": "markdown",
   "metadata": {},
   "source": [
    "# Load analytic solution for $T \\to 0$ "
   ]
  },
  {
   "cell_type": "code",
   "execution_count": 4,
   "metadata": {},
   "outputs": [],
   "source": [
    "filename_0 = f\"results/results_analytic_0_N{params['N']}_mu{params['mu']}_epsilon{params['epsilon']}_sigma{params['sigma']}.txt\"\n",
    "\n",
    "if os.path.isfile(filename_0):\n",
    "    lams_0, drs_0, nds_0 = np.loadtxt(filename_0).T \n",
    "else: \n",
    "    raise ValueError(\"file not found\")"
   ]
  },
  {
   "cell_type": "markdown",
   "metadata": {},
   "source": [
    "# Load analysed data and process for plotting"
   ]
  },
  {
   "cell_type": "code",
   "execution_count": 5,
   "metadata": {},
   "outputs": [
    {
     "data": {
      "text/plain": [
       "array([1000, 1001, 1002, 1003, 1004, 1005, 1006, 1008, 1009])"
      ]
     },
     "execution_count": 5,
     "metadata": {},
     "output_type": "execute_result"
    }
   ],
   "source": [
    "import sqlite3\n",
    "con = sqlite3.connect('simulations.db')\n",
    "cur = con.cursor()\n",
    "# load dataframe from table\n",
    "results = pd.read_sql_query(f\"SELECT * FROM results WHERE N={params['N']} AND K={params['K']} AND mu={params['mu']} AND sigma={params['sigma']} AND epsilon={params['epsilon']}\", con)\n",
    "results.drop(columns=['N', 'K', 'mu', 'sigma', 'epsilon'], inplace=True)\n",
    "con.close()\n",
    "\n",
    "results.seed.unique()"
   ]
  },
  {
   "cell_type": "code",
   "execution_count": 6,
   "metadata": {},
   "outputs": [],
   "source": [
    "# check consistency for subsequent analysis: all seeds should have all windows!\n",
    "for seed in results.seed.unique():\n",
    "    for window in results.window.unique():\n",
    "        if not len(results[(results.seed==seed) & (results.window==window)])==1:\n",
    "            print(f\"seed {seed} window {window} not found!\")"
   ]
  },
  {
   "cell_type": "code",
   "execution_count": 7,
   "metadata": {},
   "outputs": [
    {
     "name": "stdout",
     "output_type": "stream",
     "text": [
      "[1000 1001 1002 1003 1004 1005 1006 1008 1009]\n"
     ]
    }
   ],
   "source": [
    "# load data and calculate maxima of drs and nds\n",
    "windows = np.sort(results[\"window\"].unique())\n",
    "focus_windows = [1e0,1e1,1e2,1e3,1e4]\n",
    "focus_legends = [\"$10^0$ ms\", \"$10^1$ ms\", \"$10^2$ ms\", \"$10^3$ ms\", \"$10^4$ ms\"]\n",
    "seeds = np.sort(results.seed.unique())\n",
    "# seeds = [1000,]\n",
    "print(seeds)\n",
    "\n",
    "focus_lam = [[] for i in range(len(focus_windows))]\n",
    "focus_nds = [[] for i in range(len(focus_windows))]\n",
    "focus_drs = [[] for i in range(len(focus_windows))]\n",
    "lam_max_nds = [[] for i in range(len(windows))]\n",
    "lam_max_drs = [[] for i in range(len(windows))]\n",
    "# iterate over all windows\n",
    "for (i,window) in enumerate(windows):\n",
    "    # reduce dataframe to current window\n",
    "    sel = results[results[\"window\"] == window]\n",
    "    for (s, seed) in enumerate(seeds):\n",
    "        # load file\n",
    "        filename = results[(results[\"window\"] == window) & (results[\"seed\"] == seed)].filename.values[0]\n",
    "        # reduce filename to the path from ./results/\n",
    "        filename = filename[filename.find(\"results/\"):] \n",
    "        # TODO: this will change to lams_data, drs_data, nds_data after the next batch analysis\n",
    "        lams_data, drs_data, nds_data = np.loadtxt(f\"{filename}\", skiprows=1, unpack=True)\n",
    "        # find lamda value of maximum from left and from right\n",
    "        lam_max_nds[i].append([lams_data[np.argmax(nds_data)], lams_data[len(nds_data) - np.argmax(nds_data[::-1]) - 1]])\n",
    "        lam_max_drs[i].append([lams_data[np.argmax(drs_data)], lams_data[len(drs_data) - np.argmax(drs_data[::-1]) - 1]])\n",
    "        if not len(lams_data) > 60:\n",
    "            print(\"problem with result {}_{}\".format(window, seed))\n",
    "        if window in focus_windows:\n",
    "            focus_lam[focus_windows.index(window)].append(lams_data)\n",
    "            focus_nds[focus_windows.index(window)].append(nds_data)\n",
    "            focus_drs[focus_windows.index(window)].append(drs_data)\n",
    "\n",
    "# for each window calculate the mean lower and upper lambda value\n",
    "lam_max_nds = np.array(lam_max_nds)\n",
    "lam_max_drs = np.array(lam_max_drs)\n",
    "# for nds plot range\n",
    "lam_max_nds_lower = np.mean(lam_max_nds[:, :, 0], axis=1)\n",
    "lam_max_nds_upper = np.mean(lam_max_nds[:, :, 1], axis=1)\n",
    "\n",
    "# for drs calculate mean and variance (after mean over bounds, axis=2)\n",
    "lam_max_drs_mean = np.mean(np.mean(lam_max_drs, axis=2), axis=1)\n",
    "lam_max_drs_std = np.std(np.mean(lam_max_drs, axis=2), axis=1)"
   ]
  },
  {
   "cell_type": "markdown",
   "metadata": {},
   "source": [
    "# Make plot for selected N,K,mu"
   ]
  },
  {
   "cell_type": "code",
   "execution_count": 8,
   "metadata": {},
   "outputs": [
    {
     "name": "stdout",
     "output_type": "stream",
     "text": [
      "[(0.9978256142639704, 0.9565122852794086, 0.6651445966514459, 1.0), (0.9865579108355671, 0.8655440258295098, 0.36898156522883124, 1.0), (0.9375300805253609, 0.5770341013117577, 0.22944081742285957, 1.0), (0.8428398756762985, 0.3113809907524655, 0.11267411074018642, 1.0), (0.3503415064655997, 0.21353363263113462, 0.17790568282107366, 1.0)]\n"
     ]
    }
   ],
   "source": [
    "from matplotlib.colors import LinearSegmentedColormap\n",
    "custom_colors = [\n",
    "    (0, \"white\"),\n",
    "    (0.3, \"#FEEB65\"),\n",
    "    (0.65, \"#E4521B\"),\n",
    "    (0.85, \"#4D342F\"),\n",
    "    (1, \"black\"),\n",
    "]\n",
    "cmap = LinearSegmentedColormap.from_list(\"custom_cmap\", custom_colors, N=512)\n",
    "focus_colors = [cmap( (idx+1) / (len(focus_windows)+1) ) for idx in range(len(focus_windows))]\n",
    "print(focus_colors)"
   ]
  },
  {
   "cell_type": "code",
   "execution_count": 12,
   "metadata": {},
   "outputs": [
    {
     "data": {
      "image/png": "[encoded data removed]",
      "text/plain": [
       "<Figure size 708.661x236.22 with 2 Axes>"
      ]
     },
     "metadata": {},
     "output_type": "display_data"
    }
   ],
   "source": [
    "plt.text.usetex : True\n",
    "# font size\n",
    "plt.rcParams.update({'font.size': 8})\n",
    "# # tick size\n",
    "plt.rcParams['xtick.labelsize'] = 6\n",
    "\n",
    "# set figure size to max width (Nature=18cm, APS=17.2cm)\n",
    "cm = 1/2.54  # centimeters in inches\n",
    "fig, ax = plt.subplots(1, 2, figsize=(18*cm, 6*cm))\n",
    "#fig, ax = plt.subplots(1, 2, figsize=(10,4))\n",
    "for (i,window) in enumerate(focus_windows):\n",
    "    for (s, seed) in enumerate(seeds):\n",
    "        ax[0].plot(1-focus_lam[i][s], focus_nds[i][s], color=focus_colors[i], alpha=0.3, linewidth=1.0)\n",
    "        ax[1].plot(1-focus_lam[i][s], focus_drs[i][s], color=focus_colors[i], alpha=0.3, linewidth=1.0)\n",
    "\n",
    "# discriminable intervals\n",
    "ax[0].plot(1 - lams_inf, nds_inf, color=\"black\", linewidth=1.0)\n",
    "if len(nds_0)>0:\n",
    "    ax[0].plot(1 - lams_0, nds_0, color=\"black\", linestyle='dotted', linewidth=1.0)\n",
    "ax[0].set_xlabel(\"branching parameter $\\lambda$\")\n",
    "ax[0].set_ylim(0, 59)\n",
    "ax[0].set_ylabel(\"number of discriminable inputs $n_d$\")\n",
    "ax[0].set_xscale(\"log\")\n",
    "ax[0].set_xticks([1e-4, 1e-3, 1e-2, 1e-1, 1e0])\n",
    "ax[0].set_xticklabels([\"0.9999\", \"0.999\", \"0.99\", \"0.9\", \"0\"])\n",
    "ax[0].invert_xaxis()\n",
    "ax[0].spines['top'].set_visible(False)\n",
    "ax[0].spines['right'].set_visible(False)\n",
    "# inset\n",
    "axins=[]\n",
    "axins.append(ax[0].inset_axes([0.25, 0.90, 0.6, 0.22]))\n",
    "# plot bars between upper and lower bound\n",
    "upper = 1-lam_max_nds_lower\n",
    "lower = 1-lam_max_nds_upper\n",
    "axins[0].fill_between(windows, lower, upper, color=\"gray\", alpha=0.3)\n",
    "for (i,window) in enumerate(focus_windows):\n",
    "    # get index of window in windows\n",
    "    index = np.where(windows == window)[0][0]\n",
    "    axins[0].plot([window, window], [1-lam_max_nds_lower[index], 1-lam_max_nds_upper[index]], color=focus_colors[i])\n",
    "\n",
    "# dynamic range\n",
    "ax[1].plot(1 - lams_inf, drs_inf, color=\"black\", linewidth=1.0)\n",
    "if len(drs_0)>0:    \n",
    "    ax[1].plot(1 - lams_0, drs_0, color=\"black\", linestyle='dotted', linewidth=1.0)\n",
    "ax[1].set_xlabel(\"branching parameter $\\lambda$\")\n",
    "ax[1].set_ylim(0, 33)\n",
    "ax[1].set_ylabel(\"dynamic range $\\Delta$\")\n",
    "ax[1].set_xscale(\"log\")\n",
    "ax[1].set_xticks([1e-4, 1e-3, 1e-2, 1e-1, 1e0])\n",
    "ax[1].set_xticklabels([\"0.9999\", \"0.999\", \"0.99\", \"0.9\", \"0\"])\n",
    "ax[1].invert_xaxis()\n",
    "# remove boundaries top and right\n",
    "ax[1].spines['top'].set_visible(False)\n",
    "ax[1].spines['right'].set_visible(False)\n",
    "# insets with the development of maximum values with window size\n",
    "axins.append(ax[1].inset_axes([0.35, 0.27, 0.6, 0.22]))\n",
    "# plot mean with error bars\n",
    "axins[1].plot(windows, 1-lam_max_drs_mean, color=\"gray\", alpha=0.3)\n",
    "for (i,window) in enumerate(focus_windows):\n",
    "    # get index of window in windows\n",
    "    index = np.where(windows == window)[0][0]\n",
    "    axins[1].errorbar(window, 1-lam_max_drs_mean[index], yerr=lam_max_drs_std[index], color=focus_colors[i], markersize=3, marker='o')\n",
    "\n",
    "# set inset labels gray\n",
    "for inset in axins:\n",
    "    # remove boundaries top and right\n",
    "    inset.spines['top'].set_visible(False)\n",
    "    inset.spines['right'].set_visible(False)\n",
    "    # x gray\n",
    "    inset.spines['bottom'].set_color('gray')\n",
    "    inset.xaxis.label.set_color('gray')\n",
    "    inset.tick_params(axis='x', colors='gray')\n",
    "    inset.tick_params(axis='x', which='minor', colors='gray')\n",
    "    # y gray\n",
    "    inset.spines['left'].set_color('gray')\n",
    "    inset.yaxis.label.set_color('gray')\n",
    "    inset.tick_params(axis='y', colors='gray')\n",
    "    inset.tick_params(axis='y', which='minor', colors='gray')\n",
    "    # x label\n",
    "    inset.set_xlabel(\"window size $T$\", labelpad=-1)\n",
    "    inset.set_xscale(\"log\")\n",
    "    # y label\n",
    "    inset.set_ylabel(\"$\\lambda^\\\\ast$\", labelpad=-1)\n",
    "    inset.set_yscale(\"log\")\n",
    "    inset.invert_yaxis()\n",
    "    if inset == axins[0]:\n",
    "        inset.set_yticks([1e-1, 1e-2, 1e-3])\n",
    "        inset.set_yticklabels([\"0.9\", \"0.99\", \"0.999\"])\n",
    "    if inset == axins[1]:\n",
    "        inset.set_yticks([1e-2, 1e-3])\n",
    "        inset.set_yticklabels([\"0.99\", \"0.999\"])\n",
    "        plt.setp(inset.get_yminorticklabels(), visible=False)\n",
    "\n",
    "\n",
    "# set labels for colors \n",
    "ax[0].plot([], [], color='black', linestyle='dotted', label='$T \\\\to 0$', linewidth=1.0)\n",
    "for i, window in enumerate(focus_windows):\n",
    "    ax[0].plot([], [], color=focus_colors[i], label=focus_legends[i], linewidth=1.0)\n",
    "ax[0].plot([], [], color='black', label='$T \\\\to \\infty$', linewidth=1.0)\n",
    "# reverse order of legend\n",
    "handles, labels = ax[0].get_legend_handles_labels()\n",
    "# set legend outside of main plots\n",
    "ax[1].legend(handles[::-1], labels[::-1], loc='best', bbox_to_anchor=(1.00, 1.2), title=\"window size $T$\")\n",
    "plt.tight_layout()\n",
    "plt.savefig(\"figures/fig_results.pdf\", bbox_inches='tight', dpi=600)"
   ]
  },
  {
   "cell_type": "markdown",
   "metadata": {},
   "source": [
    "## older, alternative arangement"
   ]
  },
  {
   "cell_type": "code",
   "execution_count": 10,
   "metadata": {},
   "outputs": [],
   "source": [
    "generate_this_version = False\n",
    "if generate_this_version:\n",
    "    # plot the number of discriminable inputs for different values of epsilon and T in a main plot with an inset\n",
    "    windows = np.sort(results[\"window\"].unique())\n",
    "    markers = [\"x\", \"o\", \"s\", \"^\", \"P\", \"d\"]\n",
    "    legends = [\"$10^0$ ms\", \"$10^1$ ms\", \"$10^2$ ms\", \"$10^3$ ms\", \"$10^4$ ms\"]\n",
    "    # colors from green to red in nature style\n",
    "    color = [\"#008000\", \"#228B22\", \"#FFA500\", \"#FF0000\", \"#8B0000\"]\n",
    "\n",
    "    plt.text.usetex : True\n",
    "\n",
    "    figure_arrangement=\\\n",
    "    \"\"\"\n",
    "    ab\n",
    "    AB\n",
    "    AB\n",
    "    \"\"\"\n",
    "    #mosaik plot\n",
    "    fig, ax = plt.subplot_mosaic(figure_arrangement, figsize=(10, 4), sharex=True)\n",
    "    lam_max_nds = []\n",
    "    lam_max_drs = []\n",
    "    for (i,window) in enumerate(windows):\n",
    "        # reduce dataframe to current window\n",
    "        sel = results[results[\"window\"] == window]\n",
    "        lam_max_nds.append([])\n",
    "        lam_max_drs.append([])\n",
    "        for (s, seed) in enumerate(sel.seed.unique()):\n",
    "            # load file\n",
    "            filename = results[(results[\"window\"] == window) & (results[\"seed\"] == seed)].filename.values[0]\n",
    "            lams_data, nds_data, drs_data = np.loadtxt(f\"{filename}\", skiprows=1, unpack=True)\n",
    "            # find lamda value of maximum from left and from right\n",
    "            lam_max_nds[-1].append([lams_data[np.argmax(nds_data)], lams_data[len(nds_data) - np.argmax(nds_data[::-1]) - 1]])\n",
    "            lam_max_drs[-1].append([lams_data[np.argmax(drs_data)], lams_data[len(drs_data) - np.argmax(drs_data[::-1]) - 1]])\n",
    "            if not len(lams_data) > 60:\n",
    "                print(\"problem with result {}_{}\".format(window, seed))\n",
    "            ax[\"A\"].plot(1-lams_data, nds_data, color=color[i], alpha=0.5)\n",
    "            ax[\"B\"].plot(1-lams_data, drs_data, color=color[i], alpha=0.5)\n",
    "\n",
    "    # discriminable intervals\n",
    "    ax[\"A\"].plot(1 - lams_inf, nds_inf, color=\"black\")\n",
    "    ax[\"A\"].set_xlabel(\"branching parameter $\\lambda$\")\n",
    "    ax[\"A\"].set_ylim(0, 38)\n",
    "    ax[\"A\"].set_ylabel(\"number of discriminable inputs $n_d$\")\n",
    "    ax[\"A\"].spines['top'].set_visible(False)\n",
    "    ax[\"A\"].spines['right'].set_visible(False)\n",
    "\n",
    "    # dynamic range\n",
    "    ax[\"B\"].plot(1 - lams_inf, drs_inf, color=\"black\")\n",
    "    ax[\"B\"].set_xlabel(\"branching parameter $\\lambda$\")\n",
    "    ax[\"B\"].set_ylim(0, 33)\n",
    "    ax[\"B\"].set_ylabel(\"dynamic range $\\Delta$\")\n",
    "    ax[\"B\"].spines['top'].set_visible(False)\n",
    "    ax[\"B\"].spines['right'].set_visible(False)\n",
    "\n",
    "    # maxima of discriminabe intervals\n",
    "    ax[\"a\"].spines['top'].set_visible(False)\n",
    "    ax[\"a\"].spines['right'].set_visible(False)\n",
    "    # for each window calculate the mean lower and upper lambda value\n",
    "    lam_max_nds = np.array(lam_max_nds)\n",
    "    lam_max_drs = np.array(lam_max_drs)\n",
    "    # for nds plot range\n",
    "    lam_max_nds_lower = np.mean(lam_max_nds[:, :, 0], axis=1)\n",
    "    lam_max_nds_upper = np.mean(lam_max_nds[:, :, 1], axis=1)\n",
    "    # plot bars between upper and lower bound\n",
    "    for i, window in enumerate(windows):\n",
    "        ax[\"a\"].plot([1-lam_max_nds_lower[i], 1-lam_max_nds_upper[i]], [window, window], color=color[i])\n",
    "    ax[\"a\"].set_yscale(\"log\")\n",
    "    ax[\"a\"].set_yticks([1e0, 1e2, 1e4])\n",
    "    # set x-lable to right of axis\n",
    "    ax[\"a\"].set_xlabel(\"$\\lambda^\\\\ast$\")\n",
    "    # locate y-lable on top of axis\n",
    "    ax[\"a\"].set_ylabel(\"window size $T$\")\n",
    "\n",
    "\n",
    "    # maxima of dynamic range\n",
    "    ax[\"b\"].spines['top'].set_visible(False)\n",
    "    ax[\"b\"].spines['right'].set_visible(False)\n",
    "    # set x-lable to right of axis\n",
    "    ax[\"b\"].set_xlabel(\"$\\lambda^\\\\ast$\")\n",
    "    # locate y-lable on top of axis\n",
    "    ax[\"b\"].set_ylabel(\"window size $T$\")\n",
    "    # for drs plot mean and variance (after mean over bounds, axis=2)\n",
    "    lam_max_drs_mean = np.mean(np.mean(lam_max_drs, axis=2), axis=1)\n",
    "    lam_max_drs_std = np.std(np.mean(lam_max_drs, axis=2), axis=1)\n",
    "    # plot mean with error bars\n",
    "    for i, window in enumerate(windows):\n",
    "        ax[\"b\"].errorbar(1-lam_max_drs_mean[i], window, xerr=lam_max_drs_std[i], color=color[i], marker='+', markersize=5)\n",
    "    ax[\"b\"].set_yscale(\"log\")\n",
    "    ax[\"b\"].set_yticks([1e0, 1e2, 1e4])\n",
    "\n",
    "    # set x axis (also on subplots)\n",
    "    ax[\"A\"].set_xscale(\"log\")\n",
    "    ax[\"A\"].set_xticks([1e-4, 1e-3, 1e-2, 1e-1, 1e0])\n",
    "    ax[\"A\"].set_xticklabels([\"0.9999\", \"0.999\", \"0.99\", \"0.9\", \"0\"])\n",
    "    ax[\"A\"].invert_xaxis()\n",
    "\n",
    "    # show xticks on all subplots\n",
    "    ax[\"a\"].xaxis.set_tick_params(labelbottom=True)\n",
    "    ax[\"b\"].xaxis.set_tick_params(labelbottom=True)\n",
    "\n",
    "\n",
    "    # set labels for colors \n",
    "    for i, window in enumerate(windows):\n",
    "        ax[\"B\"].plot([], [], color=color[i], label=legends[i])\n",
    "    ax[\"B\"].plot([], [], color='black', label='$T \\\\to \\infty$')\n",
    "    # reverse order of legend\n",
    "    handles, labels = ax[\"B\"].get_legend_handles_labels()\n",
    "    # set legend outside of main plots\n",
    "    ax[\"B\"].legend(handles[::-1], labels[::-1], loc='best', bbox_to_anchor=(1.05, 1))\n",
    "    plt.tight_layout()\n",
    "    # save as pdf\n",
    "    #plt.savefig(\"figures/fig_results.pdf\", bbox_inches='tight', dpi=300)"
   ]
  }
 ],
 "metadata": {
  "kernelspec": {
   "display_name": "finite-observation",
   "language": "python",
   "name": "python3"
  },
  "language_info": {
   "codemirror_mode": {
    "name": "ipython",
    "version": 3
   },
   "file_extension": ".py",
   "mimetype": "text/x-python",
   "name": "python",
   "nbconvert_exporter": "python",
   "pygments_lexer": "ipython3",
   "version": "3.10.14"
  },
  "orig_nbformat": 4
 },
 "nbformat": 4,
 "nbformat_minor": 2
}
