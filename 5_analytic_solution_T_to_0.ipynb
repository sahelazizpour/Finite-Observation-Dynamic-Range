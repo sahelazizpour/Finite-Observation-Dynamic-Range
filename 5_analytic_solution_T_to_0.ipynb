{
 "cells": [
  {
   "cell_type": "markdown",
   "metadata": {},
   "source": [
    "# Analytic solution for $T\\to 0$"
   ]
  },
  {
   "cell_type": "code",
   "execution_count": 1,
   "metadata": {},
   "outputs": [
    {
     "name": "stdout",
     "output_type": "stream",
     "text": [
      "Intel MKL WARNING: Support of Intel(R) Streaming SIMD Extensions 4.2 (Intel(R) SSE4.2) enabled only processors has been deprecated. Intel oneAPI Math Kernel Library 2025.0 will require Intel(R) Advanced Vector Extensions (Intel(R) AVX) instructions.\n",
      "Intel MKL WARNING: Support of Intel(R) Streaming SIMD Extensions 4.2 (Intel(R) SSE4.2) enabled only processors has been deprecated. Intel oneAPI Math Kernel Library 2025.0 will require Intel(R) Advanced Vector Extensions (Intel(R) AVX) instructions.\n"
     ]
    }
   ],
   "source": [
    "import numpy as np\n",
    "import matplotlib.pyplot as plt\n",
    "from tqdm import tqdm\n",
    "import time\n",
    "\n",
    "import os, sys\n",
    "rootpath = os.path.join(os.getcwd(), '.')\n",
    "sys.path.append(rootpath)\n",
    "from src.theory import *\n",
    "from src.analysis import *\n",
    "# reimport modules if they change\n",
    "%load_ext autoreload\n",
    "%autoreload 2"
   ]
  },
  {
   "cell_type": "markdown",
   "metadata": {},
   "source": [
    "## Parameters"
   ]
  },
  {
   "cell_type": "code",
   "execution_count": 2,
   "metadata": {},
   "outputs": [
    {
     "ename": "ValueError",
     "evalue": "File already exists",
     "output_type": "error",
     "traceback": [
      "\u001b[0;31m---------------------------------------------------------------------------\u001b[0m",
      "\u001b[0;31mValueError\u001b[0m                                Traceback (most recent call last)",
      "Cell \u001b[0;32mIn[2], line 17\u001b[0m\n\u001b[1;32m     14\u001b[0m filename \u001b[38;5;241m=\u001b[39m \u001b[38;5;124mf\u001b[39m\u001b[38;5;124m\"\u001b[39m\u001b[38;5;124mresults/results_analytic_0_N\u001b[39m\u001b[38;5;132;01m{\u001b[39;00mparams[\u001b[38;5;124m'\u001b[39m\u001b[38;5;124mN\u001b[39m\u001b[38;5;124m'\u001b[39m]\u001b[38;5;132;01m}\u001b[39;00m\u001b[38;5;124m_mu\u001b[39m\u001b[38;5;132;01m{\u001b[39;00mparams[\u001b[38;5;124m'\u001b[39m\u001b[38;5;124mmu\u001b[39m\u001b[38;5;124m'\u001b[39m]\u001b[38;5;132;01m}\u001b[39;00m\u001b[38;5;124m_epsilon\u001b[39m\u001b[38;5;132;01m{\u001b[39;00mparams[\u001b[38;5;124m'\u001b[39m\u001b[38;5;124mepsilon\u001b[39m\u001b[38;5;124m'\u001b[39m]\u001b[38;5;132;01m}\u001b[39;00m\u001b[38;5;124m_sigma\u001b[39m\u001b[38;5;132;01m{\u001b[39;00mparams[\u001b[38;5;124m'\u001b[39m\u001b[38;5;124msigma\u001b[39m\u001b[38;5;124m'\u001b[39m]\u001b[38;5;132;01m}\u001b[39;00m\u001b[38;5;124m.txt\u001b[39m\u001b[38;5;124m\"\u001b[39m\n\u001b[1;32m     16\u001b[0m \u001b[38;5;28;01mif\u001b[39;00m os\u001b[38;5;241m.\u001b[39mpath\u001b[38;5;241m.\u001b[39mexists(filename):\n\u001b[0;32m---> 17\u001b[0m     \u001b[38;5;28;01mraise\u001b[39;00m \u001b[38;5;167;01mValueError\u001b[39;00m(\u001b[38;5;124m\"\u001b[39m\u001b[38;5;124mFile already exists\u001b[39m\u001b[38;5;124m\"\u001b[39m)\n",
      "\u001b[0;31mValueError\u001b[0m: File already exists"
     ]
    }
   ],
   "source": [
    "# specify system parameters\n",
    "params = {\n",
    "    'N': 10000, # number of nodes\n",
    "# not required for mean-field:    'K': 100, # number of connections per node\n",
    "    'mu': 0.2, # fraction of nodes that receive input\n",
    "    'sigma': 0.01, # std of additive Gaussian noise\n",
    "    'epsilon': 0.1, # error threshold for overlap\n",
    "}\n",
    "#dt = 1 # fixed time step\n",
    "\n",
    "# this is resolution on x-axis in results figure (touch with care)\n",
    "lams = 1 - 10 ** np.linspace(0, -4, 64 + 1)\n",
    "\n",
    "filename = f\"results/results_analytic_0_N{params['N']}_mu{params['mu']}_epsilon{params['epsilon']}_sigma{params['sigma']}.txt\"\n",
    "\n",
    "if os.path.exists(filename):\n",
    "    raise ValueError(\"File already exists\")"
   ]
  },
  {
   "cell_type": "markdown",
   "metadata": {},
   "source": [
    "# Numerically evaluate the solution to the Fokker Planck solution\n",
    "\n",
    "This is done for integer values of the activity $x$ taking the continuum limit in time $t\\to 0$, i.e, looking at the instantaneous number of active neurons in the coupled system"
   ]
  },
  {
   "cell_type": "code",
   "execution_count": 3,
   "metadata": {},
   "outputs": [
    {
     "name": "stdout",
     "output_type": "stream",
     "text": [
      "\u001b[0;31mSignature:\u001b[0m \u001b[0mpmf_from_coupled_fokker_planck\u001b[0m\u001b[0;34m(\u001b[0m\u001b[0mparams\u001b[0m\u001b[0;34m,\u001b[0m \u001b[0mh\u001b[0m\u001b[0;34m,\u001b[0m \u001b[0mlam\u001b[0m\u001b[0;34m,\u001b[0m \u001b[0mreturn_only_pmf\u001b[0m\u001b[0;34m=\u001b[0m\u001b[0;32mFalse\u001b[0m\u001b[0;34m)\u001b[0m\u001b[0;34m\u001b[0m\u001b[0;34m\u001b[0m\u001b[0m\n",
      "\u001b[0;31mDocstring:\u001b[0m\n",
      "Solution to the Mean-field coupled Fokker-Planck equations. \n",
      "1.1) compute solution of FP equation of the part that receives input assuming a mean-field coupling to the recurrently coupled rest\n",
      "$$ p_{rec}(x_{in}) = \\lambda \frac{x_in + x_{rest}} {N} = \\lambda\frac{x_{in}/N}{\\left(1-(1-\\mu\\lambda)\right)}$$\n",
      "from mean-field assumption\n",
      "$$ x_{rest} = \frac{(1-\\mu)\\lambda x_{in}}{1-(1-\\mu)\\lambda}$$ \n",
      "\n",
      "1.2) compute solution of FP equation for the part that does not receive input assuming a mean-field coupling to the input part\n",
      "$$ p_{rec}(x_{rest}) = \\lambda \frac{x_{in} + x_{rest}} {N} = \\lambda\frac{x_{rest}/N + \\mu p_\\mathrm{ext}}{\\left(1-\\mu\\lambda(1-p_\\mathrm{ext})\right)}$$\n",
      "with \n",
      "$$ x_{in} = \\mu\frac{N p_\\mathrm{ext} + \\lambda (1-p_\\mathrm{ext}) x_\\mathrm{rest}}{1-\\mu\\lambda(1-p_\\mathrm{ext})} $$\n",
      "2) convolution of the two solutions to obtain the full pmf\n",
      "\u001b[0;31mFile:\u001b[0m      ~/git/projects/sahel_finite-observation-dynamic-range/src/theory.py\n",
      "\u001b[0;31mType:\u001b[0m      function"
     ]
    }
   ],
   "source": [
    "?pmf_from_coupled_fokker_planck"
   ]
  },
  {
   "cell_type": "code",
   "execution_count": 31,
   "metadata": {},
   "outputs": [
    {
     "name": "stdout",
     "output_type": "stream",
     "text": [
      "[-1000.     0.  1000.]\n",
      "[-1000.     0.  1000.  2000.  3000.  4000.  5000.  6000.  7000.  8000.\n",
      "  9000. 10000. 11000.]\n"
     ]
    }
   ],
   "source": [
    "# check the support\n",
    "x_gauss = support_gauss(bound= 10*params[\"N\"] * params[\"sigma\"], delta=1000)\n",
    "print(x_gauss)\n",
    "x = np.arange(0, params[\"N\"] + 1)\n",
    "x_conv= support_conv_pmf_gauss(x, x_gauss)\n",
    "print(x_conv)"
   ]
  },
  {
   "cell_type": "code",
   "execution_count": 38,
   "metadata": {},
   "outputs": [],
   "source": [
    "# gaussian noise (cutoff determines the dynamic range, 5 sigma at 4th digit after comma in test cases)\n",
    "gauss_std = int(5 * params[\"N\"] * params[\"sigma\"] )\n",
    "x_gauss = support_gauss(bound=int(5 * params[\"N\"] * params[\"sigma\"] ), delta=1)\n",
    "pmf_gauss = stats.norm.pdf(x_gauss, 0, params[\"N\"] * params[\"sigma\"])\n",
    "\n",
    "# final support (pmf from coupled fokker planck has always support [0:N])\n",
    "x = np.arange(0, params[\"N\"] + 1)\n",
    "x_conv = support_conv_pmf_gauss(x, x_gauss)\n",
    "# x_conv = np.arange(np.min(x) + support_gauss[0], np.max(x) + support_gauss[-1] + 1)\n",
    "indices_x = np.searchsorted(x_conv, x)\n",
    "pmf = np.zeros_like(x_conv, dtype=np.float64)\n",
    "\n",
    "def pmf_noise(lam, h):\n",
    "    pmf[indices_x] = pmf_from_coupled_fokker_planck(params, h=h, lam=lam, return_only_pmf=True)\n",
    "    return np.convolve(pmf, pmf_gauss, mode=\"same\")\n",
    "\n",
    "def analysis(lam, verbose=False):\n",
    "    start = time.time()\n",
    "    pmf_o_given_h = lambda h: pmf_noise(lam, h)\n",
    "\n",
    "    # get h_range based on useful bounds from mean-field solution\n",
    "    h_range = h_range_0(lam, params, verbose=verbose)\n",
    "    if h_range[0] >= h_range[1]:\n",
    "        return lam, np.nan, np.nan\n",
    "\n",
    "    # get refernce distributions from mean-field solution\n",
    "    pmf_refs = [stats.norm.pdf(x_conv, params[\"N\"] * mean_field_activity(lam, params[\"mu\"], h), params[\"N\"] * params[\"sigma\"]) for h in [0, np.inf]]\n",
    "\n",
    "    # get dynamic range and number of discriminable states\n",
    "    dr, nd = analysis_dr_nd(pmf_o_given_h, h_range, pmf_refs, params[\"epsilon\"], verbose=verbose)\n",
    "    \n",
    "    end = time.time()\n",
    "    if verbose:\n",
    "        print(f\"lam={lam:.2f} took {end - start:.2f}s\")\n",
    "    return lam, dr, nd"
   ]
  },
  {
   "cell_type": "code",
   "execution_count": 35,
   "metadata": {},
   "outputs": [
    {
     "name": "stdout",
     "output_type": "stream",
     "text": [
      "lambda: 0, h_range: (0.0010001000133352234, 6.907755278982136)\n",
      "possible solution: h=0.13825024402974442 with overlap to end of 3.2900271621207044e-28 ... accepted\n",
      "possible solution: h=0.300035899298774 with overlap to end of 5.4325463185394236e-18 ... accepted\n",
      "possible solution: h=0.4944420210377354 with overlap to end of 4.4311555902046926e-11 ... accepted\n",
      "possible solution: h=0.736746528084268 with overlap to end of 9.917572054506426e-07 ... accepted\n",
      "possible solution: h=1.0569984962303443 with overlap to end of 0.00029173554101660754 ... accepted\n",
      "possible solution: h=1.528656749534839 with overlap to end of 0.015670180237130137 ... accepted\n",
      "possible solution: h=2.4408580031269254 with overlap to end of 0.19216974230407435 ... rejected\n",
      "possible solution: h=2.0509193526293084 with overlap to end of 3.2241890466514863e-28 ... accepted\n",
      "possible solution: h=1.3520783662201077 with overlap to end of 5.396403863305802e-18 ... accepted\n",
      "possible solution: h=0.942685244438958 with overlap to end of 4.423959861211697e-11 ... accepted\n",
      "possible solution: h=0.6523467945309832 with overlap to end of 9.913046440743136e-07 ... accepted\n",
      "possible solution: h=0.42771893172902486 with overlap to end of 0.0002916770114514552 ... accepted\n",
      "possible solution: h=0.24504681683677468 with overlap to end of 0.015669310569492077 ... accepted\n",
      "possible solution: h=0.09166307030131593 with overlap to end of 0.19217226461278342 ... rejected\n",
      "lam=0.00 took 3.57s\n"
     ]
    },
    {
     "data": {
      "text/plain": [
       "(0, 11.712826765754418, 6.0)"
      ]
     },
     "execution_count": 35,
     "metadata": {},
     "output_type": "execute_result"
    }
   ],
   "source": [
    "#check for lam=0 (time = 5min)\n",
    "analysis(lam=0, verbose=True)"
   ]
  },
  {
   "cell_type": "code",
   "execution_count": null,
   "metadata": {},
   "outputs": [],
   "source": [
    "(0, 11.712826765754418, 6.0)\n",
    "\n"
   ]
  },
  {
   "cell_type": "code",
   "execution_count": 36,
   "metadata": {},
   "outputs": [
    {
     "name": "stdout",
     "output_type": "stream",
     "text": [
      "lambda: 0.99, h_range: (1.0001990395668491e-05, 2.3969857684155342)\n",
      "possible solution: h=0.0017584018302334301 with overlap to end of 8.25625784110813e-87 ... accepted\n",
      "possible solution: h=0.0047670924589665155 with overlap to end of 6.207167107641741e-78 ... accepted\n",
      "possible solution: h=0.00921116737086565 with overlap to end of 6.492407157251877e-69 ... accepted\n",
      "possible solution: h=0.015331939481662499 with overlap to end of 5.080223373304993e-60 ... accepted\n",
      "possible solution: h=0.023475884148359577 with overlap to end of 1.8392474295757784e-51 ... accepted\n",
      "possible solution: h=0.03412766953281576 with overlap to end of 2.201102237268331e-43 ... accepted\n",
      "possible solution: h=0.04796477721035327 with overlap to end of 6.854752701533578e-36 ... accepted\n",
      "possible solution: h=0.06594845690186245 with overlap to end of 4.679915060349009e-29 ... accepted\n",
      "possible solution: h=0.08948191452564223 with overlap to end of 6.17756294212511e-23 ... accepted\n",
      "possible solution: h=0.12070269507952516 with overlap to end of 1.4502758629584236e-17 ... accepted\n",
      "possible solution: h=0.1630661332283156 with overlap to end of 5.741228465936711e-13 ... accepted\n",
      "possible solution: h=0.22262916506077024 with overlap to end of 3.766532144073943e-09 ... accepted\n",
      "possible solution: h=0.311275830239883 with overlap to end of 4.213684196937941e-06 ... accepted\n",
      "possible solution: h=0.45655157261737267 with overlap to end of 0.0008623514614766624 ... accepted\n",
      "possible solution: h=0.7432818004478811 with overlap to end of 0.035031043085686796 ... accepted\n",
      "possible solution: h=1.7119679257182496 with overlap to end of 0.31463143688766054 ... rejected\n",
      "possible solution: h=0.9615130851589453 with overlap to end of 0.0 ... accepted\n",
      "possible solution: h=0.5447463464012321 with overlap to end of 5.650775180617915e-296 ... accepted\n",
      "possible solution: h=0.3599287012121401 with overlap to end of 2.9506175503533244e-232 ... accepted\n",
      "possible solution: h=0.25353816869111423 with overlap to end of 1.2220982984032254e-182 ... accepted\n",
      "possible solution: h=0.18431202008766373 with overlap to end of 7.533393996545304e-143 ... accepted\n",
      "possible solution: h=0.13602496805880981 with overlap to end of 1.6521700205079466e-110 ... accepted\n",
      "possible solution: h=0.10087364522275118 with overlap to end of 3.927781748614811e-84 ... accepted\n",
      "possible solution: h=0.0745824938979133 with overlap to end of 1.0318498323964332e-62 ... accepted\n",
      "possible solution: h=0.05458318239501558 with overlap to end of 1.6523000427311172e-45 ... accepted\n",
      "possible solution: h=0.03922554292677628 with overlap to end of 6.26575573975356e-32 ... accepted\n",
      "possible solution: h=0.027396216099721843 with overlap to end of 1.806001991313366e-21 ... accepted\n",
      "possible solution: h=0.018318126737016528 with overlap to end of 1.1520834169918619e-13 ... accepted\n",
      "possible solution: h=0.011437730374411812 with overlap to end of 4.2681491542355995e-08 ... accepted\n",
      "possible solution: h=0.0063583333090093805 with overlap to end of 0.0002095628733457473 ... accepted\n",
      "possible solution: h=0.0027994642601314856 with overlap to end of 0.030202069961695097 ... accepted\n",
      "possible solution: h=0.000577468618627572 with overlap to end of 0.3190457291971143 ... rejected\n",
      "lam=0.99 took 9.98s\n"
     ]
    },
    {
     "data": {
      "text/plain": [
       "(0.99, 27.378370717802333, 15.0)"
      ]
     },
     "execution_count": 36,
     "metadata": {},
     "output_type": "execute_result"
    }
   ],
   "source": [
    "# check for lam=0.99\n",
    "analysis(lam=0.99, verbose=True)"
   ]
  },
  {
   "cell_type": "code",
   "execution_count": 37,
   "metadata": {},
   "outputs": [
    {
     "name": "stdout",
     "output_type": "stream",
     "text": [
      "lambda: 0.9999, h_range: (1.0002000272577614e-07, 0.09521926658097167)\n",
      "possible solution: h=0.000152091098697984 with overlap to end of 0.0002378222918400284 ... accepted\n",
      "possible solution: h=0.0017872234626689141 with overlap to end of 0.015222416196002325 ... accepted\n",
      "possible solution: h=0.01719347108299439 with overlap to end of 0.1891870942689294 ... rejected\n",
      "possible solution: h=0.008176087689212706 with overlap to end of 8.07692438841779e-27 ... accepted\n",
      "possible solution: h=0.0008452834837673025 with overlap to end of 7.911263572710966e-05 ... accepted\n",
      "possible solution: h=8.096489448294658e-05 with overlap to end of 0.23527294893451933 ... rejected\n",
      "lam=1.00 took 1.68s\n"
     ]
    },
    {
     "data": {
      "text/plain": [
       "(0.9999, 17.304417434341897, 2.0)"
      ]
     },
     "execution_count": 37,
     "metadata": {},
     "output_type": "execute_result"
    }
   ],
   "source": [
    "# check for lam=0.9999\n",
    "analysis(lam=0.9999, verbose=True)"
   ]
  },
  {
   "cell_type": "code",
   "execution_count": null,
   "metadata": {},
   "outputs": [
    {
     "name": "stderr",
     "output_type": "stream",
     "text": [
      "/Users/johannes/local_build/miniconda3/envs/finite-observation/lib/python3.11/site-packages/distributed/node.py:182: UserWarning: Port 8787 is already in use.\n",
      "Perhaps you already have a cluster running?\n",
      "Hosting the HTTP server on port 63975 instead\n",
      "  warnings.warn(\n",
      "100%|██████████| 65/65 [02:41<00:00,  2.48s/it]\n"
     ]
    }
   ],
   "source": [
    "# 65 points took 50min with full symmetric support, now takes 2.5min almost identical result\n",
    "from dask.distributed import Client, LocalCluster, as_completed\n",
    "# execute independent lambda computations in parallel with dask\n",
    "cluster = LocalCluster()\n",
    "dask_client = Client(cluster)\n",
    "\n",
    "futures = dask_client.map(analysis, lams)\n",
    "\n",
    "# run analysis\n",
    "data = []\n",
    "for future in tqdm(as_completed(futures), total=len(lams)):\n",
    "    data.append(future.result())\n",
    "\n",
    "# sort data by first column\n",
    "data = np.array(sorted(data, key=lambda x: x[0]))"
   ]
  },
  {
   "cell_type": "code",
   "execution_count": null,
   "metadata": {},
   "outputs": [
    {
     "data": {
      "text/plain": [
       "array([[ 0.        , 11.71282677,  6.        ],\n",
       "       [ 0.13403568, 12.52555732,  7.        ],\n",
       "       [ 0.25010579, 13.315182  ,  8.        ],\n",
       "       [ 0.35061837, 14.07835876,  9.        ],\n",
       "       [ 0.43765867, 14.81664097, 10.        ],\n",
       "       [ 0.51303247, 15.5313915 , 11.        ],\n",
       "       [ 0.5783035 , 16.22380629, 12.        ],\n",
       "       [ 0.63482587, 16.89498878, 13.        ],\n",
       "       [ 0.68377223, 17.54590836, 14.        ],\n",
       "       [ 0.72615804, 18.17732337, 15.        ],\n",
       "       [ 0.76286263, 18.78993933, 16.        ],\n",
       "       [ 0.7946475 , 19.38425167, 17.        ],\n",
       "       [ 0.82217206, 19.96071268, 17.        ],\n",
       "       [ 0.84600735, 20.51955947, 18.        ],\n",
       "       [ 0.86664786, 21.06099594, 18.        ],\n",
       "       [ 0.8845218 , 21.58493086, 19.        ],\n",
       "       [ 0.9       , 22.09126423, 19.        ],\n",
       "       [ 0.91340357, 22.57988305, 20.        ],\n",
       "       [ 0.92501058, 23.05034971, 20.        ],\n",
       "       [ 0.93506184, 23.50226803, 20.        ],\n",
       "       [ 0.94376587, 23.93512033, 20.        ],\n",
       "       [ 0.95130325, 24.34833781, 20.        ],\n",
       "       [ 0.95783035, 24.74114634, 20.        ],\n",
       "       [ 0.96348259, 25.11294723, 19.        ],\n",
       "       [ 0.96837722, 25.46285894, 19.        ],\n",
       "       [ 0.9726158 , 25.79007213, 19.        ],\n",
       "       [ 0.97628626, 26.09378657, 18.        ],\n",
       "       [ 0.97946475, 26.37314434, 18.        ],\n",
       "       [ 0.98221721, 26.62738297, 17.        ],\n",
       "       [ 0.98460073, 26.85570282, 17.        ],\n",
       "       [ 0.98666479, 27.05738799, 16.        ],\n",
       "       [ 0.98845218, 27.23179545, 15.        ],\n",
       "       [ 0.99      , 27.37837072, 15.        ],\n",
       "       [ 0.99134036, 27.49667414, 14.        ],\n",
       "       [ 0.99250106, 27.58644867, 14.        ],\n",
       "       [ 0.99350618, 27.64740661, 13.        ],\n",
       "       [ 0.99437659, 27.67941186, 13.        ],\n",
       "       [ 0.99513032, 27.68266187, 12.        ],\n",
       "       [ 0.99578303, 27.65709003, 11.        ],\n",
       "       [ 0.99634826, 27.60306335, 11.        ],\n",
       "       [ 0.99683772, 27.52071683, 10.        ],\n",
       "       [ 0.99726158, 27.41048746, 10.        ],\n",
       "       [ 0.99762863, 27.27265532,  9.        ],\n",
       "       [ 0.99794647, 27.10757903,  9.        ],\n",
       "       [ 0.99822172, 26.91560685,  8.        ],\n",
       "       [ 0.99846007, 26.6970926 ,  8.        ],\n",
       "       [ 0.99866648, 26.45231304,  7.        ],\n",
       "       [ 0.99884522, 26.1814073 ,  7.        ],\n",
       "       [ 0.999     , 25.88467029,  7.        ],\n",
       "       [ 0.99913404, 25.56205652,  6.        ],\n",
       "       [ 0.99925011, 25.21356703,  6.        ],\n",
       "       [ 0.99935062, 24.83914173,  5.        ],\n",
       "       [ 0.99943766, 24.43849745,  5.        ],\n",
       "       [ 0.99951303, 24.0111915 ,  5.        ],\n",
       "       [ 0.9995783 , 23.55670048,  4.        ],\n",
       "       [ 0.99963483, 23.07438023,  4.        ],\n",
       "       [ 0.99968377, 22.56334028,  4.        ],\n",
       "       [ 0.99972616, 22.02260228,  4.        ],\n",
       "       [ 0.99976286, 21.45098874,  3.        ],\n",
       "       [ 0.99979465, 20.84734813,  3.        ],\n",
       "       [ 0.99982217, 20.21028088,  3.        ],\n",
       "       [ 0.99984601, 19.53855661,  3.        ],\n",
       "       [ 0.99986665, 18.83093745,  3.        ],\n",
       "       [ 0.99988452, 18.08647593,  2.        ],\n",
       "       [ 0.9999    , 17.30441743,  2.        ]])"
      ]
     },
     "execution_count": 49,
     "metadata": {},
     "output_type": "execute_result"
    }
   ],
   "source": [
    "data"
   ]
  },
  {
   "cell_type": "code",
   "execution_count": null,
   "metadata": {},
   "outputs": [],
   "source": [
    "os.makedirs(os.path.dirname(filename), exist_ok=True)\n",
    "# save data to file\n",
    "np.savetxt(\n",
    "    filename,\n",
    "    data,\n",
    "    delimiter=\"\\t\",\n",
    "    header=\"#lambda\\tnumber of discriminable inputs\\tdynamic_range\",\n",
    "    comments=\"\",\n",
    ")"
   ]
  }
 ],
 "metadata": {
  "kernelspec": {
   "display_name": "finite-observation",
   "language": "python",
   "name": "python3"
  },
  "language_info": {
   "codemirror_mode": {
    "name": "ipython",
    "version": 3
   },
   "file_extension": ".py",
   "mimetype": "text/x-python",
   "name": "python",
   "nbconvert_exporter": "python",
   "pygments_lexer": "ipython3",
   "version": "3.11.9"
  }
 },
 "nbformat": 4,
 "nbformat_minor": 2
}
