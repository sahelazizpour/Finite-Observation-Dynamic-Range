{
 "cells": [
  {
   "cell_type": "markdown",
   "metadata": {},
   "source": [
    "# Analytic solution for $T\\to 0$"
   ]
  },
  {
   "cell_type": "code",
   "execution_count": 1,
   "metadata": {},
   "outputs": [],
   "source": [
    "import numpy as np\n",
    "import matplotlib.pyplot as plt\n",
    "from tqdm import tqdm\n",
    "import time\n",
    "\n",
    "import os, sys\n",
    "rootpath = os.path.join(os.getcwd(), '.')\n",
    "sys.path.append(rootpath)\n",
    "from src.theory import *\n",
    "from src.analysis import *\n",
    "# reimport modules if they change\n",
    "%load_ext autoreload\n",
    "%autoreload 2"
   ]
  },
  {
   "cell_type": "markdown",
   "metadata": {},
   "source": [
    "## Parameters"
   ]
  },
  {
   "cell_type": "code",
   "execution_count": 2,
   "metadata": {},
   "outputs": [
    {
     "ename": "ValueError",
     "evalue": "File already exists",
     "output_type": "error",
     "traceback": [
      "\u001b[0;31m---------------------------------------------------------------------------\u001b[0m",
      "\u001b[0;31mValueError\u001b[0m                                Traceback (most recent call last)",
      "Cell \u001b[0;32mIn[2], line 17\u001b[0m\n\u001b[1;32m     14\u001b[0m filename \u001b[38;5;241m=\u001b[39m \u001b[38;5;124mf\u001b[39m\u001b[38;5;124m\"\u001b[39m\u001b[38;5;124mresults/results_analytic_0_N\u001b[39m\u001b[38;5;132;01m{\u001b[39;00mparams[\u001b[38;5;124m'\u001b[39m\u001b[38;5;124mN\u001b[39m\u001b[38;5;124m'\u001b[39m]\u001b[38;5;132;01m}\u001b[39;00m\u001b[38;5;124m_mu\u001b[39m\u001b[38;5;132;01m{\u001b[39;00mparams[\u001b[38;5;124m'\u001b[39m\u001b[38;5;124mmu\u001b[39m\u001b[38;5;124m'\u001b[39m]\u001b[38;5;132;01m}\u001b[39;00m\u001b[38;5;124m_epsilon\u001b[39m\u001b[38;5;132;01m{\u001b[39;00mparams[\u001b[38;5;124m'\u001b[39m\u001b[38;5;124mepsilon\u001b[39m\u001b[38;5;124m'\u001b[39m]\u001b[38;5;132;01m}\u001b[39;00m\u001b[38;5;124m_sigma\u001b[39m\u001b[38;5;132;01m{\u001b[39;00mparams[\u001b[38;5;124m'\u001b[39m\u001b[38;5;124msigma\u001b[39m\u001b[38;5;124m'\u001b[39m]\u001b[38;5;132;01m}\u001b[39;00m\u001b[38;5;124m.txt\u001b[39m\u001b[38;5;124m\"\u001b[39m\n\u001b[1;32m     16\u001b[0m \u001b[38;5;28;01mif\u001b[39;00m os\u001b[38;5;241m.\u001b[39mpath\u001b[38;5;241m.\u001b[39mexists(filename):\n\u001b[0;32m---> 17\u001b[0m     \u001b[38;5;28;01mraise\u001b[39;00m \u001b[38;5;167;01mValueError\u001b[39;00m(\u001b[38;5;124m\"\u001b[39m\u001b[38;5;124mFile already exists\u001b[39m\u001b[38;5;124m\"\u001b[39m)\n",
      "\u001b[0;31mValueError\u001b[0m: File already exists"
     ]
    }
   ],
   "source": [
    "# specify system parameters\n",
    "params = {\n",
    "    'N': 10000, # number of nodes\n",
    "# not required for mean-field:    'K': 100, # number of connections per node\n",
    "    'mu': 0.2, # fraction of nodes that receive input\n",
    "    'sigma': 0.01, # std of additive Gaussian noise\n",
    "    'epsilon': 0.1, # error threshold for overlap\n",
    "}\n",
    "#dt = 1 # fixed time step\n",
    "\n",
    "# this is resolution on x-axis in results figure (touch with care)\n",
    "lams = 1 - 10 ** np.linspace(0, -4, 64 + 1)\n",
    "\n",
    "filename = f\"results/results_analytic_0_N{params['N']}_mu{params['mu']}_epsilon{params['epsilon']}_sigma{params['sigma']}.txt\"\n",
    "\n",
    "if os.path.exists(filename):\n",
    "    raise ValueError(\"File already exists\")"
   ]
  },
  {
   "cell_type": "markdown",
   "metadata": {},
   "source": [
    "# Numerically evaluate the solution to the Fokker Planck solution\n",
    "\n",
    "This is done for integer values of the activity $x$ taking the continuum limit in time $t\\to 0$, i.e, looking at the instantaneous number of active neurons in the coupled system"
   ]
  },
  {
   "cell_type": "code",
   "execution_count": 3,
   "metadata": {},
   "outputs": [
    {
     "name": "stdout",
     "output_type": "stream",
     "text": [
      "\u001b[0;31mSignature:\u001b[0m \u001b[0mpmf_from_coupled_fokker_planck\u001b[0m\u001b[0;34m(\u001b[0m\u001b[0mparams\u001b[0m\u001b[0;34m,\u001b[0m \u001b[0mh\u001b[0m\u001b[0;34m,\u001b[0m \u001b[0mlam\u001b[0m\u001b[0;34m,\u001b[0m \u001b[0mreturn_only_pmf\u001b[0m\u001b[0;34m=\u001b[0m\u001b[0;32mFalse\u001b[0m\u001b[0;34m)\u001b[0m\u001b[0;34m\u001b[0m\u001b[0;34m\u001b[0m\u001b[0m\n",
      "\u001b[0;31mDocstring:\u001b[0m\n",
      "Solution to the Mean-field coupled Fokker-Planck equations. \n",
      "1.1) compute solution of FP equation of the part that receives input assuming a mean-field coupling to the recurrently coupled rest\n",
      "$$ p_{rec}(x_{in}) = \\lambda \frac{x_in + x_{rest}} {N} = \\lambda\frac{x_{in}/N}{\\left(1-(1-\\mu\\lambda)\right)}$$\n",
      "from mean-field assumption\n",
      "$$ x_{rest} = \frac{(1-\\mu)\\lambda x_{in}}{1-(1-\\mu)\\lambda}$$ \n",
      "\n",
      "1.2) compute solution of FP equation for the part that does not receive input assuming a mean-field coupling to the input part\n",
      "$$ p_{rec}(x_{rest}) = \\lambda \frac{x_{in} + x_{rest}} {N} = \\lambda\frac{x_{rest}/N + \\mu p_\\mathrm{ext}}{\\left(1-\\mu\\lambda(1-p_\\mathrm{ext})\right)}$$\n",
      "with \n",
      "$$ x_{in} = \\mu\frac{N p_\\mathrm{ext} + \\lambda (1-p_\\mathrm{ext}) x_\\mathrm{rest}}{1-\\mu\\lambda(1-p_\\mathrm{ext})} $$\n",
      "2) convolution of the two solutions to obtain the full pmf\n",
      "\u001b[0;31mFile:\u001b[0m      ~/git/projects/sahel_finite-observation-dynamic-range/src/theory.py\n",
      "\u001b[0;31mType:\u001b[0m      function"
     ]
    }
   ],
   "source": [
    "?pmf_from_coupled_fokker_planck"
   ]
  },
  {
   "cell_type": "code",
   "execution_count": 4,
   "metadata": {},
   "outputs": [
    {
     "name": "stdout",
     "output_type": "stream",
     "text": [
      "[-1000.     0.  1000.]\n",
      "[-1000.     0.  1000.  2000.  3000.  4000.  5000.  6000.  7000.  8000.\n",
      "  9000. 10000. 11000.]\n"
     ]
    }
   ],
   "source": [
    "# check the support\n",
    "x_gauss = support_gauss(bound= 10*params[\"N\"] * params[\"sigma\"], delta=1000)\n",
    "print(x_gauss)\n",
    "x = np.arange(0, params[\"N\"] + 1)\n",
    "x_conv= support_conv_pmf_gauss(x, x_gauss)\n",
    "print(x_conv)"
   ]
  },
  {
   "cell_type": "code",
   "execution_count": 1,
   "metadata": {},
   "outputs": [
    {
     "ename": "NameError",
     "evalue": "name 'support_gauss' is not defined",
     "output_type": "error",
     "traceback": [
      "\u001b[0;31m---------------------------------------------------------------------------\u001b[0m",
      "\u001b[0;31mNameError\u001b[0m                                 Traceback (most recent call last)",
      "Cell \u001b[0;32mIn[1], line 4\u001b[0m\n\u001b[1;32m      1\u001b[0m \u001b[38;5;28;01mfrom\u001b[39;00m \u001b[38;5;21;01mscipy\u001b[39;00m \u001b[38;5;28;01mimport\u001b[39;00m stats\n\u001b[1;32m      3\u001b[0m \u001b[38;5;66;03m# gaussian noise (cutoff determines the dynamic range, 5 sigma at 4th digit after comma in test cases)\u001b[39;00m\n\u001b[0;32m----> 4\u001b[0m x_gauss \u001b[38;5;241m=\u001b[39m \u001b[43msupport_gauss\u001b[49m(bound\u001b[38;5;241m=\u001b[39m\u001b[38;5;28mint\u001b[39m(\u001b[38;5;241m5\u001b[39m \u001b[38;5;241m*\u001b[39m params[\u001b[38;5;124m\"\u001b[39m\u001b[38;5;124mN\u001b[39m\u001b[38;5;124m\"\u001b[39m] \u001b[38;5;241m*\u001b[39m params[\u001b[38;5;124m\"\u001b[39m\u001b[38;5;124msigma\u001b[39m\u001b[38;5;124m\"\u001b[39m] ), delta\u001b[38;5;241m=\u001b[39m\u001b[38;5;241m1\u001b[39m)\n\u001b[1;32m      5\u001b[0m pmf_gauss \u001b[38;5;241m=\u001b[39m stats\u001b[38;5;241m.\u001b[39mnorm\u001b[38;5;241m.\u001b[39mpdf(x_gauss, \u001b[38;5;241m0\u001b[39m, params[\u001b[38;5;124m\"\u001b[39m\u001b[38;5;124mN\u001b[39m\u001b[38;5;124m\"\u001b[39m] \u001b[38;5;241m*\u001b[39m params[\u001b[38;5;124m\"\u001b[39m\u001b[38;5;124msigma\u001b[39m\u001b[38;5;124m\"\u001b[39m])\n\u001b[1;32m      7\u001b[0m \u001b[38;5;66;03m# final support (pmf from coupled fokker planck has always support [0:N])\u001b[39;00m\n",
      "\u001b[0;31mNameError\u001b[0m: name 'support_gauss' is not defined"
     ]
    }
   ],
   "source": [
    "from scipy import stats\n",
    "\n",
    "# gaussian noise (cutoff determines the dynamic range, 5 sigma at 4th digit after comma in test cases)\n",
    "x_gauss = support_gauss(bound=int(5 * params[\"N\"] * params[\"sigma\"]), delta=1)\n",
    "pmf_gauss = stats.norm.pdf(x_gauss, 0, params[\"N\"] * params[\"sigma\"])\n",
    "\n",
    "# final support (pmf from coupled fokker planck has always support [0:N])\n",
    "x = np.arange(0, params[\"N\"] + 1)\n",
    "x_conv = support_conv_pmf_gauss(x, x_gauss)\n",
    "# x_conv = np.arange(np.min(x) + support_gauss[0], np.max(x) + support_gauss[-1] + 1)\n",
    "indices_x = np.searchsorted(x_conv, x)\n",
    "pmf = np.zeros_like(x_conv, dtype=np.float64)\n",
    "\n",
    "def pmf_noise(lam, h):\n",
    "    pmf[indices_x] = pmf_from_coupled_fokker_planck(params, h=h, lam=lam, return_only_pmf=True)\n",
    "    return np.convolve(pmf, pmf_gauss, mode=\"same\")\n",
    "\n",
    "def analysis(lam, verbose=False):\n",
    "    start = time.time()\n",
    "    pmf_o_given_h = lambda h: pmf_noise(lam, h)\n",
    "\n",
    "    # get h_range based on useful bounds from mean-field solution\n",
    "    h_range = h_range_theory(lam, params, verbose=verbose)\n",
    "    if h_range[0] >= h_range[1]:\n",
    "        return lam, np.nan, np.nan\n",
    "\n",
    "    # get refernce distributions from mean-field solution\n",
    "    pmf_refs = [stats.norm.pdf(x_conv, params[\"N\"] * mean_field_activity(lam, params[\"mu\"], h), params[\"N\"] * params[\"sigma\"]) for h in [0, np.inf]]\n",
    "\n",
    "    # get dynamic range and number of discriminable states\n",
    "    dr, nd = analysis_dr_nd(pmf_o_given_h, h_range, pmf_refs, params[\"epsilon\"], verbose=verbose)\n",
    "    \n",
    "    end = time.time()\n",
    "    if verbose:\n",
    "        print(f\"lam={lam:.2f} took {end - start:.2f}s\")\n",
    "    return lam, dr, nd"
   ]
  },
  {
   "cell_type": "code",
   "execution_count": 8,
   "metadata": {},
   "outputs": [
    {
     "name": "stdout",
     "output_type": "stream",
     "text": [
      "lambda: 0, h_range: (5.000025000143912e-05, 11.51292546497478)\n",
      "possible solution: h=0.13825024402932498 with overlap to end of 3.290027161844163e-28 ... accepted\n",
      "possible solution: h=0.3000358992971834 with overlap to end of 5.432546317485202e-18 ... accepted\n",
      "possible solution: h=0.49444202103621 with overlap to end of 4.431155589809142e-11 ... accepted\n",
      "possible solution: h=0.7367465280840273 with overlap to end of 9.917572054445922e-07 ... accepted\n",
      "possible solution: h=1.056998496230046 with overlap to end of 0.0002917355410155016 ... accepted\n",
      "possible solution: h=1.5286567495343317 with overlap to end of 0.015670180237087827 ... accepted\n",
      "possible solution: h=2.440858003127142 with overlap to end of 0.1921697423041292 ... rejected\n",
      "possible solution: h=2.0509193526298937 with overlap to end of 3.224189046600585e-28 ... accepted\n",
      "possible solution: h=1.3520783662180742 with overlap to end of 5.396403863765194e-18 ... accepted\n",
      "possible solution: h=0.9426852444381199 with overlap to end of 4.423959861349516e-11 ... accepted\n",
      "possible solution: h=0.6523467945322908 with overlap to end of 9.913046440384441e-07 ... accepted\n",
      "possible solution: h=0.4277189317297159 with overlap to end of 0.0002916770114466428 ... accepted\n",
      "possible solution: h=0.24504681683890547 with overlap to end of 0.015669310568847968 ... accepted\n",
      "possible solution: h=0.09166307030087484 with overlap to end of 0.19217226461387543 ... rejected\n",
      "lam=0.00 took 4.56s\n"
     ]
    },
    {
     "data": {
      "text/plain": [
       "(0, 11.712826765768835, 6.0)"
      ]
     },
     "execution_count": 8,
     "metadata": {},
     "output_type": "execute_result"
    }
   ],
   "source": [
    "#check for lam=0 (time = 5min)\n",
    "analysis(lam=0, verbose=True)"
   ]
  },
  {
   "cell_type": "code",
   "execution_count": 9,
   "metadata": {},
   "outputs": [
    {
     "data": {
      "text/plain": [
       "(0, 11.712826765754418, 6.0)"
      ]
     },
     "execution_count": 9,
     "metadata": {},
     "output_type": "execute_result"
    }
   ],
   "source": [
    "(0, 11.712826765754418, 6.0)"
   ]
  },
  {
   "cell_type": "code",
   "execution_count": 10,
   "metadata": {},
   "outputs": [
    {
     "name": "stdout",
     "output_type": "stream",
     "text": [
      "lambda: 0.99, h_range: (5.00004974666674e-07, 6.908744789259883)\n",
      "possible solution: h=0.0017584018304133016 with overlap to end of 8.256257853886492e-87 ... accepted\n",
      "possible solution: h=0.004767092458042871 with overlap to end of 6.207167074892095e-78 ... accepted\n",
      "possible solution: h=0.00921116736973309 with overlap to end of 6.492407128588355e-69 ... accepted\n",
      "possible solution: h=0.015331939480266113 with overlap to end of 5.080223352501174e-60 ... accepted\n",
      "possible solution: h=0.023475884145613853 with overlap to end of 1.839247419374956e-51 ... accepted\n",
      "possible solution: h=0.03412766952944868 with overlap to end of 2.2011022261771485e-43 ... accepted\n",
      "possible solution: h=0.04796477720431492 with overlap to end of 6.854752657996136e-36 ... accepted\n",
      "possible solution: h=0.06594845689143355 with overlap to end of 4.679915025708171e-29 ... accepted\n",
      "possible solution: h=0.08948191451263258 with overlap to end of 6.177562902572778e-23 ... accepted\n",
      "possible solution: h=0.12070269506153133 with overlap to end of 1.4502758546669325e-17 ... accepted\n",
      "possible solution: h=0.1630661332034192 with overlap to end of 5.741228438367043e-13 ... accepted\n",
      "possible solution: h=0.222629165024023 with overlap to end of 3.766532128866657e-09 ... accepted\n",
      "possible solution: h=0.311275830185025 with overlap to end of 4.213684183994991e-06 ... accepted\n",
      "possible solution: h=0.4565515725238742 with overlap to end of 0.0008623514596005783 ... accepted\n",
      "possible solution: h=0.743281800237003 with overlap to end of 0.035031043035489755 ... accepted\n",
      "possible solution: h=1.7119679245598438 with overlap to end of 0.3146314366555394 ... rejected\n",
      "possible solution: h=0.9615130851591109 with overlap to end of 0.0 ... accepted\n",
      "possible solution: h=0.5447463463991942 with overlap to end of 5.650775188363238e-296 ... accepted\n",
      "possible solution: h=0.35992870120878856 with overlap to end of 2.9506175599763883e-232 ... accepted\n",
      "possible solution: h=0.2535381686895538 with overlap to end of 1.222098300786913e-182 ... accepted\n",
      "possible solution: h=0.18431202008576184 with overlap to end of 7.53339401860482e-143 ... accepted\n",
      "possible solution: h=0.1360249680584137 with overlap to end of 1.652170021540765e-110 ... accepted\n",
      "possible solution: h=0.10087364522038562 with overlap to end of 3.9277817653147413e-84 ... accepted\n",
      "possible solution: h=0.07458249389468645 with overlap to end of 1.0318498389090583e-62 ... accepted\n",
      "possible solution: h=0.0545831823927111 with overlap to end of 1.652300050330522e-45 ... accepted\n",
      "possible solution: h=0.03922554292365629 with overlap to end of 6.265755779616833e-32 ... accepted\n",
      "possible solution: h=0.027396216098718215 with overlap to end of 1.8060019949325295e-21 ... accepted\n",
      "possible solution: h=0.018318126737400176 with overlap to end of 1.1520834161411192e-13 ... accepted\n",
      "possible solution: h=0.011437730374625737 with overlap to end of 4.268149152619495e-08 ... accepted\n",
      "possible solution: h=0.006358333309526803 with overlap to end of 0.0002095628731772678 ... accepted\n",
      "possible solution: h=0.0027994642620433738 with overlap to end of 0.030202069891586702 ... accepted\n",
      "possible solution: h=0.0005774686197352562 with overlap to end of 0.3190457288817422 ... rejected\n",
      "lam=0.99 took 17.30s\n"
     ]
    },
    {
     "data": {
      "text/plain": [
       "(0.99, 27.378370717358827, 15.0)"
      ]
     },
     "execution_count": 10,
     "metadata": {},
     "output_type": "execute_result"
    }
   ],
   "source": [
    "# check for lam=0.99\n",
    "analysis(lam=0.99, verbose=True)"
   ]
  },
  {
   "cell_type": "code",
   "execution_count": 11,
   "metadata": {},
   "outputs": [
    {
     "name": "stdout",
     "output_type": "stream",
     "text": [
      "lambda: 0.9999, h_range: (5.000049821126501e-09, 2.397886181852251)\n",
      "possible solution: h=0.0001520910998518088 with overlap to end of 0.0002378222955713741 ... accepted\n",
      "possible solution: h=0.0017872234750100798 with overlap to end of 0.01522241634752296 ... accepted\n",
      "possible solution: h=0.0171934712061521 with overlap to end of 0.1891870952432714 ... rejected\n",
      "possible solution: h=0.008176087689037432 with overlap to end of 8.076924396451478e-27 ... accepted\n",
      "possible solution: h=0.0008452834858042583 with overlap to end of 7.911263423992421e-05 ... accepted\n",
      "possible solution: h=8.096489337224851e-05 with overlap to end of 0.23527295192168746 ... rejected\n",
      "lam=1.00 took 3.91s\n"
     ]
    },
    {
     "data": {
      "text/plain": [
       "(0.9999, 17.30441740130146, 2.0)"
      ]
     },
     "execution_count": 11,
     "metadata": {},
     "output_type": "execute_result"
    }
   ],
   "source": [
    "# check for lam=0.9999\n",
    "analysis(lam=0.9999, verbose=True)"
   ]
  },
  {
   "cell_type": "code",
   "execution_count": 12,
   "metadata": {},
   "outputs": [
    {
     "name": "stderr",
     "output_type": "stream",
     "text": [
      "100%|██████████| 65/65 [03:27<00:00,  3.18s/it]\n"
     ]
    }
   ],
   "source": [
    "# 65 points took 50min with full symmetric support, now takes 2.5min almost identical result\n",
    "from dask.distributed import Client, LocalCluster, as_completed\n",
    "# execute independent lambda computations in parallel with dask\n",
    "cluster = LocalCluster()\n",
    "dask_client = Client(cluster)\n",
    "\n",
    "futures = dask_client.map(analysis, lams)\n",
    "\n",
    "# run analysis\n",
    "data = []\n",
    "for future in tqdm(as_completed(futures), total=len(lams)):\n",
    "    data.append(future.result())\n",
    "\n",
    "# sort data by first column\n",
    "data = np.array(sorted(data, key=lambda x: x[0]))"
   ]
  },
  {
   "cell_type": "code",
   "execution_count": 13,
   "metadata": {},
   "outputs": [
    {
     "data": {
      "text/plain": [
       "array([[ 0.        , 11.71282677,  6.        ],\n",
       "       [ 0.13403568, 12.52555732,  7.        ],\n",
       "       [ 0.25010579, 13.315182  ,  8.        ],\n",
       "       [ 0.35061837, 14.07835876,  9.        ],\n",
       "       [ 0.43765867, 14.81664097, 10.        ],\n",
       "       [ 0.51303247, 15.5313915 , 11.        ],\n",
       "       [ 0.5783035 , 16.22380629, 12.        ],\n",
       "       [ 0.63482587, 16.89498878, 13.        ],\n",
       "       [ 0.68377223, 17.54590836, 14.        ],\n",
       "       [ 0.72615804, 18.17732337, 15.        ],\n",
       "       [ 0.76286263, 18.78993933, 16.        ],\n",
       "       [ 0.7946475 , 19.38425167, 17.        ],\n",
       "       [ 0.82217206, 19.96071268, 17.        ],\n",
       "       [ 0.84600735, 20.51955947, 18.        ],\n",
       "       [ 0.86664786, 21.06099594, 18.        ],\n",
       "       [ 0.8845218 , 21.58493086, 19.        ],\n",
       "       [ 0.9       , 22.09126423, 19.        ],\n",
       "       [ 0.91340357, 22.57988305, 20.        ],\n",
       "       [ 0.92501058, 23.05034971, 20.        ],\n",
       "       [ 0.93506184, 23.50226803, 20.        ],\n",
       "       [ 0.94376587, 23.93512033, 20.        ],\n",
       "       [ 0.95130325, 24.3483378 , 20.        ],\n",
       "       [ 0.95783035, 24.74114634, 20.        ],\n",
       "       [ 0.96348259, 25.11294723, 19.        ],\n",
       "       [ 0.96837722, 25.46285894, 19.        ],\n",
       "       [ 0.9726158 , 25.79007213, 19.        ],\n",
       "       [ 0.97628626, 26.09378657, 18.        ],\n",
       "       [ 0.97946475, 26.37314434, 18.        ],\n",
       "       [ 0.98221721, 26.62738297, 17.        ],\n",
       "       [ 0.98460073, 26.85570282, 17.        ],\n",
       "       [ 0.98666479, 27.05738799, 16.        ],\n",
       "       [ 0.98845218, 27.23179545, 15.        ],\n",
       "       [ 0.99      , 27.37837072, 15.        ],\n",
       "       [ 0.99134036, 27.49667415, 14.        ],\n",
       "       [ 0.99250106, 27.58644867, 14.        ],\n",
       "       [ 0.99350618, 27.64740662, 13.        ],\n",
       "       [ 0.99437659, 27.67941187, 13.        ],\n",
       "       [ 0.99513032, 27.68266186, 12.        ],\n",
       "       [ 0.99578303, 27.65709002, 11.        ],\n",
       "       [ 0.99634826, 27.60306334, 11.        ],\n",
       "       [ 0.99683772, 27.52071682, 10.        ],\n",
       "       [ 0.99726158, 27.41048746, 10.        ],\n",
       "       [ 0.99762863, 27.27265532,  9.        ],\n",
       "       [ 0.99794647, 27.10757903,  9.        ],\n",
       "       [ 0.99822172, 26.91560686,  8.        ],\n",
       "       [ 0.99846007, 26.69709259,  8.        ],\n",
       "       [ 0.99866648, 26.45231304,  7.        ],\n",
       "       [ 0.99884522, 26.1814073 ,  7.        ],\n",
       "       [ 0.999     , 25.88467027,  7.        ],\n",
       "       [ 0.99913404, 25.56205652,  6.        ],\n",
       "       [ 0.99925011, 25.21356702,  6.        ],\n",
       "       [ 0.99935062, 24.83914175,  5.        ],\n",
       "       [ 0.99943766, 24.43849746,  5.        ],\n",
       "       [ 0.99951303, 24.01119152,  5.        ],\n",
       "       [ 0.9995783 , 23.5567005 ,  4.        ],\n",
       "       [ 0.99963483, 23.07438025,  4.        ],\n",
       "       [ 0.99968377, 22.56334027,  4.        ],\n",
       "       [ 0.99972616, 22.02260226,  4.        ],\n",
       "       [ 0.99976286, 21.45098874,  3.        ],\n",
       "       [ 0.99979465, 20.84734814,  3.        ],\n",
       "       [ 0.99982217, 20.21028092,  3.        ],\n",
       "       [ 0.99984601, 19.53855659,  3.        ],\n",
       "       [ 0.99986665, 18.83093741,  3.        ],\n",
       "       [ 0.99988452, 18.0864759 ,  2.        ],\n",
       "       [ 0.9999    , 17.3044174 ,  2.        ]])"
      ]
     },
     "execution_count": 13,
     "metadata": {},
     "output_type": "execute_result"
    }
   ],
   "source": [
    "data"
   ]
  },
  {
   "cell_type": "code",
   "execution_count": null,
   "metadata": {},
   "outputs": [],
   "source": [
    "os.makedirs(os.path.dirname(filename), exist_ok=True)\n",
    "# save data to file\n",
    "np.savetxt(\n",
    "    filename,\n",
    "    data,\n",
    "    delimiter=\"\\t\",\n",
    "    header=\"#lambda\\tnumber of discriminable inputs\\tdynamic_range\",\n",
    "    comments=\"\",\n",
    ")"
   ]
  }
 ],
 "metadata": {
  "kernelspec": {
   "display_name": "finite-observation",
   "language": "python",
   "name": "python3"
  },
  "language_info": {
   "codemirror_mode": {
    "name": "ipython",
    "version": 3
   },
   "file_extension": ".py",
   "mimetype": "text/x-python",
   "name": "python",
   "nbconvert_exporter": "python",
   "pygments_lexer": "ipython3",
   "version": "3.10.14"
  }
 },
 "nbformat": 4,
 "nbformat_minor": 2
}
