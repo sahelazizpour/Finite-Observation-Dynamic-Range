{
 "cells": [
  {
   "cell_type": "markdown",
   "metadata": {},
   "source": [
    "# Plots for the figure that illustrats the problem"
   ]
  },
  {
   "cell_type": "code",
   "execution_count": 98,
   "metadata": {},
   "outputs": [
    {
     "name": "stdout",
     "output_type": "stream",
     "text": [
      "The autoreload extension is already loaded. To reload it, use:\n",
      "  %reload_ext autoreload\n"
     ]
    }
   ],
   "source": [
    "import torch # for some reason I need to import torch before numpy to avoid a kernel crash\n",
    "\n",
    "import numpy as np\n",
    "import matplotlib.pyplot as plt\n",
    "import pandas as pd\n",
    "\n",
    "import os, sys\n",
    "rootpath = os.path.join(os.getcwd(), '.')\n",
    "sys.path.append(rootpath)\n",
    "from src.simulation import *\n",
    "from src.approximation import *\n",
    "from src.theory import *\n",
    "from src.analysis import *\n",
    "# reimport modules if they change\n",
    "%load_ext autoreload\n",
    "%autoreload 2"
   ]
  },
  {
   "cell_type": "code",
   "execution_count": 99,
   "metadata": {},
   "outputs": [],
   "source": [
    "params = {\n",
    "    'N': int(1e4),\n",
    "    'K': 100,\n",
    "    'mu': 0.2,\n",
    "    'sigma': 0.01,\n",
    "    \"epsilon\": 0.1, # overap\n",
    "    'seed': 1000,\n",
    "}\n",
    "kwargs_figures = {\n",
    "    'transparent': True,\n",
    "    'dpi': 300,\n",
    "    'bbox_inches': 'tight',\n",
    "}"
   ]
  },
  {
   "cell_type": "markdown",
   "metadata": {},
   "source": [
    "## Example trajectories"
   ]
  },
  {
   "cell_type": "code",
   "execution_count": 100,
   "metadata": {},
   "outputs": [
    {
     "name": "stdout",
     "output_type": "stream",
     "text": [
      "   lambda  window\n",
      "0   0.900    10.0\n",
      "1   0.990    10.0\n",
      "2   0.999    10.0\n",
      "3   0.900   100.0\n",
      "4   0.990   100.0\n",
      "5   0.999   100.0\n",
      "6   0.900  1000.0\n",
      "7   0.990  1000.0\n",
      "8   0.999  1000.0\n"
     ]
    }
   ],
   "source": [
    "# set table (lambda, Tlist, h) with simulation parameters\n",
    "lams = [0.9, 0.99, 0.999]\n",
    "windows = [1e1, 1e2, 1e3]\n",
    "# create examples dataframe with np.meshgrid\n",
    "lams, windows = np.meshgrid(lams, windows)\n",
    "examples = pd.DataFrame({\n",
    "    'lambda': lams.flatten(),\n",
    "    'window': windows.flatten()\n",
    "})\n",
    "print(examples)"
   ]
  },
  {
   "cell_type": "code",
   "execution_count": 125,
   "metadata": {},
   "outputs": [
    {
     "name": "stdout",
     "output_type": "stream",
     "text": [
      "Simulating for lambda=0.9 all windows\n",
      "initialize with random spiking condition\n"
     ]
    },
    {
     "name": "stderr",
     "output_type": "stream",
     "text": [
      "burn-in dynamics: 100%|██████████| 1000/1000 [00:01<00:00, 944.76it/s]\n",
      "equilibration for running estimates: 100%|██████████| 2000/2000 [00:02<00:00, 868.08it/s]\n",
      "recording: 100%|██████████| 10000/10000 [00:11<00:00, 871.23it/s]\n"
     ]
    },
    {
     "name": "stdout",
     "output_type": "stream",
     "text": [
      "initialize with random spiking condition\n"
     ]
    },
    {
     "name": "stderr",
     "output_type": "stream",
     "text": [
      "burn-in dynamics: 100%|██████████| 1000/1000 [00:01<00:00, 882.48it/s]\n",
      "equilibration for running estimates: 100%|██████████| 2000/2000 [00:02<00:00, 778.78it/s]\n",
      "recording: 100%|██████████| 10000/10000 [00:11<00:00, 844.97it/s]\n"
     ]
    },
    {
     "name": "stdout",
     "output_type": "stream",
     "text": [
      "Loading 1/9: dat/example_simulations/trace_lambda=0.9_window=10.0.txt\n",
      "Simulating for lambda=0.99 all windows\n",
      "initialize with random spiking condition\n"
     ]
    },
    {
     "name": "stderr",
     "output_type": "stream",
     "text": [
      "burn-in dynamics: 100%|██████████| 1000/1000 [00:01<00:00, 838.82it/s]\n",
      "equilibration for running estimates: 100%|██████████| 2000/2000 [00:02<00:00, 832.42it/s]\n",
      "recording: 100%|██████████| 10000/10000 [00:12<00:00, 806.20it/s]\n"
     ]
    },
    {
     "name": "stdout",
     "output_type": "stream",
     "text": [
      "initialize with random spiking condition\n"
     ]
    },
    {
     "name": "stderr",
     "output_type": "stream",
     "text": [
      "burn-in dynamics: 100%|██████████| 1000/1000 [00:01<00:00, 725.31it/s]\n",
      "equilibration for running estimates: 100%|██████████| 2000/2000 [00:02<00:00, 694.78it/s]\n",
      "recording: 100%|██████████| 10000/10000 [00:12<00:00, 790.27it/s]\n"
     ]
    },
    {
     "name": "stdout",
     "output_type": "stream",
     "text": [
      "Loading 2/9: dat/example_simulations/trace_lambda=0.99_window=10.0.txt\n",
      "Simulating for lambda=0.999 all windows\n",
      "initialize with random spiking condition\n"
     ]
    },
    {
     "name": "stderr",
     "output_type": "stream",
     "text": [
      "burn-in dynamics: 100%|██████████| 1000/1000 [00:01<00:00, 968.42it/s]\n",
      "equilibration for running estimates: 100%|██████████| 2000/2000 [00:02<00:00, 822.02it/s]\n",
      "recording: 100%|██████████| 10000/10000 [00:12<00:00, 774.07it/s]\n"
     ]
    },
    {
     "name": "stdout",
     "output_type": "stream",
     "text": [
      "initialize with random spiking condition\n"
     ]
    },
    {
     "name": "stderr",
     "output_type": "stream",
     "text": [
      "burn-in dynamics: 100%|██████████| 1000/1000 [00:01<00:00, 835.46it/s]\n",
      "equilibration for running estimates: 100%|██████████| 2000/2000 [00:02<00:00, 830.92it/s]\n",
      "recording: 100%|██████████| 10000/10000 [00:12<00:00, 814.15it/s]\n"
     ]
    },
    {
     "name": "stdout",
     "output_type": "stream",
     "text": [
      "Loading 3/9: dat/example_simulations/trace_lambda=0.999_window=10.0.txt\n",
      "Loading 4/9: dat/example_simulations/trace_lambda=0.9_window=100.0.txt\n",
      "Loading 5/9: dat/example_simulations/trace_lambda=0.99_window=100.0.txt\n",
      "Loading 6/9: dat/example_simulations/trace_lambda=0.999_window=100.0.txt\n",
      "Loading 7/9: dat/example_simulations/trace_lambda=0.9_window=1000.0.txt\n",
      "Loading 8/9: dat/example_simulations/trace_lambda=0.99_window=1000.0.txt\n",
      "Loading 9/9: dat/example_simulations/trace_lambda=0.999_window=1000.0.txt\n"
     ]
    }
   ],
   "source": [
    "# generate example simulations if not already saved in /dat/example_simulations\n",
    "traces = []\n",
    "T_record = int(1e4)\n",
    "delta = 5*params['sigma'] # to minimize overlap for large T \n",
    "a1=0.5 - delta/2\n",
    "a2=0.5 + delta/2\n",
    "_filename = lambda lam, window : f'dat/example_simulations/trace_lambda={lam}_window={window}.txt'\n",
    "params['seed']=1234\n",
    "# unique lambda\n",
    "for i, row in examples.iterrows():\n",
    "    filename_load = _filename(row['lambda'], row['window'])\n",
    "    # check if file exists and if not simulate for all windows\n",
    "    if not os.path.exists(filename_load):\n",
    "        print(f\"Simulating for lambda={row['lambda']} all windows\")\n",
    "        windows = examples[examples['lambda'] == row['lambda']]['window'].values\n",
    "        params['lambda'] = row['lambda']\n",
    "        # get 2 input rates at close but different mean activities\n",
    "        h1 = scipy.optimize.bisect(lambda h: mean_field_activity(params['lambda'], params['mu'], h) - a1, 0, 1)\n",
    "        params['h'] = h1\n",
    "        params['seed'] += 1\n",
    "        result_h1 = simulation(params, windows=windows, steps={'burn':int(1e3), 'equil':2*int(np.max(windows)), 'record':T_record})\n",
    "        h2 = scipy.optimize.bisect(lambda h: mean_field_activity(params['lambda'], params['mu'], h) - a2, 0, 1)\n",
    "        params['h'] = h2\n",
    "        params['seed'] += 1\n",
    "        result_h2 = simulation(params, windows=windows, steps={'burn':int(1e3), 'equil':2*int(np.max(windows)), 'record':T_record})\n",
    "        # write to file(s)\n",
    "        for window in windows:\n",
    "            filename_create = _filename(row['lambda'], window)\n",
    "            # combine trace from result_h1 and result_h2 in 2D array\n",
    "            trace = np.vstack(([result_h1['samples'][window], result_h2['samples'][window]])).T\n",
    "            np.savetxt(filename_create, trace)\n",
    "    \n",
    "    # load next file \n",
    "    print(f\"Loading {i+1}/{len(examples)}: {filename_load}\")\n",
    "    traces.append(np.loadtxt(filename_load))\n"
   ]
  },
  {
   "cell_type": "code",
   "execution_count": 102,
   "metadata": {},
   "outputs": [
    {
     "name": "stdout",
     "output_type": "stream",
     "text": [
      "5\n"
     ]
    }
   ],
   "source": [
    "# colors in fig_results\n",
    "colors_fig_results = [(0.9978256142639704, 0.9565122852794086, 0.6651445966514459, 1.0), (0.9865579108355671, 0.8655440258295098, 0.36898156522883124, 1.0), (0.9375300805253609, 0.5770341013117577, 0.22944081742285957, 1.0), (0.8428398756762985, 0.3113809907524655, 0.11267411074018642, 1.0), (0.3503415064655997, 0.21353363263113462, 0.17790568282107366, 1.0)]\n",
    "print(len(colors_fig_results))"
   ]
  },
  {
   "cell_type": "code",
   "execution_count": 223,
   "metadata": {},
   "outputs": [
    {
     "name": "stdout",
     "output_type": "stream",
     "text": [
      "[-2.    -1.999 -1.998 ...  7.997  7.998  7.999]\n"
     ]
    },
    {
     "data": {
      "image/png": "[encoded data removed]",
      "text/plain": [
       "<Figure size 334.646x267.717 with 9 Axes>"
      ]
     },
     "metadata": {},
     "output_type": "display_data"
    }
   ],
   "source": [
    "import colorsys\n",
    "\n",
    "# make matrix of plots\n",
    "lams = np.sort(examples['lambda'].unique())\n",
    "windows = np.sort(examples['window'].unique())\n",
    "windows_results = [1e0,1e1,1e2,1e3,1e4]\n",
    "\n",
    "# plot example traces\n",
    "time = np.arange(T_record)/1000.0\n",
    "# select [0,5]s window, shift time if necessary\n",
    "time -= 2\n",
    "mask = (0 < time) & (time < 5)\n",
    "print(time)\n",
    "\n",
    "cm = 1/2.54  # centimeters in inches\n",
    "fig, ax = plt.subplots(len(lams), len(windows), figsize=(8.5*cm, 6.8*cm), sharex=True, sharey=True)\n",
    "a_min=0.30\n",
    "a_max=0.70\n",
    "oy = len(windows)-1\n",
    "for (i,lam) in enumerate(lams):\n",
    "    for (j,window) in enumerate(windows):\n",
    "        np.random.seed(1234) # ensure noise is the same for all examples\n",
    "        id_results = windows_results.index(window)\n",
    "        \n",
    "        # get index of example for this lambda, window combination\n",
    "        idx = examples[(examples['lambda']==lam) & (examples['window']==window)].index[0]\n",
    "        # create noisy output by multiplying with uncorrelated Gaussian noise\n",
    "        trace = traces[idx] #+ np.random.randn(*traces[idx].shape)*params['sigma']\n",
    "        \n",
    "        # draw gray background from bottom to top whenever trace[:,0] > trace[:,1]\n",
    "        ax[oy-j, i].fill_between(time[mask], a_min, a_max, where=trace[:,0][mask]>trace[:,1][mask], color='lightgray', rasterized=True)\n",
    "        # convert color to h,l,s to adjust brightness\n",
    "        color = colors_fig_results[id_results]\n",
    "        h,l,s = colorsys.rgb_to_hls(*color[0:3])\n",
    "        # first trace with lighter line\n",
    "        color1 = colorsys.hls_to_rgb(h,l*1.2,s)\n",
    "        # make opaque band around trace for the noise with width sigma\n",
    "        ax[oy-j, i].fill_between(time[mask], trace[:,0][mask]-2*params['sigma'], trace[:,0][mask]+2*params['sigma'], color=color1, alpha=0.4, rasterized=True)\n",
    "        ax[oy-j, i].plot(time[mask], trace[:,0][mask], color=color1)\n",
    "\n",
    "        # second trace with darker line\n",
    "        color2 = colorsys.hls_to_rgb(h,l*0.8,s)\n",
    "        ax[oy-j, i].fill_between(time[mask], trace[:,1][mask]-2*params['sigma'], trace[:,1][mask]+2*params['sigma'], color=color1, alpha=0.4, rasterized=True)\n",
    "        ax[oy-j, i].plot(time[mask], trace[:,1][mask], color=color2)\n",
    "        \n",
    "\n",
    "        ax[oy-j, i].set_ylim([a_min, a_max])\n",
    "\n",
    "        # remove right and top spines\n",
    "        ax[oy-j, i].spines['right'].set_visible(False)\n",
    "        ax[oy-j, i].spines['top'].set_visible(False)\n",
    "\n",
    "        # add ticks manually\n",
    "        ax[oy-j, i].set_xticks([0, 5])\n",
    "        # no ticks for y-axis but instead draw small arrows at respective places in the colors of the traces\n",
    "        ax[oy-j, i].set_yticks([a1,a2])\n",
    "        # arrow with annotate\n",
    "        ax[oy-j, i].annotate('', xy=(-0.07, a1), xytext=(-1.2, a1), arrowprops=dict(facecolor='white', edgecolor='white', arrowstyle='-|>', linewidth=1))\n",
    "        ax[oy-j, i].annotate('', xy=(-0.07, a1), xytext=(-1.2, a1), arrowprops=dict(facecolor=color1, edgecolor=color1, arrowstyle='-|>', linewidth=1))\n",
    "        ax[oy-j, i].annotate('', xy=(-0.07, a2), xytext=(-1.2, a2), arrowprops=dict(facecolor=color2, edgecolor=color2, arrowstyle='-|>', linewidth=1))\n",
    "\n",
    "\n",
    "        # remove labels of tics\n",
    "        ax[oy-j, i].set_yticklabels([])\n",
    "        ax[oy-j, i].set_xticklabels([])\n",
    "\n",
    "ax[oy-1, 0].set_xticklabels([0, 5])\n",
    "fig.tight_layout()\n",
    "fig.savefig(\"./figures/fig_problem_examples.pdf\", **kwargs_figures)"
   ]
  },
  {
   "cell_type": "markdown",
   "metadata": {},
   "source": [
    "## Illustration of the overlap using beta interpolation\n",
    "Specific example"
   ]
  },
  {
   "cell_type": "code",
   "execution_count": 159,
   "metadata": {},
   "outputs": [],
   "source": [
    "# set seed to a value for which database entry exists\n",
    "params[\"seed\"] = 1000\n",
    "\n",
    "lam = 0.999\n",
    "window = 10\n",
    "\n",
    "xmin=5e-5\n",
    "xmax=5e-1\n",
    "ymin=-0.03\n",
    "ymax=1.09"
   ]
  },
  {
   "cell_type": "code",
   "execution_count": 105,
   "metadata": {},
   "outputs": [
    {
     "name": "stdout",
     "output_type": "stream",
     "text": [
      "Load beta interpolation from file: ./dat/beta_interpolation_N=10000_K=100_mu=0.2_seed=1000.pkl\n"
     ]
    }
   ],
   "source": [
    "# load relevant information from database\n",
    "import sqlite3\n",
    "database = \"./simulations.db\"\n",
    "con = sqlite3.connect(database)\n",
    "cur = con.cursor()\n",
    "\n",
    "# load function approximation from database\n",
    "beta_interpolation = pd.read_sql_query(\n",
    "    f\"SELECT * FROM beta_interpolations WHERE N={params['N']} AND K={params['K']} AND mu={params['mu']} AND seed={params['seed']}\",\n",
    "    con,\n",
    ")\n",
    "# check that there is a unique function approximation\n",
    "if not len(beta_interpolation) == 1:\n",
    "    raise ValueError(\n",
    "        f\"No unique function approximation in database for params (either 0 or multiple entries)\"\n",
    "    )\n",
    "print(\n",
    "    f\"Load beta interpolation from file: {beta_interpolation['filename'].values[0]}\"\n",
    ")\n",
    "beta_approx = FunctionApproximation(\n",
    "    filename=beta_interpolation[\"filename\"].values[0]\n",
    ")\n",
    "con.close()"
   ]
  },
  {
   "cell_type": "code",
   "execution_count": 106,
   "metadata": {},
   "outputs": [],
   "source": [
    "# parameters of the beta distribution\n",
    "loc = beta_approx.params[\"loc\"]\n",
    "scale = beta_approx.params[\"scale\"]\n",
    "# support for the gaussian noise\n",
    "delta = 1 / beta_approx.params[\"N\"]\n",
    "x_gauss = support_gauss(5 * params[\"sigma\"], delta)\n",
    "# pmf of the gaussian noise (needs delta for normalization)\n",
    "pmf_gauss = stats.norm.pdf(x_gauss, 0, params[\"sigma\"]) * delta \n",
    "\n",
    "# full support for convolution (add another delta to the right because beta distribution is calculated from the difference of the cdf)\n",
    "x_beta = support_conv_pmf_gauss([0,1+delta], x_gauss)\n",
    "x_noise = support_conv_pmf_gauss([0,1], x_gauss)\n",
    "\n",
    "def pmf_noise(window, lam, h):\n",
    "    a,b = beta_approx(lam, window, h)\n",
    "    # pmf as difference of cdf to ensure that the pmf is normalized\n",
    "    pmf = np.diff(stats.beta.cdf(x_beta, a, b, loc=loc, scale=scale))\n",
    "    return np.convolve(pmf, pmf_gauss, mode=\"same\")\n",
    "\n",
    "pmf_o_given_h = lambda h: pmf_noise(window, lam, h)"
   ]
  },
  {
   "cell_type": "code",
   "execution_count": 107,
   "metadata": {},
   "outputs": [],
   "source": [
    "# find disriminable points\n",
    "# get reference distributions from mean-field solution (needs delta for normalization because in domain [0,1] with stepsize delta)\n",
    "pmf_refs = [stats.norm.pdf(x_noise, mean_field_activity(lam, params['mu'], h), params['sigma'])*delta for h in [0, np.inf]]\n",
    "\n",
    "# get dynamic range and number of discriminable states\n",
    "h_range = beta_approx.input_range[beta_approx.input_names.index(\"h\")]\n",
    "hs_left = find_discriminable_inputs(pmf_o_given_h, h_range, pmf_refs, params[\"epsilon\"], start=\"left\")\n",
    "hs_right = find_discriminable_inputs(pmf_o_given_h, h_range, pmf_refs, params[\"epsilon\"], start=\"right\")"
   ]
  },
  {
   "cell_type": "code",
   "execution_count": 108,
   "metadata": {},
   "outputs": [
    {
     "name": "stderr",
     "output_type": "stream",
     "text": [
      "100it [00:01, 85.35it/s]\n"
     ]
    }
   ],
   "source": [
    "# calculate the median and 25/75 percentiles of the noisy activity for different input rates\n",
    "hs = 10**np.linspace(-5, -0, 100)   \n",
    "percentile_05 = np.zeros_like(hs)\n",
    "percentile_50 = np.zeros_like(hs)\n",
    "percentile_95 = np.zeros_like(hs) \n",
    "for (i,h) in tqdm(enumerate(hs)):\n",
    "    pmf_h = pmf_o_given_h(h)\n",
    "    cdf = np.cumsum(pmf_h)\n",
    "    # percentiles as the first index where the cdf is larger than the respective value\n",
    "    percentile_05[i] = x_noise[np.argmax(cdf > 0.05)]\n",
    "    percentile_50[i] = x_noise[np.argmax(cdf > 0.50)]\n",
    "    percentile_95[i] = x_noise[np.argmax(cdf > 0.95)]\n"
   ]
  },
  {
   "cell_type": "code",
   "execution_count": 148,
   "metadata": {},
   "outputs": [
    {
     "data": {
      "image/png": "[encoded data removed]",
      "text/plain": [
       "<Figure size 500x300 with 1 Axes>"
      ]
     },
     "metadata": {},
     "output_type": "display_data"
    }
   ],
   "source": [
    "fig, axes = plt.subplots(1, 1, figsize=(5, 3))\n",
    "\n",
    "# theory\n",
    "axes.plot(hs, mean_field_activity(lam, params['mu'], hs), color='black', label='theory')\n",
    "ref = axes.plot(hs, percentile_50,linestyle='--')\n",
    "axes.fill_between(hs, percentile_05, percentile_95, color=ref[0].get_color(), alpha=0.2)\n",
    "# plot hs_left points on top as anotate points\n",
    "axes.scatter(hs_left, np.ones_like(hs_left)*1.05, color=ref[0].get_color())\n",
    "axes.scatter(hs_right, np.ones_like(hs_left), color=ref[0].get_color())\n",
    "# plot dynamic range as vertical lines from hs_left[0] to hs_right[0]\n",
    "axes.axvline(hs_left[0], color='black', linestyle='--')\n",
    "axes.axvline(hs_right[0], color='black', linestyle='--')\n",
    "#axes.set_yscale(\"log\")\n",
    "axes.set_xscale(\"log\")\n",
    "axes.set_xlabel(\"input\")\n",
    "axes.set_ylabel(\"activity\")\n",
    "# set lims\n",
    "axes.set_xlim([xmin, xmax])\n",
    "axes.set_ylim([ymin, ymax])\n",
    "#axes.legend()\n",
    "plt.tight_layout()\n",
    "plt.show()"
   ]
  },
  {
   "cell_type": "code",
   "execution_count": 211,
   "metadata": {},
   "outputs": [],
   "source": [
    "plt.text.usetex : True\n",
    "# font size\n",
    "plt.rcParams.update({'font.size': 8})\n",
    "# # tick size\n",
    "plt.rcParams['xtick.labelsize'] = 6\n",
    "plt.rcParams['ytick.labelsize'] = 6"
   ]
  },
  {
   "cell_type": "code",
   "execution_count": 212,
   "metadata": {},
   "outputs": [
    {
     "data": {
      "image/png": "[encoded data removed]",
      "text/plain": [
       "<Figure size 314.961x157.48 with 2 Axes>"
      ]
     },
     "metadata": {},
     "output_type": "display_data"
    }
   ],
   "source": [
    "cm = 1/2.54  # centimeters in inches\n",
    "fig, axes = plt.subplots(1,2, width_ratios=[3.5,1], figsize=(8*cm, 4*cm))\n",
    "\n",
    "####### Left part of figure with response\n",
    "axes[0].spines['right'].set_visible(False)\n",
    "axes[0].spines['top'].set_visible(False)\n",
    "# unset tickslabels\n",
    "# set ticks\n",
    "axes[0].set_yticks([0,0.5,1])\n",
    "# set lims\n",
    "axes[0].set_xlim([xmin, xmax])\n",
    "axes[0].set_ylim([ymin, ymax])\n",
    "axes[0].set_xscale(\"log\")\n",
    "#unset tickslabel\n",
    "#axes[0].set_xticklabels([])\n",
    "#axes[0].set_yticklabels([])\n",
    "\n",
    "axes[0].plot(hs, percentile_50, color='black')\n",
    "axes[0].fill_between(hs, percentile_05, percentile_95, color='lightgray')\n",
    "\n",
    "# plot dynamic range bounds from 0.05 to 0.95\n",
    "axes[0].axvline(hs_left[0], ymax=0.95, color='black', linestyle='--')\n",
    "axes[0].axvline(hs_right[0], ymax=0.95, color='black', linestyle='--')\n",
    "# plot hs_left and hs_reft as scatter with markers as triangles\n",
    "axes[0].scatter(hs_left, np.ones_like(hs_left)*1.01, color='black', marker='v', s=10)\n",
    "axes[0].scatter(hs_right, np.ones_like(hs_left)*1.06, color='black', marker='v', s=10)\n",
    "\n",
    "####### right part of figure with distribtions\n",
    "axes[1].spines['left'].set_visible(False)\n",
    "axes[1].spines['right'].set_visible(False)\n",
    "axes[1].spines['top'].set_visible(False)\n",
    "axes[1].spines['bottom'].set_visible(False)\n",
    "# remove y-axis\n",
    "axes[1].set_yticklabels([])\n",
    "axes[1].set_yticks([])\n",
    "axes[1].yaxis.tick_right()\n",
    "# unset xtics\n",
    "axes[1].set_xticks([])\n",
    "axes[1].set_ylim([ymin, ymax])\n",
    "\n",
    "# plot pmf for hs in hs_left on y2-axis\n",
    "for (i,h) in enumerate(hs_left):\n",
    "    pmf_h = pmf_o_given_h(h)\n",
    "    # plot on y2 axis\n",
    "    axes[1].plot(1-pmf_h, x_noise, color='lightgray')\n",
    "\n",
    "fig.subplots_adjust(wspace=0, hspace=0)\n",
    "\n",
    "fig.savefig(\"./figures/fig_problem_response.pdf\", **kwargs_figures)"
   ]
  },
  {
   "cell_type": "code",
   "execution_count": null,
   "metadata": {},
   "outputs": [],
   "source": [
    "# plot pmf_o_given_h for different h in hs_left \n"
   ]
  }
 ],
 "metadata": {
  "kernelspec": {
   "display_name": "Python 3",
   "language": "python",
   "name": "python3"
  },
  "language_info": {
   "codemirror_mode": {
    "name": "ipython",
    "version": 3
   },
   "file_extension": ".py",
   "mimetype": "text/x-python",
   "name": "python",
   "nbconvert_exporter": "python",
   "pygments_lexer": "ipython3",
   "version": "3.12.4"
  }
 },
 "nbformat": 4,
 "nbformat_minor": 2
}
