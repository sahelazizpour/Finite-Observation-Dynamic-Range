{
 "cells": [
  {
   "cell_type": "code",
   "execution_count": 1,
   "metadata": {},
   "outputs": [],
   "source": [
    "import sqlite3"
   ]
  },
  {
   "cell_type": "code",
   "execution_count": 2,
   "metadata": {},
   "outputs": [],
   "source": [
    "# connect to the database \n",
    "con = sqlite3.connect('./simulations.db')\n",
    "# create a cursor object\n",
    "cur = con.cursor()"
   ]
  },
  {
   "cell_type": "code",
   "execution_count": 3,
   "metadata": {},
   "outputs": [
    {
     "name": "stdout",
     "output_type": "stream",
     "text": [
      "[('sqlite_sequence',), ('simulations',), ('parameters',)]\n"
     ]
    }
   ],
   "source": [
    "# show content of database\n",
    "cur.execute(\"SELECT name FROM sqlite_master\")\n",
    "print(cur.fetchall())"
   ]
  },
  {
   "cell_type": "code",
   "execution_count": 4,
   "metadata": {},
   "outputs": [
    {
     "name": "stdout",
     "output_type": "stream",
     "text": [
      "[(1,)]\n"
     ]
    }
   ],
   "source": [
    "# to link tables\n",
    "cur.execute(\"PRAGMA foreign_keys = ON;\")\n",
    "con.commit()\n",
    "cur.execute(\"PRAGMA foreign_keys;\")\n",
    "print(cur.fetchall())"
   ]
  },
  {
   "cell_type": "code",
   "execution_count": 5,
   "metadata": {},
   "outputs": [],
   "source": [
    "# create table that does not allow duplicates\n",
    "cur.execute(\"DROP TABLE simulations\")\n",
    "cur.execute(\"\"\"\n",
    "CREATE TABLE IF NOT EXISTS simulations (\n",
    "            simulation_id integer PRIMARY KEY,\n",
    "            N int NOT NULL,\n",
    "            K int NOT NULL,\n",
    "            lam float NOT NULL,\n",
    "            mu float NOT NULL,\n",
    "            h float NOT NULL,\n",
    "            seed int NOT NULL,\n",
    "            raw_file TEXT NOT NULL\n",
    "            )\n",
    "\"\"\")\n",
    "cur.execute(\"CREATE UNIQUE INDEX parameters ON simulations (N,K,lam,mu,h);\")\n",
    "# can be dropped with cur.execute(\"DROP INDEX parameters;\") if needs to be redesigned\n",
    "con.commit()"
   ]
  },
  {
   "cell_type": "code",
   "execution_count": 6,
   "metadata": {},
   "outputs": [],
   "source": [
    "def insert_simulation(simulation):\n",
    "    # the sql command does not specify the values but only placeholders with ?\n",
    "    sql=f\"INSERT INTO simulations ({','.join(simulation.keys())}) VALUES ({','.join(['?']*len(simulation.keys()))})\"\n",
    "    # values are passed when executing the command\n",
    "    cur.execute(sql, list(simulation.values()))\n",
    "    con.commit()\n",
    "\n",
    "\n",
    "# add an example simulation to the table \n",
    "simulation={'N':1000, 'K':100, 'lam':0.9, 'mu':0.2, 'h':0.01, 'seed':1000, 'raw_file':'path'}\n",
    "insert_simulation(simulation)\n",
    "# add another example simulation to the table\n",
    "simulation['lam']=0.99\n",
    "insert_simulation(simulation)"
   ]
  },
  {
   "cell_type": "code",
   "execution_count": 7,
   "metadata": {},
   "outputs": [
    {
     "name": "stdout",
     "output_type": "stream",
     "text": [
      "[(1, 1000, 100, 0.9, 0.2, 0.01, 1000, 'path'), (2, 1000, 100, 0.99, 0.2, 0.01, 1000, 'path')]\n"
     ]
    }
   ],
   "source": [
    "cur.execute(\"SELECT * FROM simulations\")\n",
    "print(cur.fetchall())"
   ]
  },
  {
   "cell_type": "code",
   "execution_count": 8,
   "metadata": {},
   "outputs": [
    {
     "name": "stdout",
     "output_type": "stream",
     "text": [
      "This simulation is already in the database\n",
      "[(1, 1000, 100, 0.9, 0.2, 0.01, 1000, 'path'), (2, 1000, 100, 0.99, 0.2, 0.01, 1000, 'path')]\n"
     ]
    }
   ],
   "source": [
    "try:\n",
    "    # this cannot be added because it is already in the database\n",
    "    cur.execute(\"INSERT INTO simulations (N,K,lam,mu,h,seed,raw_file) VALUES (1000, 100, 0.99, 0.2, 0.01, 1000, 'path')\")\n",
    "except sqlite3.IntegrityError:\n",
    "    print(\"This simulation is already in the database\")\n",
    "con.commit()\n",
    "cur.execute(\"SELECT * FROM simulations\")\n",
    "print(cur.fetchall())"
   ]
  },
  {
   "cell_type": "code",
   "execution_count": 9,
   "metadata": {},
   "outputs": [
    {
     "name": "stdout",
     "output_type": "stream",
     "text": [
      "IntegrityError because not all parameters are given\n"
     ]
    }
   ],
   "source": [
    "try:\n",
    "    cur.execute(\"INSERT INTO simulations (N) VALUES (1000)\")\n",
    "except sqlite3.IntegrityError:\n",
    "    print(\"IntegrityError because not all parameters are given\")\n"
   ]
  },
  {
   "cell_type": "code",
   "execution_count": 15,
   "metadata": {},
   "outputs": [
    {
     "name": "stdout",
     "output_type": "stream",
     "text": [
      "[('sqlite_sequence',), ('simulations',), ('parameters',), ('beta_approximations',)]\n"
     ]
    }
   ],
   "source": [
    "cur.execute(\"DROP TABLE IF EXISTS beta_approximations\")\n",
    "# add another table with beta approximation\n",
    "cur.execute(\"\"\"\n",
    "CREATE TABLE IF NOT EXISTS beta_approximations (\n",
    "            simulation_id INTEGER NOT NULL,\n",
    "            a float NOT NULL,\n",
    "            b float NOT NULL,\n",
    "            loc float NOT NULL,\n",
    "            scale float NOT NULL,\n",
    "            FOREIGN KEY (simulation_id) REFERENCES simulations (simulation_id)\n",
    "            )\n",
    "\"\"\")\n",
    "con.commit()\n",
    "cur.execute(\"SELECT name FROM sqlite_master\")\n",
    "print(cur.fetchall())\n"
   ]
  },
  {
   "cell_type": "code",
   "execution_count": 19,
   "metadata": {},
   "outputs": [
    {
     "name": "stdout",
     "output_type": "stream",
     "text": [
      "[(1, 0.99, 0.2, 0.01, 1000.0), (1, 0.9, 0.2, 0.01, 1000.0)]\n"
     ]
    }
   ],
   "source": [
    "# add beta approximation to the table\n",
    "simulation={'N':1000, 'K':100, 'lam':0.99, 'mu':0.2, 'h':0.01, 'seed':1000, 'raw_file':'path'}\n",
    "# get simulation ID from simulations table\n",
    "cur.execute(\"SELECT simulation_id FROM simulations WHERE N=1000 AND K=100 AND lam=0.9 AND mu=0.2 AND h=0.01 AND seed=1000\")\n",
    "simulation_id=cur.fetchone()[0]\n",
    "beta_approximation={'a':0.9, 'b':0.2, 'loc':0.01, 'scale':1000}\n",
    "cur.execute(f\"INSERT INTO beta_approximations (a,b,loc,scale, simulation_id) VALUES (0.9, 0.2, 0.01, 1000, {simulation_id})\")\n",
    "con.commit()\n",
    "cur.execute(\"SELECT * FROM beta_approximations\")\n",
    "print(cur.fetchall())"
   ]
  },
  {
   "cell_type": "code",
   "execution_count": 20,
   "metadata": {},
   "outputs": [
    {
     "name": "stdout",
     "output_type": "stream",
     "text": [
      "[(1, 0.99, 0.2, 0.01, 1000.0), (1, 0.99, 0.2, 0.01, 1000.0)]\n"
     ]
    }
   ],
   "source": [
    "# update value in approximation\n",
    "cur.execute(\"UPDATE beta_approximations SET a=0.99 WHERE simulation_id=1\")\n",
    "con.commit()\n",
    "cur.execute(\"SELECT * FROM beta_approximations\")\n",
    "print(cur.fetchall())"
   ]
  },
  {
   "cell_type": "code",
   "execution_count": null,
   "metadata": {},
   "outputs": [],
   "source": []
  }
 ],
 "metadata": {
  "kernelspec": {
   "display_name": "finite-observation",
   "language": "python",
   "name": "python3"
  },
  "language_info": {
   "codemirror_mode": {
    "name": "ipython",
    "version": 3
   },
   "file_extension": ".py",
   "mimetype": "text/x-python",
   "name": "python",
   "nbconvert_exporter": "python",
   "pygments_lexer": "ipython3",
   "version": "3.11.6"
  }
 },
 "nbformat": 4,
 "nbformat_minor": 2
}
