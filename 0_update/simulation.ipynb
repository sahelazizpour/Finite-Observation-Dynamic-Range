{
 "cells": [
  {
   "cell_type": "markdown",
   "metadata": {},
   "source": [
    "# New implementation of simulation for iterative estimation of Beta-distribution parameters that fit the distribution of stationary activity"
   ]
  },
  {
   "cell_type": "code",
   "execution_count": 1,
   "metadata": {},
   "outputs": [],
   "source": [
    "import numpy as np\n",
    "import scipy\n",
    "import matplotlib.pyplot as plt\n",
    "from scipy import stats, signal, optimize\n",
    "from tqdm import tqdm\n",
    "\n",
    "import os, sys\n",
    "rootpath = os.path.join(os.getcwd(), '.')\n",
    "sys.path.append(rootpath)\n",
    "from src.simulation import *\n",
    "# reimport modules if they change\n",
    "%load_ext autoreload\n",
    "%autoreload 2"
   ]
  },
  {
   "cell_type": "code",
   "execution_count": 2,
   "metadata": {},
   "outputs": [
    {
     "name": "stdout",
     "output_type": "stream",
     "text": [
      "\u001b[0;31mSignature:\u001b[0m \u001b[0mcoupling_weights\u001b[0m\u001b[0;34m(\u001b[0m\u001b[0mN\u001b[0m\u001b[0;34m,\u001b[0m \u001b[0mK\u001b[0m\u001b[0;34m,\u001b[0m \u001b[0mlambda_\u001b[0m\u001b[0;34m,\u001b[0m \u001b[0mseed\u001b[0m\u001b[0;34m)\u001b[0m\u001b[0;34m\u001b[0m\u001b[0;34m\u001b[0m\u001b[0m\n",
      "\u001b[0;31mDocstring:\u001b[0m\n",
      "Generate coupling weights.\n",
      "\n",
      "Parameters\n",
      "----------\n",
      "N : int\n",
      "    Number of neurons.\n",
      "K : int\n",
      "    Avg. number of connections per neuron\n",
      "lambda_ : float\n",
      "    total incomming synaptic weight per neuron (lambda_ = sum_j w_ij)\n",
      "seed : int\n",
      "    Random seed.   \n",
      "\n",
      "Returns\n",
      "-------\n",
      "w : sparse matrix of shape (N,N)\n",
      "    Connectivity matrix.\n",
      "\u001b[0;31mFile:\u001b[0m      ~/git/projects/sahel_finite-observation-dynamic-range/0_update/src/simulation.py\n",
      "\u001b[0;31mType:\u001b[0m      function"
     ]
    }
   ],
   "source": [
    "coupling_weights?"
   ]
  },
  {
   "cell_type": "code",
   "execution_count": 3,
   "metadata": {},
   "outputs": [
    {
     "name": "stdout",
     "output_type": "stream",
     "text": [
      "quick test of API:\n",
      "[[1. 1. 1. 1. 1. 1. 1. 1. 1. 1. 1. 1. 1. 1. 1. 1. 1. 1. 1. 1.]]\n",
      "[1. 1. 1. 1. 1. 1. 1. 1. 1. 1. 1. 1. 1. 1. 1. 1. 1. 1. 1. 1.]\n"
     ]
    }
   ],
   "source": [
    "print('quick test of API:')\n",
    "N=20\n",
    "K=5\n",
    "lambda_=1\n",
    "seed=1000\n",
    "\n",
    "w = coupling_weights(N, K, lambda_, seed)\n",
    "# lambda = sum_j w_ij\n",
    "print(np.sum(w, axis=1).flatten())\n",
    "# thus w * 1 = lambda * 1\n",
    "print(w.dot(np.ones(N)))"
   ]
  },
  {
   "cell_type": "code",
   "execution_count": 4,
   "metadata": {},
   "outputs": [
    {
     "name": "stdout",
     "output_type": "stream",
     "text": [
      "\u001b[0;31mSignature:\u001b[0m \u001b[0mexternal_spiking_probability\u001b[0m\u001b[0;34m(\u001b[0m\u001b[0mN\u001b[0m\u001b[0;34m,\u001b[0m \u001b[0mmu\u001b[0m\u001b[0;34m,\u001b[0m \u001b[0mh_\u001b[0m\u001b[0;34m,\u001b[0m \u001b[0mseed\u001b[0m\u001b[0;34m,\u001b[0m \u001b[0mdt\u001b[0m\u001b[0;34m=\u001b[0m\u001b[0;36m1\u001b[0m\u001b[0;34m)\u001b[0m\u001b[0;34m\u001b[0m\u001b[0;34m\u001b[0m\u001b[0m\n",
      "\u001b[0;31mDocstring:\u001b[0m\n",
      "Generate external spiking probability vector.\n",
      "\n",
      "Parameters\n",
      "----------\n",
      "N : int\n",
      "    Number of neurons.\n",
      "mu : float\n",
      "    Fraction of neurons that receive external input\n",
      "h_ : float\n",
      "    External input rate that selected neurons receive\n",
      "seed : int\n",
      "    Random seed.\n",
      "dt : float\n",
      "    Time step.\n",
      "\n",
      "Returns\n",
      "-------\n",
      "h : array of shape (2,mu*N)\n",
      "    External spiking probability.\n",
      "\u001b[0;31mFile:\u001b[0m      ~/git/projects/sahel_finite-observation-dynamic-range/0_update/src/simulation.py\n",
      "\u001b[0;31mType:\u001b[0m      function"
     ]
    }
   ],
   "source": [
    "external_spiking_probability?"
   ]
  },
  {
   "cell_type": "code",
   "execution_count": 5,
   "metadata": {},
   "outputs": [
    {
     "name": "stdout",
     "output_type": "stream",
     "text": [
      "quick test of API:\n",
      "(array([ 5, 18,  3,  6]), array([0.86466472, 0.86466472, 0.86466472, 0.86466472]))\n"
     ]
    }
   ],
   "source": [
    "print('quick test of API:')\n",
    "N=20\n",
    "mu=0.2\n",
    "h=2\n",
    "seed=1000\n",
    "p_h = external_spiking_probability(N, mu, h, seed)\n",
    "print(p_h)"
   ]
  },
  {
   "cell_type": "markdown",
   "metadata": {},
   "source": [
    "### Verify with analytic calculation of mean activity"
   ]
  },
  {
   "cell_type": "code",
   "execution_count": 6,
   "metadata": {},
   "outputs": [
    {
     "name": "stderr",
     "output_type": "stream",
     "text": [
      "6it [01:07, 11.28s/it]\n"
     ]
    }
   ],
   "source": [
    "N=int(1e4)\n",
    "K=100\n",
    "list_h=np.logspace(-5,1,6)\n",
    "mu=0.2\n",
    "dt=1\n",
    "# prepare for reset in loop\n",
    "p_h = external_spiking_probability(N, mu, 0, seed=1234, dt=1)\n",
    "# recurrent coupling fixed\n",
    "lambda_ = 0.9\n",
    "w = coupling_weights(N, K, lambda_, seed=1234)\n",
    "\n",
    "# run self-build simulations\n",
    "T = 10000\n",
    "T_burn = 1000\n",
    "list_a = np.zeros_like(list_h)\n",
    "rng = np.random.default_rng(1234)\n",
    "for (i,h) in tqdm(enumerate(list_h)):\n",
    "    p_h = external_spiking_probability(N, mu, h, seed=1234, dt=1)\n",
    "    activity = np.zeros(T)\n",
    "    x = np.zeros(N)\n",
    "    for t in range(T):\n",
    "        x = step(x, w, p_h, rng)\n",
    "        activity[t] = np.mean(x)\n",
    "    list_a[i] = np.mean(activity[T_burn:])"
   ]
  },
  {
   "cell_type": "code",
   "execution_count": 7,
   "metadata": {},
   "outputs": [
    {
     "data": {
      "image/png": "[encoded data removed]",
      "text/plain": [
       "<Figure size 900x300 with 1 Axes>"
      ]
     },
     "metadata": {},
     "output_type": "display_data"
    }
   ],
   "source": [
    "def a(h, mu, lambda_, dt=1):\n",
    "    return mu*(1-np.exp(-h*dt))/(1-lambda_*(1-mu)-lambda_*mu*np.exp(-h*dt))\n",
    "\n",
    "list_h_ana = np.logspace(-5,1,100)\n",
    "list_a_ana = [a(h, mu, lambda_) for h in list_h_ana]\n",
    "\n",
    "plt.figure(figsize=(9,3))\n",
    "plt.plot(list_h_ana, list_a_ana, '-', label='analytic', color='black')\n",
    "plt.plot(list_h, list_a, 'o', label='simulation')\n",
    "plt.xscale('log')\n",
    "plt.xlabel('h')\n",
    "plt.ylabel('a')\n",
    "plt.legend()\n",
    "plt.tight_layout()"
   ]
  },
  {
   "cell_type": "markdown",
   "metadata": {},
   "source": [
    "### Fitting beta distribution\n"
   ]
  },
  {
   "cell_type": "code",
   "execution_count": 8,
   "metadata": {},
   "outputs": [],
   "source": [
    "def fit_beta_distribution(data, delta, seed=1234):\n",
    "    np.random.seed(seed)\n",
    "    # add very small jitter to avoid problems with delta distributions\n",
    "    data = data + np.random.randn(len(data))*delta/7\n",
    "    # IMPORTANT: The beta distribution is defined on the interval [0,1] but because of the discretization we need to shift the support by delta and scale it by 1+2*delta\n",
    "    a,b,loc,scale = stats.beta.fit(data, floc=-delta, fscale=1+2*delta) \n",
    "    return a,b,loc,scale"
   ]
  },
  {
   "cell_type": "code",
   "execution_count": 9,
   "metadata": {},
   "outputs": [
    {
     "name": "stdout",
     "output_type": "stream",
     "text": [
      "<class 'tuple'>\n",
      "<class 'scipy.sparse._csr.csr_matrix'>\n"
     ]
    },
    {
     "name": "stderr",
     "output_type": "stream",
     "text": [
      "100%|██████████| 10000/10000 [00:10<00:00, 948.06it/s]\n"
     ]
    }
   ],
   "source": [
    "N=int(1e4)\n",
    "K=100\n",
    "mu=0.2\n",
    "lambda_ = 0.0\n",
    "h_ = 10\n",
    "seed = 1000\n",
    "p_h = external_spiking_probability(N, mu, h_, seed)\n",
    "print(type(p_h))\n",
    "w = coupling_weights(N, K, lambda_, seed)\n",
    "print(type(w))\n",
    "\n",
    "T = int(1e4)\n",
    "activity = np.zeros(T, dtype=np.float64)\n",
    "rng = np.random.RandomState(seed)\n",
    "x = np.random.randint(0,2,N)\n",
    "for t in tqdm(range(T)):\n",
    "    x = step(x, w, p_h, rng)\n",
    "    activity[t] = np.sum(x)"
   ]
  },
  {
   "cell_type": "code",
   "execution_count": 10,
   "metadata": {},
   "outputs": [
    {
     "name": "stdout",
     "output_type": "stream",
     "text": [
      "[0.000e+00 1.000e-04 2.000e-04 ... 9.998e-01 9.999e-01 1.000e+00]\n",
      "0.0001 0.0001\n",
      "1.0\n",
      "2.73e+07,1.09e+08,-0.0001,1.0002\n"
     ]
    },
    {
     "data": {
      "image/png": "[encoded data removed]",
      "text/plain": [
       "<Figure size 1000x500 with 2 Axes>"
      ]
     },
     "metadata": {},
     "output_type": "display_data"
    }
   ],
   "source": [
    "fig, axes = plt.subplots(1,2, figsize=(10,5))\n",
    "axes[0].plot(activity, label='data')\n",
    "axes[0].set_xlabel('time') \n",
    "axes[0].set_ylabel('activity')\n",
    "\n",
    "delta = 1/N\n",
    "support = np.linspace(0,1,N+1)\n",
    "print(support)\n",
    "print(delta, support[1]-support[0])\n",
    "data = activity[1000:]/N\n",
    "# histogram needs bin edges but we work with bin centers, hence need to shift support\n",
    "pmf_data = np.histogram(data, bins=np.append(support,1+delta)-delta/2, density=False)[0]/len(data)\n",
    "print(np.sum(pmf_data))\n",
    "axes[1].plot(support, pmf_data, label='data')\n",
    "a,b,loc,scale = fit_beta_distribution(data, delta, seed)\n",
    "print(f'{a:.2e},{b:.2e},{loc},{scale}')\n",
    "pmf_beta = stats.beta.pdf(support, a,b, loc=loc, scale=scale)\n",
    "pmf_beta = pmf_beta/np.sum(pmf_beta)\n",
    "axes[1].plot(support, pmf_beta, label='beta fit')\n",
    "axes[1].set_xlabel('activity')\n",
    "axes[1].set_ylabel('P(a)')\n",
    "axes[1].set_yscale('log')\n",
    "axes[1].set_ylim([1e-7,1])\n",
    "axes[1].legend()\n",
    "range_data = support[np.nonzero(pmf_data)]\n",
    "if len(range_data) > 10:\n",
    "    axes[1].set_xlim([range_data[0],range_data[-1]])\n",
    "else:\n",
    "    axes[1].set_xlim([np.median(range_data)-10*delta,np.median(range_data)+10*delta])\n",
    "plt.tight_layout()"
   ]
  },
  {
   "cell_type": "markdown",
   "metadata": {},
   "source": [
    "### Prepare automatic simulations\n",
    "For simplicity, the window here is implemented as an exponential moving average such that $o_T = 1/T \\sum_t o_t$ is replaced by $o_T = \\sum_t' o_t' e^{(t-t')/T}$"
   ]
  },
  {
   "cell_type": "code",
   "execution_count": 11,
   "metadata": {},
   "outputs": [
    {
     "name": "stdout",
     "output_type": "stream",
     "text": [
      "\u001b[0;31mSignature:\u001b[0m\n",
      "\u001b[0msimulation\u001b[0m\u001b[0;34m(\u001b[0m\u001b[0;34m\u001b[0m\n",
      "\u001b[0;34m\u001b[0m    \u001b[0mparams\u001b[0m\u001b[0;34m,\u001b[0m\u001b[0;34m\u001b[0m\n",
      "\u001b[0;34m\u001b[0m    \u001b[0msteps\u001b[0m\u001b[0;34m=\u001b[0m\u001b[0;34m{\u001b[0m\u001b[0;34m'burn'\u001b[0m\u001b[0;34m:\u001b[0m \u001b[0;34m'self'\u001b[0m\u001b[0;34m,\u001b[0m \u001b[0;34m'equil'\u001b[0m\u001b[0;34m:\u001b[0m \u001b[0;34m'self'\u001b[0m\u001b[0;34m,\u001b[0m \u001b[0;34m'record'\u001b[0m\u001b[0;34m:\u001b[0m \u001b[0;34m'self'\u001b[0m\u001b[0;34m}\u001b[0m\u001b[0;34m,\u001b[0m\u001b[0;34m\u001b[0m\n",
      "\u001b[0;34m\u001b[0m    \u001b[0mwindows\u001b[0m\u001b[0;34m=\u001b[0m\u001b[0marray\u001b[0m\u001b[0;34m(\u001b[0m\u001b[0;34m[\u001b[0m\u001b[0;36m1.e-06\u001b[0m\u001b[0;34m,\u001b[0m \u001b[0;36m1.e+00\u001b[0m\u001b[0;34m,\u001b[0m \u001b[0;36m1.e+01\u001b[0m\u001b[0;34m,\u001b[0m \u001b[0;36m1.e+02\u001b[0m\u001b[0;34m,\u001b[0m \u001b[0;36m1.e+03\u001b[0m\u001b[0;34m,\u001b[0m \u001b[0;36m1.e+04\u001b[0m\u001b[0;34m]\u001b[0m\u001b[0;34m)\u001b[0m\u001b[0;34m,\u001b[0m\u001b[0;34m\u001b[0m\n",
      "\u001b[0;34m\u001b[0m\u001b[0;34m)\u001b[0m\u001b[0;34m\u001b[0m\u001b[0;34m\u001b[0m\u001b[0m\n",
      "\u001b[0;31mDocstring:\u001b[0m\n",
      "run simulation and return sliding window estimates\n",
      "\n",
      "Parameters\n",
      "----------\n",
      "params : dict\n",
      "    dictionary with parameters that needs to include\n",
      "    - N : int\n",
      "        number of neurons\n",
      "    - K : int\n",
      "        number of incoming connections per neuron\n",
      "    - lambda : float\n",
      "        coupling strength\n",
      "    - mu : float\n",
      "        fraction of neurons that receive external input\n",
      "    - h : float\n",
      "        external input\n",
      "    - seed : int\n",
      "        random seed\n",
      "    - dt : float    \n",
      "        time step\n",
      "steps : dict\n",
      "    dictionary with steps to run (default is self-consistently determined)\n",
      "windows : array\n",
      "    array with windows to use for sliding window estimates\n",
      "\n",
      "Returns\n",
      "-------\n",
      "windows : array\n",
      "    array with windows used for sliding window estimates\n",
      "samples : array\n",
      "    array with sliding window estimates of length steps['record']\n",
      "\u001b[0;31mFile:\u001b[0m      ~/git/projects/sahel_finite-observation-dynamic-range/0_update/src/simulation.py\n",
      "\u001b[0;31mType:\u001b[0m      function"
     ]
    }
   ],
   "source": [
    "simulation?"
   ]
  },
  {
   "cell_type": "markdown",
   "metadata": {},
   "source": [
    "Example for small input and large fluctuations"
   ]
  },
  {
   "cell_type": "code",
   "execution_count": 12,
   "metadata": {},
   "outputs": [],
   "source": [
    "params = {\n",
    "    'N': int(1e4),\n",
    "    'K': 100,\n",
    "    'lambda': 0.99,\n",
    "    'mu': 0.2,\n",
    "    'h': 1e-5,\n",
    "    'seed': 1000,\n",
    "    'dt': 1,\n",
    "}\n",
    "example1 = simulation(params)"
   ]
  },
  {
   "cell_type": "code",
   "execution_count": 13,
   "metadata": {},
   "outputs": [],
   "source": [
    "result = example1\n",
    "windows = result['windows']\n",
    "\n",
    "# plot distribution of estimates for different windows in one plot\n",
    "fig, axes = plt.subplots(1,2, figsize=(10,5))\n",
    "# plot samples over time\n",
    "axes[0].set_xlabel('time')\n",
    "axes[0].set_ylabel('activity')\n",
    "\n",
    "# plot distribution of estimates for different windows in one plot\n",
    "range_data = [1,0]\n",
    "for (i,window) in enumerate(windows):\n",
    "    data = result[f'samples/{window}']\n",
    "    axes[0].plot(data)\n",
    "    # spacing should depend on window size, larger windows means smaller discretization (but then this also requires more samples ...)\n",
    "    delta = 1/N\n",
    "    support = np.linspace(0,1,N+1)\n",
    "    pmf_data = np.histogram(data, bins=np.append(support,1+delta)-delta/2, density=False)[0]/len(data)\n",
    "    ref = axes[1].plot(support, pmf_data, label=f'window={windows[i]:.1e}', alpha=0.5)\n",
    "    # fit beta distribution\n",
    "    a,b,loc,scale = fit_beta_distribution(data, delta, seed)\n",
    "    print(f'{window}\\t{a:.2e},{b:.2e},{loc},{scale}, {a/(a+b)}, {np.mean(data)}')\n",
    "    pmf_beta = stats.beta.pdf(support, a,b, loc=loc, scale=scale)\n",
    "    pmf_beta = pmf_beta/np.sum(pmf_beta)\n",
    "    axes[1].plot(support,pmf_beta, color=ref[0].get_color(), linestyle='--')\n",
    "\n",
    "    range_data[0] = min(range_data[0], support[np.nonzero(pmf_data)][0])\n",
    "    range_data[1] = max(range_data[1], support[np.nonzero(pmf_data)][-1])\n",
    "axes[1].set_xlabel('activity')\n",
    "axes[1].set_ylabel('P(a)')\n",
    "# set xrange to range of data\n",
    "axes[1].set_yscale('log')\n",
    "axes[1].set_ylim([1e-7,1])\n",
    "axes[1].set_xlim(range_data)\n",
    "axes[0].set_ylim(range_data)\n",
    "axes[1].legend()\n",
    "plt.tight_layout()\n"
   ]
  },
  {
   "cell_type": "markdown",
   "metadata": {},
   "source": [
    "Example for medium input and small fluctuations"
   ]
  },
  {
   "cell_type": "code",
   "execution_count": 14,
   "metadata": {},
   "outputs": [
    {
     "name": "stdout",
     "output_type": "stream",
     "text": [
      "[1.00000000e+00 6.32120559e-01 9.51625820e-02 9.95016625e-03\n",
      " 9.99500167e-04 9.99950002e-05]\n",
      "# COMMENT: burn-in steps self-consistently set to 9.40e+01 = 50 * tau with tau = -dt / ln(lambda) = 9.49e+00\n",
      "# COMMENT: equilibration steps self-consistently set to 1.00e+04 = window_max = 1.00e+04\n",
      "# COMMENT: recording steps self-consistently set to 1.00e+05 = max(1000 * tau, 10*window_max) with tau = -dt / ln(lambda) = 9.49e+00 and window_max=1.00e+04\n",
      "initialize with random spiking condition\n"
     ]
    },
    {
     "name": "stderr",
     "output_type": "stream",
     "text": [
      "burn-in dynamics: 100%|██████████| 94/94 [00:00<00:00, 854.18it/s]\n",
      "equilibration for running estimates: 100%|██████████| 10000/10000 [00:11<00:00, 879.90it/s]\n",
      "recording: 100%|██████████| 100000/100000 [01:53<00:00, 880.60it/s]\n"
     ]
    }
   ],
   "source": [
    "params = {\n",
    "    'N': int(1e4),\n",
    "    'K': 100,\n",
    "    'lambda': 0.9,\n",
    "    'mu': 0.2,\n",
    "    'h': 1e-3,\n",
    "    'seed': 1000,\n",
    "    'dt': 1,\n",
    "}\n",
    "example2 = simulation(params)"
   ]
  },
  {
   "cell_type": "code",
   "execution_count": 15,
   "metadata": {},
   "outputs": [
    {
     "ename": "KeyError",
     "evalue": "'samples/1e-06'",
     "output_type": "error",
     "traceback": [
      "\u001b[0;31m---------------------------------------------------------------------------\u001b[0m",
      "\u001b[0;31mKeyError\u001b[0m                                  Traceback (most recent call last)",
      "Cell \u001b[0;32mIn[15], line 13\u001b[0m\n\u001b[1;32m     11\u001b[0m range_data \u001b[38;5;241m=\u001b[39m [\u001b[38;5;241m1\u001b[39m,\u001b[38;5;241m0\u001b[39m]\n\u001b[1;32m     12\u001b[0m \u001b[38;5;28;01mfor\u001b[39;00m (i,window) \u001b[38;5;129;01min\u001b[39;00m \u001b[38;5;28menumerate\u001b[39m(windows):\n\u001b[0;32m---> 13\u001b[0m     data \u001b[38;5;241m=\u001b[39m \u001b[43mresult\u001b[49m\u001b[43m[\u001b[49m\u001b[38;5;124;43mf\u001b[39;49m\u001b[38;5;124;43m'\u001b[39;49m\u001b[38;5;124;43msamples/\u001b[39;49m\u001b[38;5;132;43;01m{\u001b[39;49;00m\u001b[43mwindow\u001b[49m\u001b[38;5;132;43;01m}\u001b[39;49;00m\u001b[38;5;124;43m'\u001b[39;49m\u001b[43m]\u001b[49m\n\u001b[1;32m     14\u001b[0m     axes[\u001b[38;5;241m0\u001b[39m]\u001b[38;5;241m.\u001b[39mplot(data)\n\u001b[1;32m     15\u001b[0m     \u001b[38;5;66;03m# spacing should depend on window size, larger windows means smaller discretization (but then this also requires more samples ...)\u001b[39;00m\n",
      "\u001b[0;31mKeyError\u001b[0m: 'samples/1e-06'"
     ]
    },
    {
     "data": {
      "image/png": "[encoded data removed]",
      "text/plain": [
       "<Figure size 1000x500 with 2 Axes>"
      ]
     },
     "metadata": {},
     "output_type": "display_data"
    }
   ],
   "source": [
    "result = example2\n",
    "windows = result['windows']\n",
    "\n",
    "# plot distribution of estimates for different windows in one plot\n",
    "fig, axes = plt.subplots(1,2, figsize=(10,5))\n",
    "# plot samples over time\n",
    "axes[0].set_xlabel('time')\n",
    "axes[0].set_ylabel('activity')\n",
    "\n",
    "# plot distribution of estimates for different windows in one plot\n",
    "range_data = [1,0]\n",
    "for (i,window) in enumerate(windows):\n",
    "    data = result[f'samples/{window}']\n",
    "    axes[0].plot(data)\n",
    "    # spacing should depend on window size, larger windows means smaller discretization (but then this also requires more samples ...)\n",
    "    delta = 1/N\n",
    "    support = np.linspace(0,1,N+1)\n",
    "    pmf_data = np.histogram(data, bins=np.append(support,1+delta)-delta/2, density=False)[0]/len(data)\n",
    "    ref = axes[1].plot(support, pmf_data, label=f'window={windows[i]:.1e}', alpha=0.5)\n",
    "    # fit beta distribution\n",
    "    a,b,loc,scale = fit_beta_distribution(data, delta, seed)\n",
    "    print(f'{window}\\t{a:.2e},{b:.2e},{loc},{scale}, {a/(a+b)}, {np.mean(data)}')\n",
    "    pmf_beta = stats.beta.pdf(support, a,b, loc=loc, scale=scale)\n",
    "    pmf_beta = pmf_beta/np.sum(pmf_beta)\n",
    "    axes[1].plot(support,pmf_beta, color=ref[0].get_color(), linestyle='--')\n",
    "\n",
    "    range_data[0] = min(range_data[0], support[np.nonzero(pmf_data)][0])\n",
    "    range_data[1] = max(range_data[1], support[np.nonzero(pmf_data)][-1])\n",
    "axes[1].set_xlabel('activity')\n",
    "axes[1].set_ylabel('P(a)')\n",
    "# set xrange to range of data\n",
    "axes[1].set_yscale('log')\n",
    "axes[1].set_ylim([1e-7,1])\n",
    "axes[1].set_xlim(range_data)\n",
    "axes[0].set_ylim(range_data)\n",
    "axes[1].legend()\n",
    "plt.tight_layout()\n"
   ]
  },
  {
   "cell_type": "markdown",
   "metadata": {},
   "source": [
    "### Write to file"
   ]
  },
  {
   "cell_type": "code",
   "execution_count": null,
   "metadata": {},
   "outputs": [
    {
     "name": "stdout",
     "output_type": "stream",
     "text": [
      "\u001b[0;31mSignature:\u001b[0m \u001b[0msave_simulation\u001b[0m\u001b[0;34m(\u001b[0m\u001b[0mresult\u001b[0m\u001b[0;34m,\u001b[0m \u001b[0mpath\u001b[0m\u001b[0;34m=\u001b[0m\u001b[0;34m'./dat/'\u001b[0m\u001b[0;34m)\u001b[0m\u001b[0;34m\u001b[0m\u001b[0;34m\u001b[0m\u001b[0m\n",
      "\u001b[0;31mDocstring:\u001b[0m\n",
      "Save simulation results to file.\n",
      "\n",
      "Parameters\n",
      "----------\n",
      "result : dict\n",
      "    Dictionary with simulation parameters and results.\n",
      "path : str, optional\n",
      "    Path to save file to. Default is '.dat/'.\n",
      "\n",
      "Returns\n",
      "-------\n",
      "filename : str\n",
      "    Name of the saved file.\n",
      "\u001b[0;31mFile:\u001b[0m      ~/git/projects/sahel_finite-observation-dynamic-range/0_update/src/simulation.py\n",
      "\u001b[0;31mType:\u001b[0m      function"
     ]
    }
   ],
   "source": [
    "save_simulation?"
   ]
  },
  {
   "cell_type": "code",
   "execution_count": 44,
   "metadata": {},
   "outputs": [],
   "source": [
    "save_simulation(example2)"
   ]
  },
  {
   "cell_type": "code",
   "execution_count": 45,
   "metadata": {},
   "outputs": [
    {
     "name": "stdout",
     "output_type": "stream",
     "text": [
      "windows: [1.e-06 1.e+00 1.e+01 1.e+02 1.e+03 1.e+04]\n",
      "sample window[1]: [0.00194991 0.00217121 0.00225262 ... 0.00208026 0.00183989 0.00181468]\n",
      "<KeysViewHDF5 ['K', 'N', 'dt', 'h', 'lambda', 'mu', 'seed']>\n"
     ]
    }
   ],
   "source": [
    "# load hdf5 file\n",
    "import h5py\n",
    "filename = './dat/N=10000_K=100/1-lambda=1.00e-01/simulation_mu=0.20_h=1.00e-03_seed=1000.h5'\n",
    "with h5py.File(filename, 'r') as file:\n",
    "    windows = file['windows'][:]\n",
    "    print(f'windows: {windows}')\n",
    "    samples = file[f'samples/{windows[1]}'][:]\n",
    "    print(f'sample window[1]: {samples}')\n",
    "    print(file[f'params'].keys())\n",
    "    "
   ]
  }
 ],
 "metadata": {
  "kernelspec": {
   "display_name": "finite-observation",
   "language": "python",
   "name": "python3"
  },
  "language_info": {
   "codemirror_mode": {
    "name": "ipython",
    "version": 3
   },
   "file_extension": ".py",
   "mimetype": "text/x-python",
   "name": "python",
   "nbconvert_exporter": "python",
   "pygments_lexer": "ipython3",
   "version": "3.11.6"
  }
 },
 "nbformat": 4,
 "nbformat_minor": 2
}
