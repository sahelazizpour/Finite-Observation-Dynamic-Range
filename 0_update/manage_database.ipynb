{
 "cells": [
  {
   "cell_type": "code",
   "execution_count": 27,
   "metadata": {},
   "outputs": [
    {
     "name": "stdout",
     "output_type": "stream",
     "text": [
      "/Users/johannes/git/projects/sahel_finite-observation-dynamic-range/0_update/.\n",
      "The autoreload extension is already loaded. To reload it, use:\n",
      "  %reload_ext autoreload\n"
     ]
    }
   ],
   "source": [
    "import sqlite3\n",
    "import pandas as pd\n",
    "\n",
    "import os, sys\n",
    "rootpath = os.path.join(os.getcwd(), '.')\n",
    "sys.path.append(rootpath)\n",
    "from src.utils import *\n",
    "# reimport modules if they change\n",
    "%load_ext autoreload\n",
    "%autoreload 2"
   ]
  },
  {
   "cell_type": "code",
   "execution_count": 12,
   "metadata": {},
   "outputs": [],
   "source": [
    "# connect to the database (create file if not exists)\n",
    "con = sqlite3.connect('./simulations.db')\n",
    "# create a cursor object\n",
    "cur = con.cursor()"
   ]
  },
  {
   "cell_type": "code",
   "execution_count": 23,
   "metadata": {},
   "outputs": [],
   "source": []
  },
  {
   "cell_type": "markdown",
   "metadata": {},
   "source": [
    "## Simulations"
   ]
  },
  {
   "cell_type": "code",
   "execution_count": 14,
   "metadata": {},
   "outputs": [],
   "source": [
    "# create table that does not allow duplicates\n",
    "cur.execute(\"\"\"\n",
    "CREATE TABLE IF NOT EXISTS simulations (\n",
    "            simulation_id integer PRIMARY KEY,\n",
    "            N int NOT NULL,\n",
    "            K int NOT NULL,\n",
    "            lambda float NOT NULL,\n",
    "            mu float NOT NULL,\n",
    "            h float NOT NULL,\n",
    "            seed int NOT NULL,\n",
    "            raw_file TEXT NOT NULL\n",
    "            )\n",
    "\"\"\")\n",
    "cur.execute(\"CREATE UNIQUE INDEX IF NOT EXISTS parameters ON simulations (N,K,lambda,mu,h,seed);\")\n",
    "# can be dropped with cur.execute(\"DROP INDEX parameters;\") if needs to be redesigned\n",
    "con.commit()"
   ]
  },
  {
   "cell_type": "code",
   "execution_count": 25,
   "metadata": {},
   "outputs": [
    {
     "name": "stdout",
     "output_type": "stream",
     "text": [
      "   simulation_id     N    K  lambda   mu     h  seed raw_file\n",
      "0              1  1000  100     0.9  0.2  0.01  1000     path\n"
     ]
    }
   ],
   "source": [
    "# show the simulations\n",
    "# cur.execute(\"SELECT * FROM simulations\")\n",
    "# print(cur.fetchall())\n",
    "simulations = pd.read_sql_query(\"SELECT * FROM simulations\", con)\n",
    "print(simulations)"
   ]
  },
  {
   "cell_type": "markdown",
   "metadata": {},
   "source": [
    "## Beta Approximation"
   ]
  },
  {
   "cell_type": "code",
   "execution_count": 16,
   "metadata": {},
   "outputs": [],
   "source": [
    "# create table that does not allow duplicates\n",
    "cur.execute(\"\"\"\n",
    "CREATE TABLE IF NOT EXISTS beta_approximations (\n",
    "            simulation_id INTEGER NOT NULL UNIQUE,\n",
    "            a float NOT NULL,\n",
    "            b float NOT NULL,\n",
    "            loc float NOT NULL,\n",
    "            scale float NOT NULL,\n",
    "            FOREIGN KEY (simulation_id) REFERENCES simulations (simulation_id)\n",
    "            )\n",
    "\"\"\")\n",
    "con.commit()"
   ]
  },
  {
   "cell_type": "code",
   "execution_count": 17,
   "metadata": {},
   "outputs": [
    {
     "name": "stdout",
     "output_type": "stream",
     "text": [
      "[]\n"
     ]
    }
   ],
   "source": [
    "# show state of approximation simulations\n",
    "cur.execute(\"SELECT * FROM beta_approximations\")\n",
    "print(cur.fetchall())"
   ]
  },
  {
   "cell_type": "markdown",
   "metadata": {},
   "source": [
    "## Neural Network Interpolation"
   ]
  },
  {
   "cell_type": "markdown",
   "metadata": {},
   "source": [
    "## Clean up "
   ]
  },
  {
   "cell_type": "code",
   "execution_count": 24,
   "metadata": {},
   "outputs": [],
   "source": [
    "know_what_you_do = True\n",
    "if know_what_you_do:\n",
    "    # add previous simulations and their locations to the database\n",
    "    params={'N':1000, 'K':100, 'lambda':0.9, 'mu':0.2, 'h':0.01, 'seed':1000, 'raw_file':'path'}\n",
    "    insert_from_dict(con, cur, 'simulations', params)\n",
    "    pass"
   ]
  },
  {
   "cell_type": "code",
   "execution_count": 11,
   "metadata": {},
   "outputs": [],
   "source": [
    "con.close()"
   ]
  },
  {
   "cell_type": "code",
   "execution_count": null,
   "metadata": {},
   "outputs": [],
   "source": []
  }
 ],
 "metadata": {
  "kernelspec": {
   "display_name": "finite-observation",
   "language": "python",
   "name": "python3"
  },
  "language_info": {
   "codemirror_mode": {
    "name": "ipython",
    "version": 3
   },
   "file_extension": ".py",
   "mimetype": "text/x-python",
   "name": "python",
   "nbconvert_exporter": "python",
   "pygments_lexer": "ipython3",
   "version": "3.11.6"
  }
 },
 "nbformat": 4,
 "nbformat_minor": 2
}
