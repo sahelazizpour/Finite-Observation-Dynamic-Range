{
 "cells": [
  {
   "cell_type": "code",
   "execution_count": 24,
   "metadata": {},
   "outputs": [
    {
     "name": "stdout",
     "output_type": "stream",
     "text": [
      "The autoreload extension is already loaded. To reload it, use:\n",
      "  %reload_ext autoreload\n"
     ]
    }
   ],
   "source": [
    "import sqlite3\n",
    "import pandas as pd\n",
    "\n",
    "import os, sys\n",
    "rootpath = os.path.join(os.getcwd(), '.')\n",
    "sys.path.append(rootpath)\n",
    "from src.utils import *\n",
    "# reimport modules if they change\n",
    "%load_ext autoreload\n",
    "%autoreload 2"
   ]
  },
  {
   "cell_type": "code",
   "execution_count": 25,
   "metadata": {},
   "outputs": [],
   "source": [
    "# connect to the database (create file if not exists)\n",
    "con = sqlite3.connect('./simulations.db')\n",
    "# create a cursor object\n",
    "cur = con.cursor()"
   ]
  },
  {
   "cell_type": "markdown",
   "metadata": {},
   "source": [
    "## Simulations"
   ]
  },
  {
   "cell_type": "code",
   "execution_count": 27,
   "metadata": {},
   "outputs": [],
   "source": [
    "# create table that does not allow duplicates\n",
    "cur.execute(\"\"\"\n",
    "CREATE TABLE IF NOT EXISTS simulations (\n",
    "            simulation_id integer PRIMARY KEY,\n",
    "            N int NOT NULL,\n",
    "            K int NOT NULL,\n",
    "            lambda float NOT NULL,\n",
    "            mu float NOT NULL,\n",
    "            h float NOT NULL,\n",
    "            window float NOT NULL,\n",
    "            seed int NOT NULL,\n",
    "            raw_file TEXT NOT NULL,\n",
    "            dataset TEXT NOT NULL\n",
    "            )\n",
    "\"\"\")\n",
    "cur.execute(\"CREATE UNIQUE INDEX IF NOT EXISTS parameters ON simulations (N,K,lambda,mu,h,window,seed);\")\n",
    "# can be dropped with cur.execute(\"DROP INDEX parameters;\") if needs to be redesigned\n",
    "con.commit()"
   ]
  },
  {
   "cell_type": "code",
   "execution_count": null,
   "metadata": {},
   "outputs": [],
   "source": []
  },
  {
   "cell_type": "code",
   "execution_count": 30,
   "metadata": {},
   "outputs": [
    {
     "name": "stdout",
     "output_type": "stream",
     "text": [
      "   simulation_id      N    K  lambda   mu        h  window  seed  \\\n",
      "0              1  10000  100     0.9  0.2  0.00001     1.0  1000   \n",
      "\n",
      "                                            raw_file      dataset  \n",
      "0  ./dat//N=10000_K=100/1-lambda=1.00e-01/simulat...  samples/1.0  \n"
     ]
    }
   ],
   "source": [
    "# show the simulations\n",
    "# cur.execute(\"SELECT * FROM simulations\")\n",
    "# print(cur.fetchall())\n",
    "simulations = pd.read_sql_query(\"SELECT * FROM simulations\", con)\n",
    "print(simulations)"
   ]
  },
  {
   "cell_type": "markdown",
   "metadata": {},
   "source": [
    "## Beta Approximation"
   ]
  },
  {
   "cell_type": "code",
   "execution_count": 29,
   "metadata": {},
   "outputs": [],
   "source": [
    "# create table that does not allow duplicates\n",
    "cur.execute(\"\"\"\n",
    "CREATE TABLE IF NOT EXISTS beta_approximations (\n",
    "            simulation_id INTEGER NOT NULL UNIQUE,\n",
    "            a float NOT NULL,\n",
    "            b float NOT NULL,\n",
    "            loc float NOT NULL,\n",
    "            scale float NOT NULL,\n",
    "            FOREIGN KEY (simulation_id) REFERENCES simulations (simulation_id)\n",
    "            )\n",
    "\"\"\")\n",
    "con.commit()"
   ]
  },
  {
   "cell_type": "code",
   "execution_count": 13,
   "metadata": {},
   "outputs": [
    {
     "name": "stdout",
     "output_type": "stream",
     "text": [
      "[]\n"
     ]
    }
   ],
   "source": [
    "# show state of approximation simulations\n",
    "cur.execute(\"SELECT * FROM beta_approximations\")\n",
    "print(cur.fetchall())"
   ]
  },
  {
   "cell_type": "markdown",
   "metadata": {},
   "source": [
    "## Neural Network Interpolation"
   ]
  },
  {
   "cell_type": "markdown",
   "metadata": {},
   "source": [
    "## Clean up "
   ]
  },
  {
   "cell_type": "code",
   "execution_count": 24,
   "metadata": {},
   "outputs": [],
   "source": [
    "know_what_you_do = True\n",
    "if know_what_you_do:\n",
    "    # add previous simulations and their locations to the database\n",
    "    path_simulations='/scratch02.local/johannes/projects/sahel_finite-observation-dynamic-range/'\n",
    "\n",
    "    pass"
   ]
  },
  {
   "cell_type": "code",
   "execution_count": 11,
   "metadata": {},
   "outputs": [],
   "source": [
    "con.close()"
   ]
  },
  {
   "cell_type": "code",
   "execution_count": null,
   "metadata": {},
   "outputs": [],
   "source": []
  }
 ],
 "metadata": {
  "kernelspec": {
   "display_name": "finite-observation",
   "language": "python",
   "name": "python3"
  },
  "language_info": {
   "codemirror_mode": {
    "name": "ipython",
    "version": 3
   },
   "file_extension": ".py",
   "mimetype": "text/x-python",
   "name": "python",
   "nbconvert_exporter": "python",
   "pygments_lexer": "ipython3",
   "version": "3.11.7"
  }
 },
 "nbformat": 4,
 "nbformat_minor": 2
}
