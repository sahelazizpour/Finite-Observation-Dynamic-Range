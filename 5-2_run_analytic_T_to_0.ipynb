{
 "cells": [
  {
   "cell_type": "code",
   "execution_count": 1,
   "metadata": {},
   "outputs": [],
   "source": [
    "import scipy\n",
    "import numpy as np\n",
    "import matplotlib.pyplot as plt\n",
    "from tqdm import tqdm\n",
    "\n",
    "import os, sys\n",
    "rootpath = os.path.join(os.getcwd(), '.')\n",
    "sys.path.append(rootpath)\n",
    "from src.simulation import *\n",
    "from src.approximation import *\n",
    "from src.theory import *\n",
    "# reimport modules if they change\n",
    "%load_ext autoreload\n",
    "%autoreload 2"
   ]
  },
  {
   "cell_type": "markdown",
   "metadata": {},
   "source": [
    "# Numerically evaluate the solution to the Fokker Planck solution\n",
    "\n",
    "This is done for integer values of the activity $x$ taking the continuum limit in time $t\\to 0$, i.e, looking at the instantaneous number of active neurons in the coupled system"
   ]
  },
  {
   "cell_type": "code",
   "execution_count": 2,
   "metadata": {},
   "outputs": [],
   "source": [
    "# IMPORTANT: this is the resolution and range of lambda for the plots\n",
    "lams_0 = 1 - 10 ** np.linspace(0, -4, 64 + 1)"
   ]
  },
  {
   "cell_type": "markdown",
   "metadata": {},
   "source": [
    "The rest should be left untouched, focusing on one example of $\\epsilon$ and $\\sigma$ in the paper."
   ]
  },
  {
   "cell_type": "code",
   "execution_count": 3,
   "metadata": {},
   "outputs": [],
   "source": [
    "# specify system parameters\n",
    "params = {\n",
    "    'N': 10000, # number of nodes\n",
    "    'K': 100, # number of connections per node\n",
    "    'mu': 0.2, # fraction of nodes that receive input\n",
    "}\n",
    "params['epsilon'] = 0.1\n",
    "params['sigma'] = 0.01\n",
    "dt = 1 #fixed time step\n",
    "\n",
    "filename = f\"dat/results_to0_N{params['N']}_K{params['K']}_mu{params['mu']}_epsilon{params['epsilon']}_sigma{params['sigma']}.txt\""
   ]
  },
  {
   "cell_type": "code",
   "execution_count": 4,
   "metadata": {},
   "outputs": [
    {
     "name": "stdout",
     "output_type": "stream",
     "text": [
      "\u001b[0;31mSignature:\u001b[0m \u001b[0mpmf_from_coupled_fokker_planck\u001b[0m\u001b[0;34m(\u001b[0m\u001b[0mparams\u001b[0m\u001b[0;34m,\u001b[0m \u001b[0mh\u001b[0m\u001b[0;34m,\u001b[0m \u001b[0mlam\u001b[0m\u001b[0;34m)\u001b[0m\u001b[0;34m\u001b[0m\u001b[0;34m\u001b[0m\u001b[0m\n",
      "\u001b[0;31mDocstring:\u001b[0m\n",
      "Solution to the Mean-field coupled Fokker-Planck equations. \n",
      "1.1) compute solution of FP equation of the part that receives input assuming a mean-field coupling to the recurrently coupled rest\n",
      "$$ p_rec(x_in) = \\lambda \frac{x_in + x_rest} {N} = \\lambda\frac{x_in/N}{\\left(1-(1-\\mu\\lambda)\right)}$$\n",
      "from mean-field assumption\n",
      "$$ x_rest = \frac{(1-\\mu)\\lambda x_in}{1-(1-\\mu)\\lambda}$$ \n",
      "\n",
      "1.2) compute solution of FP equation for the part that does not receive input assuming a mean-field coupling to the input part\n",
      "$$ p_rec(x_rest) = \\lambda \frac{x_in + x_rest} {N} = \\lambda\frac{x_rest/N + \\mu p_\\mathrm{ext}}{\\left(1-\\mu\\lambda(1-p_\\mathrm{ext})\right)}$$\n",
      "with \n",
      "$$ x_in = \\mu\frac{N p_\\mathrm{ext} + \\lambda (1-p_\\mathrm{ext}) x_\\mathrm{rest}}{1-\\mu\\lambda(1-p_\\mathrm{ext})} $$\n",
      "2) convolution of the two solutions to obtain the full pmf\n",
      "\u001b[0;31mFile:\u001b[0m      ~/git/projects/sahel_finite-observation-dynamic-range/src/theory.py\n",
      "\u001b[0;31mType:\u001b[0m      function"
     ]
    }
   ],
   "source": [
    "?pmf_from_coupled_fokker_planck"
   ]
  },
  {
   "cell_type": "code",
   "execution_count": 5,
   "metadata": {},
   "outputs": [],
   "source": [
    "# result = analysis_beta_approximation(params_results, list_lambda, args.database)\n",
    "support_bound = int(params[\"N\"] * (1 + 4 * params[\"sigma\"]))\n",
    "fp_support = np.arange(-support_bound, support_bound + 1)\n",
    "fp_pmf = np.zeros_like(fp_support, dtype=np.float64)\n",
    "fp_pmf_norm = stats.norm.pdf(fp_support, 0, params[\"N\"] * params[\"sigma\"])\n",
    "\n",
    "\n",
    "def fp_pmf_noise(lam, h):\n",
    "    x, pmf = pmf_from_coupled_fokker_planck(params, h=h, lam=lam)\n",
    "    mask = np.where(np.isin(fp_support, x))\n",
    "    fp_pmf[mask] = pmf\n",
    "    # convolution with normal distribution\n",
    "    return np.convolve(fp_pmf, fp_pmf_norm, mode=\"same\")\n",
    "\n",
    "\n",
    "def analyse(lam, verbose=False):\n",
    "    pmf_o_given_h = lambda h: fp_pmf_noise(lam, h)\n",
    "\n",
    "    # determine h range self-consistently from mean-field solution\n",
    "    # for low h, assume a population that receives mu*h!\n",
    "    # a = 1 - (1-lambda*a)(1-p_ext) st. (1-p_ext) = exp(-mu*h) = (1-a)/(1-lambda*a)\n",
    "    a_min = 0.1*params[\"sigma\"] * params[\"mu\"]\n",
    "    #h_left = -np.log((1 - a_min) / (1 - lam * params[\"mu\"] * a_min))\n",
    "    h_left = -np.log((1 - a_min) / (1 - lam * a_min))/params[\"mu\"]\n",
    "    # for high h, we can assume a_in = a such that a_in = a = 1-(1-lambda*a)(1-p_ext) and (1-p_ext) = exp(-h) = (1-a)/(a-lambda*a)\n",
    "    a_max = 1 - 0.1*params[\"sigma\"]\n",
    "    h_right = -np.log((1 - a_max) / (1 - lam * a_max))\n",
    "    h_range = (h_left, h_right)\n",
    "    if verbose:\n",
    "        print(f\"lambda: {lam}, h_range: {h_range}\")\n",
    "    if h_range[0] >= h_range[1]:\n",
    "        return lam, np.nan, np.nan\n",
    "\n",
    "    # reference distributions\n",
    "    ref_left = stats.norm.pdf(\n",
    "        fp_support,\n",
    "        params[\"N\"] * mean_field_activity(lam, params[\"mu\"], h=0),\n",
    "        params[\"N\"] * params[\"sigma\"],\n",
    "    )\n",
    "    ref_right = stats.norm.pdf(\n",
    "        fp_support,\n",
    "        params[\"N\"] * mean_field_activity(lam, params[\"mu\"], h=np.inf),\n",
    "        params[\"N\"] * params[\"sigma\"],\n",
    "    )\n",
    "    pmf_refs = [ref_left, ref_right]\n",
    "\n",
    "    hs_left = find_discriminable_inputs(\n",
    "        pmf_o_given_h,\n",
    "        h_range,\n",
    "        pmf_refs,\n",
    "        params[\"epsilon\"],\n",
    "        start=\"left\",\n",
    "        verbose=verbose,\n",
    "    )\n",
    "    hs_right = find_discriminable_inputs(\n",
    "        pmf_o_given_h,\n",
    "        h_range,\n",
    "        pmf_refs,\n",
    "        params[\"epsilon\"],\n",
    "        start=\"right\",\n",
    "        verbose=verbose,\n",
    "    )\n",
    "    if len(hs_left) > 0 and len(hs_right) > 0:\n",
    "        return (\n",
    "            lam,\n",
    "            0.5 * (len(hs_left) + len(hs_right)),\n",
    "            dynamic_range((hs_left[0], hs_right[0])),\n",
    "        )\n",
    "    else:\n",
    "        return lam, np.nan, np.nan"
   ]
  },
  {
   "cell_type": "code",
   "execution_count": 6,
   "metadata": {},
   "outputs": [
    {
     "name": "stdout",
     "output_type": "stream",
     "text": [
      "lambda: 0, h_range: (0.0010001000133352234, 6.907755278982136)\n",
      "possible solution: h=0.1382503364360633 with overlap to end of 2.320625083643081e-18 ... accepted\n",
      "possible solution: h=0.3000362281999911 with overlap to end of 1.0695878292488262e-13 ... accepted\n",
      "possible solution: h=0.49444269155849335 with overlap to end of 8.176529956131927e-10 ... accepted\n",
      "possible solution: h=0.7367477338663413 with overlap to end of 1.1174280362267015e-06 ... accepted\n",
      "possible solution: h=1.057000616297903 with overlap to end of 0.0002918830676612157 ... accepted\n",
      "possible solution: h=1.5286608574686036 with overlap to end of 0.015670663967609536 ... accepted\n",
      "possible solution: h=2.440870070107864 with overlap to end of 0.19217273348529537 ... rejected\n",
      "possible solution: h=2.0509187269479803 with overlap to end of 2.3168017093885e-18 ... accepted\n",
      "possible solution: h=1.3520774245701934 with overlap to end of 1.068369993444748e-13 ... accepted\n",
      "possible solution: h=0.9426841951189597 with overlap to end of 8.170582310215015e-10 ... accepted\n",
      "possible solution: h=0.6523456870809615 with overlap to end of 1.1169562242711682e-06 ... accepted\n",
      "possible solution: h=0.4277178028018554 with overlap to end of 0.00029182452814661367 ... accepted\n",
      "possible solution: h=0.2450456799734383 with overlap to end of 0.01566979390620085 ... accepted\n",
      "possible solution: h=0.09166191973318294 with overlap to end of 0.19217525286557396 ... rejected\n"
     ]
    },
    {
     "data": {
      "text/plain": [
       "(0, 6.0, 11.712822538017637)"
      ]
     },
     "execution_count": 6,
     "metadata": {},
     "output_type": "execute_result"
    }
   ],
   "source": [
    "#check for lam=0\n",
    "analyse(lam=0, verbose=True)"
   ]
  },
  {
   "cell_type": "code",
   "execution_count": 7,
   "metadata": {},
   "outputs": [
    {
     "name": "stdout",
     "output_type": "stream",
     "text": [
      "lambda: 0.99, h_range: (1.0001990395668491e-05, 2.3969857684155342)\n",
      "possible solution: h=0.0017584030902946777 with overlap to end of 5.7616414498947094e-86 ... accepted\n",
      "possible solution: h=0.004767098645091182 with overlap to end of 3.48854516246586e-77 ... accepted\n",
      "possible solution: h=0.009211181125672575 with overlap to end of 2.9902023280776675e-68 ... accepted\n",
      "possible solution: h=0.01533196385975883 with overlap to end of 1.93652147980222e-59 ... accepted\n",
      "possible solution: h=0.023475923501833987 with overlap to end of 5.818759205605476e-51 ... accepted\n",
      "possible solution: h=0.034127730156311646 with overlap to end of 5.770031814793997e-43 ... accepted\n",
      "possible solution: h=0.04796486833427315 with overlap to end of 1.4827332647104854e-35 ... accepted\n",
      "possible solution: h=0.06594859296212935 with overlap to end of 8.342985260531983e-29 ... accepted\n",
      "possible solution: h=0.08948211871652771 with overlap to end of 9.15509356067269e-23 ... accepted\n",
      "possible solution: h=0.12070300570738327 with overlap to end of 1.8231780798441158e-17 ... accepted\n",
      "possible solution: h=0.16306661733750122 with overlap to end of 6.361943786005174e-13 ... accepted\n",
      "possible solution: h=0.22262994582988166 with overlap to end of 3.8785309200013866e-09 ... accepted\n",
      "possible solution: h=0.31127716700101915 with overlap to end of 4.229490992067151e-06 ... accepted\n",
      "possible solution: h=0.45655412572754006 with overlap to end of 0.0008625201993071991 ... accepted\n",
      "possible solution: h=0.7432881241052413 with overlap to end of 0.035032688856098324 ... accepted\n",
      "possible solution: h=1.712005600545504 with overlap to end of 0.31463912517544346 ... rejected\n",
      "possible solution: h=0.9615126705682745 with overlap to end of 2.2221752e-316 ... accepted\n",
      "possible solution: h=0.5447458801179589 with overlap to end of 5.683225448963576e-254 ... accepted\n",
      "possible solution: h=0.3599282837688198 with overlap to end of 6.83740727910347e-205 ... accepted\n",
      "possible solution: h=0.25353780518788327 with overlap to end of 7.288911718070348e-165 ... accepted\n",
      "possible solution: h=0.18431170408199377 with overlap to end of 1.512683933939956e-131 ... accepted\n",
      "possible solution: h=0.13602469454762214 with overlap to end of 1.3878887271264944e-103 ... accepted\n",
      "possible solution: h=0.1008734112076166 with overlap to end of 3.947940217335726e-80 ... accepted\n",
      "possible solution: h=0.0745822960233309 with overlap to end of 1.3539801184662195e-60 ... accepted\n",
      "possible solution: h=0.05458301621849916 with overlap to end of 1.5673351162382314e-44 ... accepted\n",
      "possible solution: h=0.03922540395012542 with overlap to end of 1.4407778457853758e-31 ... accepted\n",
      "possible solution: h=0.02739610150088547 with overlap to end of 2.2395039510028637e-21 ... accepted\n",
      "possible solution: h=0.018318033356120693 with overlap to end of 1.1902989726744176e-13 ... accepted\n",
      "possible solution: h=0.011437655475464636 with overlap to end of 4.279384827133285e-08 ... accepted\n",
      "possible solution: h=0.006358275300544964 with overlap to end of 0.00020960399127429555 ... accepted\n",
      "possible solution: h=0.0027994224650655787 with overlap to end of 0.03020372225758478 ... accepted\n",
      "possible solution: h=0.0005774436535855545 with overlap to end of 0.31905297694800006 ... rejected\n"
     ]
    },
    {
     "data": {
      "text/plain": [
       "(0.99, 15.0, 27.378365733056658)"
      ]
     },
     "execution_count": 7,
     "metadata": {},
     "output_type": "execute_result"
    }
   ],
   "source": [
    "# check for lam=0.99\n",
    "analyse(lam=0.99, verbose=True)"
   ]
  },
  {
   "cell_type": "code",
   "execution_count": 8,
   "metadata": {},
   "outputs": [
    {
     "name": "stdout",
     "output_type": "stream",
     "text": [
      "lambda: 0.9999, h_range: (1.0002000272577614e-07, 0.09521926658097167)\n"
     ]
    },
    {
     "name": "stdout",
     "output_type": "stream",
     "text": [
      "possible solution: h=0.0001520911402666212 with overlap to end of 0.0002378227240814731 ... accepted\n",
      "possible solution: h=0.0017872251580803166 with overlap to end of 0.015222453649935885 ... accepted\n",
      "possible solution: h=0.017193510385880757 with overlap to end of 0.18918719958502897 ... rejected\n",
      "possible solution: h=0.008176087326179941 with overlap to end of 8.096300503086297e-27 ... accepted\n",
      "possible solution: h=0.0008452828142372331 with overlap to end of 7.911336542127317e-05 ... accepted\n",
      "possible solution: h=8.096479893860252e-05 with overlap to end of 0.23527329369530936 ... rejected\n"
     ]
    },
    {
     "data": {
      "text/plain": [
       "(0.9999, 2.0, 17.30441605451969)"
      ]
     },
     "execution_count": 8,
     "metadata": {},
     "output_type": "execute_result"
    }
   ],
   "source": [
    "# check for lam=0.9999\n",
    "analyse(lam=0.9999, verbose=True)"
   ]
  },
  {
   "cell_type": "code",
   "execution_count": 9,
   "metadata": {},
   "outputs": [
    {
     "name": "stderr",
     "output_type": "stream",
     "text": [
      "100%|██████████| 65/65 [50:26<00:00, 46.56s/it]   \n"
     ]
    }
   ],
   "source": [
    "from dask.distributed import Client, LocalCluster, as_completed\n",
    "# execute independent lambda computations in parallel with dask\n",
    "cluster = LocalCluster()\n",
    "dask_client = Client(cluster)\n",
    "\n",
    "futures = dask_client.map(analyse, lams_0)\n",
    "\n",
    "# run analysis\n",
    "data = []\n",
    "for future in tqdm(as_completed(futures), total=len(lams_0)):\n",
    "    data.append(future.result())\n",
    "\n",
    "# sort data by first column\n",
    "data = np.array(sorted(data, key=lambda x: x[0]))"
   ]
  },
  {
   "cell_type": "code",
   "execution_count": 10,
   "metadata": {},
   "outputs": [
    {
     "data": {
      "text/plain": [
       "array([[ 0.        ,  6.        , 11.71282254],\n",
       "       [ 0.13403568,  7.        , 12.52555317],\n",
       "       [ 0.25010579,  8.        , 13.31517791],\n",
       "       [ 0.35061837,  9.        , 14.07835472],\n",
       "       [ 0.43765867, 10.        , 14.81663696],\n",
       "       [ 0.51303247, 11.        , 15.53138752],\n",
       "       [ 0.5783035 , 12.        , 16.22380233],\n",
       "       [ 0.63482587, 13.        , 16.89498487],\n",
       "       [ 0.68377223, 14.        , 17.54590445],\n",
       "       [ 0.72615804, 15.        , 18.17731947],\n",
       "       [ 0.76286263, 16.        , 18.78993542],\n",
       "       [ 0.7946475 , 17.        , 19.38424776],\n",
       "       [ 0.82217206, 17.        , 19.96070874],\n",
       "       [ 0.84600735, 18.        , 20.51955554],\n",
       "       [ 0.86664786, 18.        , 21.06099198],\n",
       "       [ 0.8845218 , 19.        , 21.58492687],\n",
       "       [ 0.9       , 19.        , 22.0912602 ],\n",
       "       [ 0.91340357, 20.        , 22.57987901],\n",
       "       [ 0.92501058, 20.        , 23.05034561],\n",
       "       [ 0.93506184, 20.        , 23.50226391],\n",
       "       [ 0.94376587, 20.        , 23.93511615],\n",
       "       [ 0.95130325, 20.        , 24.34833358],\n",
       "       [ 0.95783035, 20.        , 24.74114208],\n",
       "       [ 0.96348259, 19.        , 25.11294288],\n",
       "       [ 0.96837722, 19.        , 25.46285454],\n",
       "       [ 0.9726158 , 19.        , 25.79006767],\n",
       "       [ 0.97628626, 18.        , 26.09378203],\n",
       "       [ 0.97946475, 18.        , 26.37313973],\n",
       "       [ 0.98221721, 17.        , 26.62737828],\n",
       "       [ 0.98460073, 17.        , 26.85569805],\n",
       "       [ 0.98666479, 16.        , 27.05738315],\n",
       "       [ 0.98845218, 15.        , 27.23179054],\n",
       "       [ 0.99      , 15.        , 27.37836573],\n",
       "       [ 0.99134036, 14.        , 27.4966691 ],\n",
       "       [ 0.99250106, 14.        , 27.58644359],\n",
       "       [ 0.99350618, 13.        , 27.64740148],\n",
       "       [ 0.99437659, 13.        , 27.6794067 ],\n",
       "       [ 0.99513032, 12.        , 27.6826567 ],\n",
       "       [ 0.99578303, 11.        , 27.65708481],\n",
       "       [ 0.99634826, 11.        , 27.60305816],\n",
       "       [ 0.99683772, 10.        , 27.52071163],\n",
       "       [ 0.99726158, 10.        , 27.41048224],\n",
       "       [ 0.99762863,  9.        , 27.27265012],\n",
       "       [ 0.99794647,  9.        , 27.10757384],\n",
       "       [ 0.99822172,  8.        , 26.91560167],\n",
       "       [ 0.99846007,  8.        , 26.69708741],\n",
       "       [ 0.99866648,  7.        , 26.45230786],\n",
       "       [ 0.99884522,  7.        , 26.18140209],\n",
       "       [ 0.999     ,  7.        , 25.8846651 ],\n",
       "       [ 0.99913404,  6.        , 25.56205132],\n",
       "       [ 0.99925011,  6.        , 25.21356179],\n",
       "       [ 0.99935062,  5.        , 24.83913648],\n",
       "       [ 0.99943766,  5.        , 24.43849222],\n",
       "       [ 0.99951303,  5.        , 24.01118623],\n",
       "       [ 0.9995783 ,  4.        , 23.55669526],\n",
       "       [ 0.99963483,  4.        , 23.07437502],\n",
       "       [ 0.99968377,  4.        , 22.56333503],\n",
       "       [ 0.99972616,  4.        , 22.0225971 ],\n",
       "       [ 0.99976286,  3.        , 21.45098375],\n",
       "       [ 0.99979465,  3.        , 20.84734336],\n",
       "       [ 0.99982217,  3.        , 20.21027645],\n",
       "       [ 0.99984601,  3.        , 19.53855264],\n",
       "       [ 0.99986665,  3.        , 18.83093411],\n",
       "       [ 0.99988452,  2.        , 18.08647343],\n",
       "       [ 0.9999    ,  2.        , 17.30441605]])"
      ]
     },
     "execution_count": 10,
     "metadata": {},
     "output_type": "execute_result"
    }
   ],
   "source": [
    "data"
   ]
  },
  {
   "cell_type": "code",
   "execution_count": 11,
   "metadata": {},
   "outputs": [],
   "source": [
    "os.makedirs(os.path.dirname(filename), exist_ok=True)\n",
    "# save data to file\n",
    "np.savetxt(\n",
    "    filename,\n",
    "    data,\n",
    "    delimiter=\"\\t\",\n",
    "    header=\"#lambda\\tnumber of discriminable inputs\\tdynamic_range\",\n",
    "    comments=\"\",\n",
    ")"
   ]
  },
  {
   "cell_type": "code",
   "execution_count": null,
   "metadata": {},
   "outputs": [],
   "source": []
  }
 ],
 "metadata": {
  "kernelspec": {
   "display_name": "finite-observation",
   "language": "python",
   "name": "python3"
  },
  "language_info": {
   "codemirror_mode": {
    "name": "ipython",
    "version": 3
   },
   "file_extension": ".py",
   "mimetype": "text/x-python",
   "name": "python",
   "nbconvert_exporter": "python",
   "pygments_lexer": "ipython3",
   "version": "3.11.6"
  }
 },
 "nbformat": 4,
 "nbformat_minor": 2
}
